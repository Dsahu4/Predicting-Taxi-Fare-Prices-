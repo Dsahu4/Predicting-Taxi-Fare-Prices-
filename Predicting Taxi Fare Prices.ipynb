{
 "cells": [
  {
   "cell_type": "code",
   "execution_count": 1,
   "id": "97e33b9a",
   "metadata": {
    "_cell_guid": "b1076dfc-b9ad-4769-8c92-a6c4dae69d19",
    "_uuid": "8f2839f25d086af736a60e9eeb907d3b93b6e0e5",
    "execution": {
     "iopub.execute_input": "2023-06-27T15:10:16.107289Z",
     "iopub.status.busy": "2023-06-27T15:10:16.106426Z",
     "iopub.status.idle": "2023-06-27T15:10:16.140291Z",
     "shell.execute_reply": "2023-06-27T15:10:16.139218Z"
    },
    "papermill": {
     "duration": 0.06297,
     "end_time": "2023-06-27T15:10:16.142719",
     "exception": false,
     "start_time": "2023-06-27T15:10:16.079749",
     "status": "completed"
    },
    "tags": []
   },
   "outputs": [],
   "source": [
    "\n",
    "import numpy as np # linear algebra\n",
    "import pandas as pd # data processing, CSV file I/O (e.g. pd.read_csv)\n"
   ]
  },
  {
   "cell_type": "markdown",
   "id": "6c6a0066",
   "metadata": {
    "papermill": {
     "duration": 0.024494,
     "end_time": "2023-06-27T15:10:16.191958",
     "exception": false,
     "start_time": "2023-06-27T15:10:16.167464",
     "status": "completed"
    },
    "tags": []
   },
   "source": [
    "* ⏱️ 'trip_duration': How long did the journey last?[in Seconds]\n",
    "* 🛣️ 'distance_traveled': How far did the taxi travel?[in Km]\n",
    "* 🧑‍🤝‍🧑 'num_of_passengers': How many passengers were in the taxi?\n",
    "* 💵 'fare': What's the base fare for the journey?[In INR]\n",
    "* 💲 'tip': How much did the driver receive in tips?[In INR]\n",
    "* 🎀 'miscellaneous_fees': Were there any additional charges during the trip?e.g. tolls, convenience fees, GST\n",
    "* etc.[In INR]\n",
    "* 💰 'total_fare': The grand total for the ride (this is your prediction target!).[In INR]\n",
    "* ⚡ 'surge_applied': Was there a surge pricing applied? Yes or no?"
   ]
  },
  {
   "cell_type": "code",
   "execution_count": 2,
   "id": "888ef446",
   "metadata": {
    "execution": {
     "iopub.execute_input": "2023-06-27T15:10:16.250538Z",
     "iopub.status.busy": "2023-06-27T15:10:16.249753Z",
     "iopub.status.idle": "2023-06-27T15:10:18.326845Z",
     "shell.execute_reply": "2023-06-27T15:10:18.325751Z"
    },
    "papermill": {
     "duration": 2.110332,
     "end_time": "2023-06-27T15:10:18.329402",
     "exception": false,
     "start_time": "2023-06-27T15:10:16.219070",
     "status": "completed"
    },
    "tags": []
   },
   "outputs": [],
   "source": [
    "import pandas as pd\n",
    "import numpy as np\n",
    "import seaborn as sns\n",
    "import matplotlib.pyplot as plt\n",
    "import warnings\n",
    "warnings.filterwarnings('ignore')\n",
    "\n",
    "from sklearn.linear_model import LinearRegression\n",
    "from sklearn.metrics import r2_score, mean_absolute_error, mean_squared_error\n",
    "from sklearn.model_selection import train_test_split\n",
    "from sklearn.preprocessing import MinMaxScaler\n",
    "from sklearn.ensemble import RandomForestRegressor\n",
    "import xgboost as xgb"
   ]
  },
  {
   "cell_type": "code",
   "execution_count": 3,
   "id": "efbac36a",
   "metadata": {
    "execution": {
     "iopub.execute_input": "2023-06-27T15:10:18.379339Z",
     "iopub.status.busy": "2023-06-27T15:10:18.378979Z",
     "iopub.status.idle": "2023-06-27T15:10:18.779380Z",
     "shell.execute_reply": "2023-06-27T15:10:18.778235Z"
    },
    "papermill": {
     "duration": 0.429086,
     "end_time": "2023-06-27T15:10:18.782627",
     "exception": false,
     "start_time": "2023-06-27T15:10:18.353541",
     "status": "completed"
    },
    "tags": []
   },
   "outputs": [
    {
     "name": "stdout",
     "output_type": "stream",
     "text": [
      "Loaded dataset\n"
     ]
    }
   ],
   "source": [
    "train_df = pd.read_csv('taxi_train.csv')\n",
    "test_df = pd.read_csv('taxi_test.csv')\n",
    "print(\"Loaded dataset\")"
   ]
  },
  {
   "cell_type": "code",
   "execution_count": 4,
   "id": "e7399502",
   "metadata": {
    "execution": {
     "iopub.execute_input": "2023-06-27T15:10:18.838724Z",
     "iopub.status.busy": "2023-06-27T15:10:18.838100Z",
     "iopub.status.idle": "2023-06-27T15:10:18.868989Z",
     "shell.execute_reply": "2023-06-27T15:10:18.867852Z"
    },
    "papermill": {
     "duration": 0.059416,
     "end_time": "2023-06-27T15:10:18.871902",
     "exception": false,
     "start_time": "2023-06-27T15:10:18.812486",
     "status": "completed"
    },
    "tags": []
   },
   "outputs": [
    {
     "data": {
      "text/html": [
       "<div>\n",
       "<style scoped>\n",
       "    .dataframe tbody tr th:only-of-type {\n",
       "        vertical-align: middle;\n",
       "    }\n",
       "\n",
       "    .dataframe tbody tr th {\n",
       "        vertical-align: top;\n",
       "    }\n",
       "\n",
       "    .dataframe thead th {\n",
       "        text-align: right;\n",
       "    }\n",
       "</style>\n",
       "<table border=\"1\" class=\"dataframe\">\n",
       "  <thead>\n",
       "    <tr style=\"text-align: right;\">\n",
       "      <th></th>\n",
       "      <th>trip_duration</th>\n",
       "      <th>distance_traveled</th>\n",
       "      <th>num_of_passengers</th>\n",
       "      <th>fare</th>\n",
       "      <th>tip</th>\n",
       "      <th>miscellaneous_fees</th>\n",
       "      <th>total_fare</th>\n",
       "      <th>surge_applied</th>\n",
       "    </tr>\n",
       "  </thead>\n",
       "  <tbody>\n",
       "    <tr>\n",
       "      <th>0</th>\n",
       "      <td>748.0</td>\n",
       "      <td>2.75</td>\n",
       "      <td>1.0</td>\n",
       "      <td>75.00</td>\n",
       "      <td>24</td>\n",
       "      <td>6.300</td>\n",
       "      <td>105.300</td>\n",
       "      <td>0</td>\n",
       "    </tr>\n",
       "    <tr>\n",
       "      <th>1</th>\n",
       "      <td>1187.0</td>\n",
       "      <td>3.43</td>\n",
       "      <td>1.0</td>\n",
       "      <td>105.00</td>\n",
       "      <td>24</td>\n",
       "      <td>13.200</td>\n",
       "      <td>142.200</td>\n",
       "      <td>0</td>\n",
       "    </tr>\n",
       "    <tr>\n",
       "      <th>2</th>\n",
       "      <td>730.0</td>\n",
       "      <td>3.12</td>\n",
       "      <td>1.0</td>\n",
       "      <td>71.25</td>\n",
       "      <td>0</td>\n",
       "      <td>26.625</td>\n",
       "      <td>97.875</td>\n",
       "      <td>1</td>\n",
       "    </tr>\n",
       "    <tr>\n",
       "      <th>3</th>\n",
       "      <td>671.0</td>\n",
       "      <td>5.63</td>\n",
       "      <td>3.0</td>\n",
       "      <td>90.00</td>\n",
       "      <td>0</td>\n",
       "      <td>9.750</td>\n",
       "      <td>99.750</td>\n",
       "      <td>0</td>\n",
       "    </tr>\n",
       "    <tr>\n",
       "      <th>4</th>\n",
       "      <td>329.0</td>\n",
       "      <td>2.09</td>\n",
       "      <td>1.0</td>\n",
       "      <td>45.00</td>\n",
       "      <td>12</td>\n",
       "      <td>13.200</td>\n",
       "      <td>70.200</td>\n",
       "      <td>0</td>\n",
       "    </tr>\n",
       "  </tbody>\n",
       "</table>\n",
       "</div>"
      ],
      "text/plain": [
       "   trip_duration  distance_traveled  num_of_passengers    fare  tip  \\\n",
       "0          748.0               2.75                1.0   75.00   24   \n",
       "1         1187.0               3.43                1.0  105.00   24   \n",
       "2          730.0               3.12                1.0   71.25    0   \n",
       "3          671.0               5.63                3.0   90.00    0   \n",
       "4          329.0               2.09                1.0   45.00   12   \n",
       "\n",
       "   miscellaneous_fees  total_fare  surge_applied  \n",
       "0               6.300     105.300              0  \n",
       "1              13.200     142.200              0  \n",
       "2              26.625      97.875              1  \n",
       "3               9.750      99.750              0  \n",
       "4              13.200      70.200              0  "
      ]
     },
     "execution_count": 4,
     "metadata": {},
     "output_type": "execute_result"
    }
   ],
   "source": [
    "train_df.head()"
   ]
  },
  {
   "cell_type": "markdown",
   "id": "17601f2e",
   "metadata": {
    "papermill": {
     "duration": 0.023793,
     "end_time": "2023-06-27T15:10:18.926648",
     "exception": false,
     "start_time": "2023-06-27T15:10:18.902855",
     "status": "completed"
    },
    "tags": []
   },
   "source": [
    "# **Trip Duration Analysis**"
   ]
  },
  {
   "cell_type": "code",
   "execution_count": 5,
   "id": "0a4e45d4",
   "metadata": {
    "execution": {
     "iopub.execute_input": "2023-06-27T15:10:18.978139Z",
     "iopub.status.busy": "2023-06-27T15:10:18.977153Z",
     "iopub.status.idle": "2023-06-27T15:10:25.023687Z",
     "shell.execute_reply": "2023-06-27T15:10:25.022630Z"
    },
    "papermill": {
     "duration": 6.075315,
     "end_time": "2023-06-27T15:10:25.026472",
     "exception": false,
     "start_time": "2023-06-27T15:10:18.951157",
     "status": "completed"
    },
    "tags": []
   },
   "outputs": [
    {
     "data": {
      "image/png": "[encoded data removed]",
      "text/plain": [
       "<Figure size 640x480 with 1 Axes>"
      ]
     },
     "metadata": {},
     "output_type": "display_data"
    }
   ],
   "source": [
    "sns.histplot(train_df['trip_duration'])\n",
    "plt.title('Trip Duration (secs) Distribution')\n",
    "plt.xlabel('Seconds')\n",
    "plt.ylabel('Count')\n",
    "plt.show()"
   ]
  },
  {
   "cell_type": "code",
   "execution_count": 6,
   "id": "89376951",
   "metadata": {
    "execution": {
     "iopub.execute_input": "2023-06-27T15:10:25.076915Z",
     "iopub.status.busy": "2023-06-27T15:10:25.076520Z",
     "iopub.status.idle": "2023-06-27T15:10:25.096237Z",
     "shell.execute_reply": "2023-06-27T15:10:25.095124Z"
    },
    "papermill": {
     "duration": 0.047564,
     "end_time": "2023-06-27T15:10:25.098543",
     "exception": false,
     "start_time": "2023-06-27T15:10:25.050979",
     "status": "completed"
    },
    "tags": []
   },
   "outputs": [
    {
     "data": {
      "text/plain": [
       "count    209673.000000\n",
       "mean       1173.181478\n",
       "std        4775.653621\n",
       "min           0.000000\n",
       "25%         446.000000\n",
       "50%         707.000000\n",
       "75%        1098.000000\n",
       "max       86387.000000\n",
       "Name: trip_duration, dtype: float64"
      ]
     },
     "execution_count": 6,
     "metadata": {},
     "output_type": "execute_result"
    }
   ],
   "source": [
    "train_df['trip_duration'].describe() # secs"
   ]
  },
  {
   "cell_type": "markdown",
   "id": "8400b993",
   "metadata": {
    "papermill": {
     "duration": 0.024346,
     "end_time": "2023-06-27T15:10:25.148023",
     "exception": false,
     "start_time": "2023-06-27T15:10:25.123677",
     "status": "completed"
    },
    "tags": []
   },
   "source": [
    "1. Minimum Trip Duration is 0, which might mean cancelled trips. We can think of applying some minute amount for cancellation (Cancellation Fee)\n",
    "2. Most of the trips are 450-1000 sec duration (8-16mins), so mostly in the cities\n",
    "3. Maximum Duration is an outlier - 86400 secs (24 hours trip), so most probably out-of-station trip. These types of trips are outlier (Any reason why?). Do we have to consider it a posibility that such trips happen, if so then this might increase the scope of trip duration in general and might affect the ML model results"
   ]
  },
  {
   "cell_type": "code",
   "execution_count": 7,
   "id": "ed6b4b37",
   "metadata": {
    "execution": {
     "iopub.execute_input": "2023-06-27T15:10:25.198764Z",
     "iopub.status.busy": "2023-06-27T15:10:25.198387Z",
     "iopub.status.idle": "2023-06-27T15:10:25.206662Z",
     "shell.execute_reply": "2023-06-27T15:10:25.205716Z"
    },
    "papermill": {
     "duration": 0.036141,
     "end_time": "2023-06-27T15:10:25.208719",
     "exception": false,
     "start_time": "2023-06-27T15:10:25.172578",
     "status": "completed"
    },
    "tags": []
   },
   "outputs": [
    {
     "data": {
      "text/plain": [
       "3076"
      ]
     },
     "execution_count": 7,
     "metadata": {},
     "output_type": "execute_result"
    }
   ],
   "source": [
    "len(train_df[train_df['trip_duration'] >= 3600]) # secs"
   ]
  },
  {
   "cell_type": "markdown",
   "id": "42f534c2",
   "metadata": {
    "papermill": {
     "duration": 0.024425,
     "end_time": "2023-06-27T15:10:25.257734",
     "exception": false,
     "start_time": "2023-06-27T15:10:25.233309",
     "status": "completed"
    },
    "tags": []
   },
   "source": [
    "# **Distance Travelled Analysis**"
   ]
  },
  {
   "cell_type": "code",
   "execution_count": 8,
   "id": "1b779add",
   "metadata": {
    "execution": {
     "iopub.execute_input": "2023-06-27T15:10:25.310360Z",
     "iopub.status.busy": "2023-06-27T15:10:25.309969Z",
     "iopub.status.idle": "2023-06-27T15:10:26.559270Z",
     "shell.execute_reply": "2023-06-27T15:10:26.558187Z"
    },
    "papermill": {
     "duration": 1.279548,
     "end_time": "2023-06-27T15:10:26.561869",
     "exception": false,
     "start_time": "2023-06-27T15:10:25.282321",
     "status": "completed"
    },
    "tags": []
   },
   "outputs": [
    {
     "data": {
      "image/png": "[encoded data removed]",
      "text/plain": [
       "<Figure size 640x480 with 1 Axes>"
      ]
     },
     "metadata": {},
     "output_type": "display_data"
    }
   ],
   "source": [
    "sns.distplot(train_df['distance_traveled'])\n",
    "plt.title('Distance (KMs) Distribution')\n",
    "plt.xlabel('KMs')\n",
    "plt.ylabel('Count')\n",
    "plt.show()"
   ]
  },
  {
   "cell_type": "code",
   "execution_count": 9,
   "id": "72093ac1",
   "metadata": {
    "execution": {
     "iopub.execute_input": "2023-06-27T15:10:26.615142Z",
     "iopub.status.busy": "2023-06-27T15:10:26.614755Z",
     "iopub.status.idle": "2023-06-27T15:10:26.634402Z",
     "shell.execute_reply": "2023-06-27T15:10:26.633302Z"
    },
    "papermill": {
     "duration": 0.048492,
     "end_time": "2023-06-27T15:10:26.636713",
     "exception": false,
     "start_time": "2023-06-27T15:10:26.588221",
     "status": "completed"
    },
    "tags": []
   },
   "outputs": [
    {
     "data": {
      "text/plain": [
       "count    209673.000000\n",
       "mean          5.054431\n",
       "std         125.217419\n",
       "min           0.020000\n",
       "25%           1.950000\n",
       "50%           3.200000\n",
       "75%           5.730000\n",
       "max       57283.910000\n",
       "Name: distance_traveled, dtype: float64"
      ]
     },
     "execution_count": 9,
     "metadata": {},
     "output_type": "execute_result"
    }
   ],
   "source": [
    "train_df['distance_traveled'].describe()"
   ]
  },
  {
   "cell_type": "markdown",
   "id": "7af08ed0",
   "metadata": {
    "papermill": {
     "duration": 0.024717,
     "end_time": "2023-06-27T15:10:26.686927",
     "exception": false,
     "start_time": "2023-06-27T15:10:26.662210",
     "status": "completed"
    },
    "tags": []
   },
   "source": [
    "1. Minimum distance travelled is 0.02 KMs i.e. 20m, which should not be the case as minimum trip duration is 0secs. Might mean that the data is corrupted\n",
    "2. 57284 is very high number of KMs which might be the trip which had highest duration"
   ]
  },
  {
   "cell_type": "code",
   "execution_count": 10,
   "id": "41cc9aba",
   "metadata": {
    "execution": {
     "iopub.execute_input": "2023-06-27T15:10:26.738724Z",
     "iopub.status.busy": "2023-06-27T15:10:26.738283Z",
     "iopub.status.idle": "2023-06-27T15:10:26.746980Z",
     "shell.execute_reply": "2023-06-27T15:10:26.745760Z"
    },
    "papermill": {
     "duration": 0.037068,
     "end_time": "2023-06-27T15:10:26.749029",
     "exception": false,
     "start_time": "2023-06-27T15:10:26.711961",
     "status": "completed"
    },
    "tags": []
   },
   "outputs": [
    {
     "data": {
      "text/plain": [
       "(21, 8)"
      ]
     },
     "execution_count": 10,
     "metadata": {},
     "output_type": "execute_result"
    }
   ],
   "source": [
    "train_df[train_df['distance_traveled'] >= 100].shape"
   ]
  },
  {
   "cell_type": "code",
   "execution_count": 11,
   "id": "b4187932",
   "metadata": {
    "execution": {
     "iopub.execute_input": "2023-06-27T15:10:26.802536Z",
     "iopub.status.busy": "2023-06-27T15:10:26.802153Z",
     "iopub.status.idle": "2023-06-27T15:10:26.812290Z",
     "shell.execute_reply": "2023-06-27T15:10:26.811218Z"
    },
    "papermill": {
     "duration": 0.039448,
     "end_time": "2023-06-27T15:10:26.814419",
     "exception": false,
     "start_time": "2023-06-27T15:10:26.774971",
     "status": "completed"
    },
    "tags": []
   },
   "outputs": [
    {
     "data": {
      "text/plain": [
       "1762      0.02\n",
       "3074      0.18\n",
       "4108      0.16\n",
       "4535      0.02\n",
       "12418     0.06\n",
       "15019     7.19\n",
       "36462     0.06\n",
       "46617     0.11\n",
       "51024     0.05\n",
       "51257     0.43\n",
       "57763     0.13\n",
       "65008     0.23\n",
       "69620     0.18\n",
       "75746     0.10\n",
       "80323     0.02\n",
       "82499     0.24\n",
       "85904     0.21\n",
       "98332     0.02\n",
       "130369    0.10\n",
       "131446    0.16\n",
       "139456    0.11\n",
       "140179    0.18\n",
       "144462    0.40\n",
       "154787    3.22\n",
       "174252    0.11\n",
       "181260    0.11\n",
       "181484    0.05\n",
       "189435    0.06\n",
       "189685    0.29\n",
       "190278    0.37\n",
       "201019    0.11\n",
       "203692    0.23\n",
       "208249    0.05\n",
       "Name: distance_traveled, dtype: float64"
      ]
     },
     "execution_count": 11,
     "metadata": {},
     "output_type": "execute_result"
    }
   ],
   "source": [
    "# Validation (Edge Cases)\n",
    "train_df[train_df['trip_duration'] == 0]['distance_traveled']"
   ]
  },
  {
   "cell_type": "markdown",
   "id": "2365bc18",
   "metadata": {
    "papermill": {
     "duration": 0.02505,
     "end_time": "2023-06-27T15:10:26.865611",
     "exception": false,
     "start_time": "2023-06-27T15:10:26.840561",
     "status": "completed"
    },
    "tags": []
   },
   "source": [
    "# **Number of Passengers Analysis**"
   ]
  },
  {
   "cell_type": "code",
   "execution_count": 12,
   "id": "ec27511b",
   "metadata": {
    "execution": {
     "iopub.execute_input": "2023-06-27T15:10:26.917977Z",
     "iopub.status.busy": "2023-06-27T15:10:26.917590Z",
     "iopub.status.idle": "2023-06-27T15:10:26.932981Z",
     "shell.execute_reply": "2023-06-27T15:10:26.931957Z"
    },
    "papermill": {
     "duration": 0.044037,
     "end_time": "2023-06-27T15:10:26.935108",
     "exception": false,
     "start_time": "2023-06-27T15:10:26.891071",
     "status": "completed"
    },
    "tags": []
   },
   "outputs": [
    {
     "data": {
      "text/plain": [
       "num_of_passengers\n",
       "0.0       753\n",
       "1.0    179229\n",
       "2.0     17896\n",
       "3.0      2757\n",
       "4.0       908\n",
       "5.0      4713\n",
       "6.0      3382\n",
       "7.0         2\n",
       "8.0        25\n",
       "9.0         8\n",
       "Name: count, dtype: int64"
      ]
     },
     "execution_count": 12,
     "metadata": {},
     "output_type": "execute_result"
    }
   ],
   "source": [
    "train_df['num_of_passengers'].value_counts(dropna=False).sort_index()"
   ]
  },
  {
   "cell_type": "markdown",
   "id": "8e8b8218",
   "metadata": {
    "papermill": {
     "duration": 0.025296,
     "end_time": "2023-06-27T15:10:26.985883",
     "exception": false,
     "start_time": "2023-06-27T15:10:26.960587",
     "status": "completed"
    },
    "tags": []
   },
   "source": [
    "1. Number of passengers can't be zero, there is some corrupted data, might replace all the 0 passengers with base minimum 1, to justify to the model\n",
    "2. Number of passengers being >6 were less because there are more sedans than MUVs and SUVs. Might charge more money if car type changes"
   ]
  },
  {
   "cell_type": "markdown",
   "id": "b6f349e3",
   "metadata": {
    "papermill": {
     "duration": 0.025371,
     "end_time": "2023-06-27T15:10:27.037188",
     "exception": false,
     "start_time": "2023-06-27T15:10:27.011817",
     "status": "completed"
    },
    "tags": []
   },
   "source": [
    "# **Surge Analysis**"
   ]
  },
  {
   "cell_type": "code",
   "execution_count": 13,
   "id": "e1b14d6c",
   "metadata": {
    "execution": {
     "iopub.execute_input": "2023-06-27T15:10:27.090402Z",
     "iopub.status.busy": "2023-06-27T15:10:27.089802Z",
     "iopub.status.idle": "2023-06-27T15:10:27.100416Z",
     "shell.execute_reply": "2023-06-27T15:10:27.099494Z"
    },
    "papermill": {
     "duration": 0.039299,
     "end_time": "2023-06-27T15:10:27.102367",
     "exception": false,
     "start_time": "2023-06-27T15:10:27.063068",
     "status": "completed"
    },
    "tags": []
   },
   "outputs": [
    {
     "data": {
      "text/plain": [
       "surge_applied\n",
       "0    150855\n",
       "1     58818\n",
       "Name: count, dtype: int64"
      ]
     },
     "execution_count": 13,
     "metadata": {},
     "output_type": "execute_result"
    }
   ],
   "source": [
    "train_df['surge_applied'].value_counts(dropna=False).sort_index()"
   ]
  },
  {
   "cell_type": "code",
   "execution_count": 14,
   "id": "5c641fc1",
   "metadata": {
    "execution": {
     "iopub.execute_input": "2023-06-27T15:10:27.156187Z",
     "iopub.status.busy": "2023-06-27T15:10:27.155593Z",
     "iopub.status.idle": "2023-06-27T15:10:27.165727Z",
     "shell.execute_reply": "2023-06-27T15:10:27.164631Z"
    },
    "papermill": {
     "duration": 0.039695,
     "end_time": "2023-06-27T15:10:27.167986",
     "exception": false,
     "start_time": "2023-06-27T15:10:27.128291",
     "status": "completed"
    },
    "tags": []
   },
   "outputs": [
    {
     "data": {
      "text/plain": [
       "surge_applied\n",
       "0    71.947747\n",
       "1    28.052253\n",
       "Name: count, dtype: float64"
      ]
     },
     "execution_count": 14,
     "metadata": {},
     "output_type": "execute_result"
    }
   ],
   "source": [
    "train_df['surge_applied'].value_counts(dropna=False).sort_index()*100/train_df.shape[0]"
   ]
  },
  {
   "cell_type": "markdown",
   "id": "b9f8dc00",
   "metadata": {
    "papermill": {
     "duration": 0.025436,
     "end_time": "2023-06-27T15:10:27.219586",
     "exception": false,
     "start_time": "2023-06-27T15:10:27.194150",
     "status": "completed"
    },
    "tags": []
   },
   "source": [
    "1. ABout 30% of time the trips were surge\n",
    "2. Ideally surge should increase the price of the trip when all other parameters are constant"
   ]
  },
  {
   "cell_type": "markdown",
   "id": "78a2392c",
   "metadata": {
    "papermill": {
     "duration": 0.02536,
     "end_time": "2023-06-27T15:10:27.270579",
     "exception": false,
     "start_time": "2023-06-27T15:10:27.245219",
     "status": "completed"
    },
    "tags": []
   },
   "source": [
    "# **Trip Fare Analysis**"
   ]
  },
  {
   "cell_type": "code",
   "execution_count": 15,
   "id": "6b75e55e",
   "metadata": {
    "execution": {
     "iopub.execute_input": "2023-06-27T15:10:27.325174Z",
     "iopub.status.busy": "2023-06-27T15:10:27.324768Z",
     "iopub.status.idle": "2023-06-27T15:10:27.342541Z",
     "shell.execute_reply": "2023-06-27T15:10:27.341454Z"
    },
    "papermill": {
     "duration": 0.048017,
     "end_time": "2023-06-27T15:10:27.344408",
     "exception": false,
     "start_time": "2023-06-27T15:10:27.296391",
     "status": "completed"
    },
    "tags": []
   },
   "outputs": [
    {
     "data": {
      "text/html": [
       "<div>\n",
       "<style scoped>\n",
       "    .dataframe tbody tr th:only-of-type {\n",
       "        vertical-align: middle;\n",
       "    }\n",
       "\n",
       "    .dataframe tbody tr th {\n",
       "        vertical-align: top;\n",
       "    }\n",
       "\n",
       "    .dataframe thead th {\n",
       "        text-align: right;\n",
       "    }\n",
       "</style>\n",
       "<table border=\"1\" class=\"dataframe\">\n",
       "  <thead>\n",
       "    <tr style=\"text-align: right;\">\n",
       "      <th></th>\n",
       "      <th>fare</th>\n",
       "      <th>tip</th>\n",
       "      <th>miscellaneous_fees</th>\n",
       "      <th>total_fare</th>\n",
       "    </tr>\n",
       "  </thead>\n",
       "  <tbody>\n",
       "    <tr>\n",
       "      <th>0</th>\n",
       "      <td>75.00</td>\n",
       "      <td>24</td>\n",
       "      <td>6.300</td>\n",
       "      <td>105.300</td>\n",
       "    </tr>\n",
       "    <tr>\n",
       "      <th>1</th>\n",
       "      <td>105.00</td>\n",
       "      <td>24</td>\n",
       "      <td>13.200</td>\n",
       "      <td>142.200</td>\n",
       "    </tr>\n",
       "    <tr>\n",
       "      <th>2</th>\n",
       "      <td>71.25</td>\n",
       "      <td>0</td>\n",
       "      <td>26.625</td>\n",
       "      <td>97.875</td>\n",
       "    </tr>\n",
       "    <tr>\n",
       "      <th>3</th>\n",
       "      <td>90.00</td>\n",
       "      <td>0</td>\n",
       "      <td>9.750</td>\n",
       "      <td>99.750</td>\n",
       "    </tr>\n",
       "    <tr>\n",
       "      <th>4</th>\n",
       "      <td>45.00</td>\n",
       "      <td>12</td>\n",
       "      <td>13.200</td>\n",
       "      <td>70.200</td>\n",
       "    </tr>\n",
       "    <tr>\n",
       "      <th>...</th>\n",
       "      <td>...</td>\n",
       "      <td>...</td>\n",
       "      <td>...</td>\n",
       "      <td>...</td>\n",
       "    </tr>\n",
       "    <tr>\n",
       "      <th>209668</th>\n",
       "      <td>150.00</td>\n",
       "      <td>47</td>\n",
       "      <td>5.800</td>\n",
       "      <td>202.800</td>\n",
       "    </tr>\n",
       "    <tr>\n",
       "      <th>209669</th>\n",
       "      <td>48.75</td>\n",
       "      <td>12</td>\n",
       "      <td>34.575</td>\n",
       "      <td>95.325</td>\n",
       "    </tr>\n",
       "    <tr>\n",
       "      <th>209670</th>\n",
       "      <td>63.75</td>\n",
       "      <td>0</td>\n",
       "      <td>6.000</td>\n",
       "      <td>69.750</td>\n",
       "    </tr>\n",
       "    <tr>\n",
       "      <th>209671</th>\n",
       "      <td>56.25</td>\n",
       "      <td>0</td>\n",
       "      <td>13.500</td>\n",
       "      <td>69.750</td>\n",
       "    </tr>\n",
       "    <tr>\n",
       "      <th>209672</th>\n",
       "      <td>337.50</td>\n",
       "      <td>0</td>\n",
       "      <td>2.250</td>\n",
       "      <td>339.750</td>\n",
       "    </tr>\n",
       "  </tbody>\n",
       "</table>\n",
       "<p>209673 rows × 4 columns</p>\n",
       "</div>"
      ],
      "text/plain": [
       "          fare  tip  miscellaneous_fees  total_fare\n",
       "0        75.00   24               6.300     105.300\n",
       "1       105.00   24              13.200     142.200\n",
       "2        71.25    0              26.625      97.875\n",
       "3        90.00    0               9.750      99.750\n",
       "4        45.00   12              13.200      70.200\n",
       "...        ...  ...                 ...         ...\n",
       "209668  150.00   47               5.800     202.800\n",
       "209669   48.75   12              34.575      95.325\n",
       "209670   63.75    0               6.000      69.750\n",
       "209671   56.25    0              13.500      69.750\n",
       "209672  337.50    0               2.250     339.750\n",
       "\n",
       "[209673 rows x 4 columns]"
      ]
     },
     "execution_count": 15,
     "metadata": {},
     "output_type": "execute_result"
    }
   ],
   "source": [
    "train_df[['fare','tip', 'miscellaneous_fees', 'total_fare']]"
   ]
  },
  {
   "cell_type": "code",
   "execution_count": 16,
   "id": "7bcd57ba",
   "metadata": {
    "execution": {
     "iopub.execute_input": "2023-06-27T15:10:27.398475Z",
     "iopub.status.busy": "2023-06-27T15:10:27.397756Z",
     "iopub.status.idle": "2023-06-27T15:10:27.432134Z",
     "shell.execute_reply": "2023-06-27T15:10:27.431073Z"
    },
    "papermill": {
     "duration": 0.064023,
     "end_time": "2023-06-27T15:10:27.434399",
     "exception": false,
     "start_time": "2023-06-27T15:10:27.370376",
     "status": "completed"
    },
    "tags": []
   },
   "outputs": [
    {
     "data": {
      "text/html": [
       "<div>\n",
       "<style scoped>\n",
       "    .dataframe tbody tr th:only-of-type {\n",
       "        vertical-align: middle;\n",
       "    }\n",
       "\n",
       "    .dataframe tbody tr th {\n",
       "        vertical-align: top;\n",
       "    }\n",
       "\n",
       "    .dataframe thead th {\n",
       "        text-align: right;\n",
       "    }\n",
       "</style>\n",
       "<table border=\"1\" class=\"dataframe\">\n",
       "  <thead>\n",
       "    <tr style=\"text-align: right;\">\n",
       "      <th></th>\n",
       "      <th>final_fare_calculated_as_sum_of_components</th>\n",
       "      <th>total_fare</th>\n",
       "    </tr>\n",
       "  </thead>\n",
       "  <tbody>\n",
       "    <tr>\n",
       "      <th>0</th>\n",
       "      <td>105.300</td>\n",
       "      <td>105.300</td>\n",
       "    </tr>\n",
       "    <tr>\n",
       "      <th>1</th>\n",
       "      <td>142.200</td>\n",
       "      <td>142.200</td>\n",
       "    </tr>\n",
       "    <tr>\n",
       "      <th>2</th>\n",
       "      <td>97.875</td>\n",
       "      <td>97.875</td>\n",
       "    </tr>\n",
       "    <tr>\n",
       "      <th>3</th>\n",
       "      <td>99.750</td>\n",
       "      <td>99.750</td>\n",
       "    </tr>\n",
       "    <tr>\n",
       "      <th>4</th>\n",
       "      <td>70.200</td>\n",
       "      <td>70.200</td>\n",
       "    </tr>\n",
       "    <tr>\n",
       "      <th>...</th>\n",
       "      <td>...</td>\n",
       "      <td>...</td>\n",
       "    </tr>\n",
       "    <tr>\n",
       "      <th>209668</th>\n",
       "      <td>202.800</td>\n",
       "      <td>202.800</td>\n",
       "    </tr>\n",
       "    <tr>\n",
       "      <th>209669</th>\n",
       "      <td>95.325</td>\n",
       "      <td>95.325</td>\n",
       "    </tr>\n",
       "    <tr>\n",
       "      <th>209670</th>\n",
       "      <td>69.750</td>\n",
       "      <td>69.750</td>\n",
       "    </tr>\n",
       "    <tr>\n",
       "      <th>209671</th>\n",
       "      <td>69.750</td>\n",
       "      <td>69.750</td>\n",
       "    </tr>\n",
       "    <tr>\n",
       "      <th>209672</th>\n",
       "      <td>339.750</td>\n",
       "      <td>339.750</td>\n",
       "    </tr>\n",
       "  </tbody>\n",
       "</table>\n",
       "<p>209673 rows × 2 columns</p>\n",
       "</div>"
      ],
      "text/plain": [
       "        final_fare_calculated_as_sum_of_components  total_fare\n",
       "0                                          105.300     105.300\n",
       "1                                          142.200     142.200\n",
       "2                                           97.875      97.875\n",
       "3                                           99.750      99.750\n",
       "4                                           70.200      70.200\n",
       "...                                            ...         ...\n",
       "209668                                     202.800     202.800\n",
       "209669                                      95.325      95.325\n",
       "209670                                      69.750      69.750\n",
       "209671                                      69.750      69.750\n",
       "209672                                     339.750     339.750\n",
       "\n",
       "[209673 rows x 2 columns]"
      ]
     },
     "execution_count": 16,
     "metadata": {},
     "output_type": "execute_result"
    }
   ],
   "source": [
    "# Checking maths behind total fare calculation\n",
    "train_df['final_fare_calculated_as_sum_of_components'] = train_df[['fare','tip', 'miscellaneous_fees']].sum(axis=1)\n",
    "train_df[['final_fare_calculated_as_sum_of_components','total_fare']]"
   ]
  },
  {
   "cell_type": "code",
   "execution_count": 17,
   "id": "5d2799e3",
   "metadata": {
    "execution": {
     "iopub.execute_input": "2023-06-27T15:10:27.489300Z",
     "iopub.status.busy": "2023-06-27T15:10:27.488190Z",
     "iopub.status.idle": "2023-06-27T15:10:27.497235Z",
     "shell.execute_reply": "2023-06-27T15:10:27.496523Z"
    },
    "papermill": {
     "duration": 0.038534,
     "end_time": "2023-06-27T15:10:27.499221",
     "exception": false,
     "start_time": "2023-06-27T15:10:27.460687",
     "status": "completed"
    },
    "tags": []
   },
   "outputs": [
    {
     "data": {
      "text/plain": [
       "final_fare_calculated_as_sum_of_components    float64\n",
       "total_fare                                    float64\n",
       "dtype: object"
      ]
     },
     "execution_count": 17,
     "metadata": {},
     "output_type": "execute_result"
    }
   ],
   "source": [
    "train_df[['final_fare_calculated_as_sum_of_components','total_fare']].dtypes"
   ]
  },
  {
   "cell_type": "code",
   "execution_count": 18,
   "id": "b16f2305",
   "metadata": {
    "execution": {
     "iopub.execute_input": "2023-06-27T15:10:27.554932Z",
     "iopub.status.busy": "2023-06-27T15:10:27.554352Z",
     "iopub.status.idle": "2023-06-27T15:10:27.566292Z",
     "shell.execute_reply": "2023-06-27T15:10:27.565263Z"
    },
    "papermill": {
     "duration": 0.043201,
     "end_time": "2023-06-27T15:10:27.568800",
     "exception": false,
     "start_time": "2023-06-27T15:10:27.525599",
     "status": "completed"
    },
    "tags": []
   },
   "outputs": [
    {
     "data": {
      "text/html": [
       "<div>\n",
       "<style scoped>\n",
       "    .dataframe tbody tr th:only-of-type {\n",
       "        vertical-align: middle;\n",
       "    }\n",
       "\n",
       "    .dataframe tbody tr th {\n",
       "        vertical-align: top;\n",
       "    }\n",
       "\n",
       "    .dataframe thead th {\n",
       "        text-align: right;\n",
       "    }\n",
       "</style>\n",
       "<table border=\"1\" class=\"dataframe\">\n",
       "  <thead>\n",
       "    <tr style=\"text-align: right;\">\n",
       "      <th></th>\n",
       "      <th>final_fare_calculated_as_sum_of_components</th>\n",
       "      <th>total_fare</th>\n",
       "    </tr>\n",
       "  </thead>\n",
       "  <tbody>\n",
       "    <tr>\n",
       "      <th>160437</th>\n",
       "      <td>63.375</td>\n",
       "      <td>63.375</td>\n",
       "    </tr>\n",
       "  </tbody>\n",
       "</table>\n",
       "</div>"
      ],
      "text/plain": [
       "        final_fare_calculated_as_sum_of_components  total_fare\n",
       "160437                                      63.375      63.375"
      ]
     },
     "execution_count": 18,
     "metadata": {},
     "output_type": "execute_result"
    }
   ],
   "source": [
    "train_df[train_df['final_fare_calculated_as_sum_of_components'] != train_df['total_fare']][['final_fare_calculated_as_sum_of_components','total_fare']]"
   ]
  },
  {
   "cell_type": "markdown",
   "id": "ce0e4e47",
   "metadata": {
    "papermill": {
     "duration": 0.026022,
     "end_time": "2023-06-27T15:10:27.621406",
     "exception": false,
     "start_time": "2023-06-27T15:10:27.595384",
     "status": "completed"
    },
    "tags": []
   },
   "source": [
    "Seems to be datatype or precision error, otherwise the calculation seems legit"
   ]
  },
  {
   "cell_type": "markdown",
   "id": "88e9a33e",
   "metadata": {
    "papermill": {
     "duration": 0.026238,
     "end_time": "2023-06-27T15:10:27.674014",
     "exception": false,
     "start_time": "2023-06-27T15:10:27.647776",
     "status": "completed"
    },
    "tags": []
   },
   "source": [
    "# **Feature Corelations**"
   ]
  },
  {
   "cell_type": "code",
   "execution_count": 19,
   "id": "7029df0e",
   "metadata": {
    "execution": {
     "iopub.execute_input": "2023-06-27T15:10:27.728913Z",
     "iopub.status.busy": "2023-06-27T15:10:27.728501Z",
     "iopub.status.idle": "2023-06-27T15:10:27.738983Z",
     "shell.execute_reply": "2023-06-27T15:10:27.737977Z"
    },
    "papermill": {
     "duration": 0.040674,
     "end_time": "2023-06-27T15:10:27.741128",
     "exception": false,
     "start_time": "2023-06-27T15:10:27.700454",
     "status": "completed"
    },
    "tags": []
   },
   "outputs": [
    {
     "data": {
      "text/plain": [
       "trip_duration                                 0\n",
       "distance_traveled                             0\n",
       "num_of_passengers                             0\n",
       "fare                                          0\n",
       "tip                                           0\n",
       "miscellaneous_fees                            0\n",
       "total_fare                                    0\n",
       "surge_applied                                 0\n",
       "final_fare_calculated_as_sum_of_components    0\n",
       "dtype: int64"
      ]
     },
     "execution_count": 19,
     "metadata": {},
     "output_type": "execute_result"
    }
   ],
   "source": [
    "train_df.isnull().sum()"
   ]
  },
  {
   "cell_type": "code",
   "execution_count": 20,
   "id": "1877d493",
   "metadata": {
    "execution": {
     "iopub.execute_input": "2023-06-27T15:10:27.797591Z",
     "iopub.status.busy": "2023-06-27T15:10:27.797200Z",
     "iopub.status.idle": "2023-06-27T15:10:27.809660Z",
     "shell.execute_reply": "2023-06-27T15:10:27.808883Z"
    },
    "papermill": {
     "duration": 0.043695,
     "end_time": "2023-06-27T15:10:27.811643",
     "exception": false,
     "start_time": "2023-06-27T15:10:27.767948",
     "status": "completed"
    },
    "tags": []
   },
   "outputs": [
    {
     "data": {
      "text/plain": [
       "2          97.875\n",
       "5          71.625\n",
       "7         178.575\n",
       "10        171.450\n",
       "11         90.450\n",
       "           ...   \n",
       "209652    253.500\n",
       "209653    108.450\n",
       "209654    300.375\n",
       "209659    135.375\n",
       "209669     95.325\n",
       "Name: total_fare, Length: 58818, dtype: float64"
      ]
     },
     "execution_count": 20,
     "metadata": {},
     "output_type": "execute_result"
    }
   ],
   "source": [
    "train_df[train_df['surge_applied'] == 1]['total_fare']"
   ]
  },
  {
   "cell_type": "code",
   "execution_count": 21,
   "id": "b0c307ef",
   "metadata": {
    "execution": {
     "iopub.execute_input": "2023-06-27T15:10:27.866723Z",
     "iopub.status.busy": "2023-06-27T15:10:27.866310Z",
     "iopub.status.idle": "2023-06-27T15:10:28.239324Z",
     "shell.execute_reply": "2023-06-27T15:10:28.238323Z"
    },
    "papermill": {
     "duration": 0.403332,
     "end_time": "2023-06-27T15:10:28.241578",
     "exception": false,
     "start_time": "2023-06-27T15:10:27.838246",
     "status": "completed"
    },
    "tags": []
   },
   "outputs": [
    {
     "data": {
      "image/png": "[encoded data removed]",
      "text/plain": [
       "<Figure size 640x480 with 1 Axes>"
      ]
     },
     "metadata": {},
     "output_type": "display_data"
    }
   ],
   "source": [
    "# Surge and Pricing\n",
    "sns.violinplot(x=train_df[train_df['surge_applied'] == 1]['total_fare'].reset_index(drop=True))\n",
    "plt.title('Total Fare when surge is there')\n",
    "plt.show()"
   ]
  },
  {
   "cell_type": "code",
   "execution_count": 22,
   "id": "7946dc37",
   "metadata": {
    "execution": {
     "iopub.execute_input": "2023-06-27T15:10:28.297162Z",
     "iopub.status.busy": "2023-06-27T15:10:28.296784Z",
     "iopub.status.idle": "2023-06-27T15:10:28.837901Z",
     "shell.execute_reply": "2023-06-27T15:10:28.836785Z"
    },
    "papermill": {
     "duration": 0.571717,
     "end_time": "2023-06-27T15:10:28.840224",
     "exception": false,
     "start_time": "2023-06-27T15:10:28.268507",
     "status": "completed"
    },
    "tags": []
   },
   "outputs": [
    {
     "data": {
      "image/png": "[encoded data removed]",
      "text/plain": [
       "<Figure size 640x480 with 1 Axes>"
      ]
     },
     "metadata": {},
     "output_type": "display_data"
    }
   ],
   "source": [
    "# Surge and Pricing\n",
    "sns.violinplot(x=train_df[train_df['surge_applied'] != 1]['total_fare'].reset_index(drop=True))\n",
    "plt.title('Total Fare when surge is not there')\n",
    "plt.show()"
   ]
  },
  {
   "cell_type": "code",
   "execution_count": 23,
   "id": "3d1af97f",
   "metadata": {
    "execution": {
     "iopub.execute_input": "2023-06-27T15:10:28.896956Z",
     "iopub.status.busy": "2023-06-27T15:10:28.896348Z",
     "iopub.status.idle": "2023-06-27T15:10:39.728395Z",
     "shell.execute_reply": "2023-06-27T15:10:39.727269Z"
    },
    "papermill": {
     "duration": 10.863146,
     "end_time": "2023-06-27T15:10:39.730777",
     "exception": false,
     "start_time": "2023-06-27T15:10:28.867631",
     "status": "completed"
    },
    "tags": []
   },
   "outputs": [
    {
     "data": {
      "text/plain": [
       "Text(0.5, 1.0, 'Distance travelled Vs Price')"
      ]
     },
     "execution_count": 23,
     "metadata": {},
     "output_type": "execute_result"
    },
    {
     "data": {
      "image/png": "[encoded data removed]",
      "text/plain": [
       "<Figure size 640x480 with 1 Axes>"
      ]
     },
     "metadata": {},
     "output_type": "display_data"
    }
   ],
   "source": [
    "sns.scatterplot(x=train_df[train_df['distance_traveled']<100]['distance_traveled'], y=train_df['total_fare'], hue=train_df['surge_applied'])\n",
    "plt.title('Distance travelled Vs Price')"
   ]
  },
  {
   "cell_type": "markdown",
   "id": "92f9bb0c",
   "metadata": {
    "papermill": {
     "duration": 0.028629,
     "end_time": "2023-06-27T15:10:39.788736",
     "exception": false,
     "start_time": "2023-06-27T15:10:39.760107",
     "status": "completed"
    },
    "tags": []
   },
   "source": [
    "1. From data it looks hard to say surge increased the fare, mostly because the data is imbalanced"
   ]
  },
  {
   "cell_type": "code",
   "execution_count": 24,
   "id": "4b100d1c",
   "metadata": {
    "execution": {
     "iopub.execute_input": "2023-06-27T15:10:39.850432Z",
     "iopub.status.busy": "2023-06-27T15:10:39.849684Z",
     "iopub.status.idle": "2023-06-27T15:10:39.856575Z",
     "shell.execute_reply": "2023-06-27T15:10:39.855520Z"
    },
    "papermill": {
     "duration": 0.039756,
     "end_time": "2023-06-27T15:10:39.858795",
     "exception": false,
     "start_time": "2023-06-27T15:10:39.819039",
     "status": "completed"
    },
    "tags": []
   },
   "outputs": [
    {
     "data": {
      "text/plain": [
       "Index(['trip_duration', 'distance_traveled', 'num_of_passengers', 'fare',\n",
       "       'tip', 'miscellaneous_fees', 'total_fare', 'surge_applied',\n",
       "       'final_fare_calculated_as_sum_of_components'],\n",
       "      dtype='object')"
      ]
     },
     "execution_count": 24,
     "metadata": {},
     "output_type": "execute_result"
    }
   ],
   "source": [
    "train_df.columns"
   ]
  },
  {
   "cell_type": "code",
   "execution_count": 25,
   "id": "5bc86842",
   "metadata": {
    "execution": {
     "iopub.execute_input": "2023-06-27T15:10:39.918709Z",
     "iopub.status.busy": "2023-06-27T15:10:39.918350Z",
     "iopub.status.idle": "2023-06-27T15:10:40.245961Z",
     "shell.execute_reply": "2023-06-27T15:10:40.244799Z"
    },
    "papermill": {
     "duration": 0.361493,
     "end_time": "2023-06-27T15:10:40.249389",
     "exception": false,
     "start_time": "2023-06-27T15:10:39.887896",
     "status": "completed"
    },
    "tags": []
   },
   "outputs": [
    {
     "data": {
      "text/plain": [
       "<Axes: >"
      ]
     },
     "execution_count": 25,
     "metadata": {},
     "output_type": "execute_result"
    },
    {
     "data": {
      "image/png": "[encoded data removed]",
      "text/plain": [
       "<Figure size 640x480 with 2 Axes>"
      ]
     },
     "metadata": {},
     "output_type": "display_data"
    }
   ],
   "source": [
    "sns.heatmap(train_df[['trip_duration', 'distance_traveled', 'num_of_passengers','surge_applied']].corr())"
   ]
  },
  {
   "cell_type": "markdown",
   "id": "32ffa8a9",
   "metadata": {
    "papermill": {
     "duration": 0.031843,
     "end_time": "2023-06-27T15:10:40.312223",
     "exception": false,
     "start_time": "2023-06-27T15:10:40.280380",
     "status": "completed"
    },
    "tags": []
   },
   "source": [
    "As expected logically and numerically also, there is no correlation among features. Looks good for modelling"
   ]
  },
  {
   "cell_type": "markdown",
   "id": "a7228bb6",
   "metadata": {
    "papermill": {
     "duration": 0.032307,
     "end_time": "2023-06-27T15:10:40.374438",
     "exception": false,
     "start_time": "2023-06-27T15:10:40.342131",
     "status": "completed"
    },
    "tags": []
   },
   "source": [
    "# **Modelling**"
   ]
  },
  {
   "cell_type": "code",
   "execution_count": 26,
   "id": "21beaf57",
   "metadata": {
    "execution": {
     "iopub.execute_input": "2023-06-27T15:10:40.438034Z",
     "iopub.status.busy": "2023-06-27T15:10:40.437589Z",
     "iopub.status.idle": "2023-06-27T15:10:40.461440Z",
     "shell.execute_reply": "2023-06-27T15:10:40.460386Z"
    },
    "papermill": {
     "duration": 0.058197,
     "end_time": "2023-06-27T15:10:40.463551",
     "exception": false,
     "start_time": "2023-06-27T15:10:40.405354",
     "status": "completed"
    },
    "tags": []
   },
   "outputs": [
    {
     "data": {
      "text/html": [
       "<div>\n",
       "<style scoped>\n",
       "    .dataframe tbody tr th:only-of-type {\n",
       "        vertical-align: middle;\n",
       "    }\n",
       "\n",
       "    .dataframe tbody tr th {\n",
       "        vertical-align: top;\n",
       "    }\n",
       "\n",
       "    .dataframe thead th {\n",
       "        text-align: right;\n",
       "    }\n",
       "</style>\n",
       "<table border=\"1\" class=\"dataframe\">\n",
       "  <thead>\n",
       "    <tr style=\"text-align: right;\">\n",
       "      <th></th>\n",
       "      <th>trip_duration</th>\n",
       "      <th>distance_traveled</th>\n",
       "      <th>num_of_passengers</th>\n",
       "      <th>fare</th>\n",
       "      <th>tip</th>\n",
       "      <th>miscellaneous_fees</th>\n",
       "      <th>total_fare</th>\n",
       "      <th>surge_applied</th>\n",
       "      <th>final_fare_calculated_as_sum_of_components</th>\n",
       "    </tr>\n",
       "  </thead>\n",
       "  <tbody>\n",
       "    <tr>\n",
       "      <th>0</th>\n",
       "      <td>748.0</td>\n",
       "      <td>2.75</td>\n",
       "      <td>1.0</td>\n",
       "      <td>75.00</td>\n",
       "      <td>24</td>\n",
       "      <td>6.300</td>\n",
       "      <td>105.300</td>\n",
       "      <td>0</td>\n",
       "      <td>105.300</td>\n",
       "    </tr>\n",
       "    <tr>\n",
       "      <th>1</th>\n",
       "      <td>1187.0</td>\n",
       "      <td>3.43</td>\n",
       "      <td>1.0</td>\n",
       "      <td>105.00</td>\n",
       "      <td>24</td>\n",
       "      <td>13.200</td>\n",
       "      <td>142.200</td>\n",
       "      <td>0</td>\n",
       "      <td>142.200</td>\n",
       "    </tr>\n",
       "    <tr>\n",
       "      <th>2</th>\n",
       "      <td>730.0</td>\n",
       "      <td>3.12</td>\n",
       "      <td>1.0</td>\n",
       "      <td>71.25</td>\n",
       "      <td>0</td>\n",
       "      <td>26.625</td>\n",
       "      <td>97.875</td>\n",
       "      <td>1</td>\n",
       "      <td>97.875</td>\n",
       "    </tr>\n",
       "    <tr>\n",
       "      <th>3</th>\n",
       "      <td>671.0</td>\n",
       "      <td>5.63</td>\n",
       "      <td>3.0</td>\n",
       "      <td>90.00</td>\n",
       "      <td>0</td>\n",
       "      <td>9.750</td>\n",
       "      <td>99.750</td>\n",
       "      <td>0</td>\n",
       "      <td>99.750</td>\n",
       "    </tr>\n",
       "    <tr>\n",
       "      <th>4</th>\n",
       "      <td>329.0</td>\n",
       "      <td>2.09</td>\n",
       "      <td>1.0</td>\n",
       "      <td>45.00</td>\n",
       "      <td>12</td>\n",
       "      <td>13.200</td>\n",
       "      <td>70.200</td>\n",
       "      <td>0</td>\n",
       "      <td>70.200</td>\n",
       "    </tr>\n",
       "    <tr>\n",
       "      <th>...</th>\n",
       "      <td>...</td>\n",
       "      <td>...</td>\n",
       "      <td>...</td>\n",
       "      <td>...</td>\n",
       "      <td>...</td>\n",
       "      <td>...</td>\n",
       "      <td>...</td>\n",
       "      <td>...</td>\n",
       "      <td>...</td>\n",
       "    </tr>\n",
       "    <tr>\n",
       "      <th>209668</th>\n",
       "      <td>1617.0</td>\n",
       "      <td>8.42</td>\n",
       "      <td>1.0</td>\n",
       "      <td>150.00</td>\n",
       "      <td>47</td>\n",
       "      <td>5.800</td>\n",
       "      <td>202.800</td>\n",
       "      <td>0</td>\n",
       "      <td>202.800</td>\n",
       "    </tr>\n",
       "    <tr>\n",
       "      <th>209669</th>\n",
       "      <td>438.0</td>\n",
       "      <td>1.29</td>\n",
       "      <td>1.0</td>\n",
       "      <td>48.75</td>\n",
       "      <td>12</td>\n",
       "      <td>34.575</td>\n",
       "      <td>95.325</td>\n",
       "      <td>1</td>\n",
       "      <td>95.325</td>\n",
       "    </tr>\n",
       "    <tr>\n",
       "      <th>209670</th>\n",
       "      <td>571.0</td>\n",
       "      <td>2.82</td>\n",
       "      <td>1.0</td>\n",
       "      <td>63.75</td>\n",
       "      <td>0</td>\n",
       "      <td>6.000</td>\n",
       "      <td>69.750</td>\n",
       "      <td>0</td>\n",
       "      <td>69.750</td>\n",
       "    </tr>\n",
       "    <tr>\n",
       "      <th>209671</th>\n",
       "      <td>491.0</td>\n",
       "      <td>2.16</td>\n",
       "      <td>1.0</td>\n",
       "      <td>56.25</td>\n",
       "      <td>0</td>\n",
       "      <td>13.500</td>\n",
       "      <td>69.750</td>\n",
       "      <td>0</td>\n",
       "      <td>69.750</td>\n",
       "    </tr>\n",
       "    <tr>\n",
       "      <th>209672</th>\n",
       "      <td>3614.0</td>\n",
       "      <td>33.72</td>\n",
       "      <td>1.0</td>\n",
       "      <td>337.50</td>\n",
       "      <td>0</td>\n",
       "      <td>2.250</td>\n",
       "      <td>339.750</td>\n",
       "      <td>0</td>\n",
       "      <td>339.750</td>\n",
       "    </tr>\n",
       "  </tbody>\n",
       "</table>\n",
       "<p>209673 rows × 9 columns</p>\n",
       "</div>"
      ],
      "text/plain": [
       "        trip_duration  distance_traveled  num_of_passengers    fare  tip  \\\n",
       "0               748.0               2.75                1.0   75.00   24   \n",
       "1              1187.0               3.43                1.0  105.00   24   \n",
       "2               730.0               3.12                1.0   71.25    0   \n",
       "3               671.0               5.63                3.0   90.00    0   \n",
       "4               329.0               2.09                1.0   45.00   12   \n",
       "...               ...                ...                ...     ...  ...   \n",
       "209668         1617.0               8.42                1.0  150.00   47   \n",
       "209669          438.0               1.29                1.0   48.75   12   \n",
       "209670          571.0               2.82                1.0   63.75    0   \n",
       "209671          491.0               2.16                1.0   56.25    0   \n",
       "209672         3614.0              33.72                1.0  337.50    0   \n",
       "\n",
       "        miscellaneous_fees  total_fare  surge_applied  \\\n",
       "0                    6.300     105.300              0   \n",
       "1                   13.200     142.200              0   \n",
       "2                   26.625      97.875              1   \n",
       "3                    9.750      99.750              0   \n",
       "4                   13.200      70.200              0   \n",
       "...                    ...         ...            ...   \n",
       "209668               5.800     202.800              0   \n",
       "209669              34.575      95.325              1   \n",
       "209670               6.000      69.750              0   \n",
       "209671              13.500      69.750              0   \n",
       "209672               2.250     339.750              0   \n",
       "\n",
       "        final_fare_calculated_as_sum_of_components  \n",
       "0                                          105.300  \n",
       "1                                          142.200  \n",
       "2                                           97.875  \n",
       "3                                           99.750  \n",
       "4                                           70.200  \n",
       "...                                            ...  \n",
       "209668                                     202.800  \n",
       "209669                                      95.325  \n",
       "209670                                      69.750  \n",
       "209671                                      69.750  \n",
       "209672                                     339.750  \n",
       "\n",
       "[209673 rows x 9 columns]"
      ]
     },
     "execution_count": 26,
     "metadata": {},
     "output_type": "execute_result"
    }
   ],
   "source": [
    "train_df"
   ]
  },
  {
   "cell_type": "code",
   "execution_count": 27,
   "id": "0fab181c",
   "metadata": {
    "execution": {
     "iopub.execute_input": "2023-06-27T15:10:40.528170Z",
     "iopub.status.busy": "2023-06-27T15:10:40.527752Z",
     "iopub.status.idle": "2023-06-27T15:10:40.533770Z",
     "shell.execute_reply": "2023-06-27T15:10:40.532977Z"
    },
    "papermill": {
     "duration": 0.04131,
     "end_time": "2023-06-27T15:10:40.535668",
     "exception": false,
     "start_time": "2023-06-27T15:10:40.494358",
     "status": "completed"
    },
    "tags": []
   },
   "outputs": [
    {
     "data": {
      "text/plain": [
       "Index(['trip_duration', 'distance_traveled', 'num_of_passengers', 'fare',\n",
       "       'tip', 'miscellaneous_fees', 'total_fare', 'surge_applied',\n",
       "       'final_fare_calculated_as_sum_of_components'],\n",
       "      dtype='object')"
      ]
     },
     "execution_count": 27,
     "metadata": {},
     "output_type": "execute_result"
    }
   ],
   "source": [
    "train_df.columns"
   ]
  },
  {
   "cell_type": "code",
   "execution_count": 28,
   "id": "11664320",
   "metadata": {
    "execution": {
     "iopub.execute_input": "2023-06-27T15:10:40.598247Z",
     "iopub.status.busy": "2023-06-27T15:10:40.597859Z",
     "iopub.status.idle": "2023-06-27T15:10:40.630504Z",
     "shell.execute_reply": "2023-06-27T15:10:40.629537Z"
    },
    "papermill": {
     "duration": 0.066863,
     "end_time": "2023-06-27T15:10:40.632788",
     "exception": false,
     "start_time": "2023-06-27T15:10:40.565925",
     "status": "completed"
    },
    "tags": []
   },
   "outputs": [],
   "source": [
    "model_features = ['trip_duration', 'distance_traveled', 'num_of_passengers','surge_applied']\n",
    "X = train_df[model_features]\n",
    "y = train_df['fare']\n",
    "X_train, X_test, y_train, y_test = train_test_split(X,y,train_size=0.7, random_state=101)"
   ]
  },
  {
   "cell_type": "code",
   "execution_count": 29,
   "id": "1d5c8b3b",
   "metadata": {
    "execution": {
     "iopub.execute_input": "2023-06-27T15:10:40.695150Z",
     "iopub.status.busy": "2023-06-27T15:10:40.694494Z",
     "iopub.status.idle": "2023-06-27T15:10:40.707862Z",
     "shell.execute_reply": "2023-06-27T15:10:40.706978Z"
    },
    "papermill": {
     "duration": 0.046842,
     "end_time": "2023-06-27T15:10:40.709904",
     "exception": false,
     "start_time": "2023-06-27T15:10:40.663062",
     "status": "completed"
    },
    "tags": []
   },
   "outputs": [
    {
     "data": {
      "text/html": [
       "<div>\n",
       "<style scoped>\n",
       "    .dataframe tbody tr th:only-of-type {\n",
       "        vertical-align: middle;\n",
       "    }\n",
       "\n",
       "    .dataframe tbody tr th {\n",
       "        vertical-align: top;\n",
       "    }\n",
       "\n",
       "    .dataframe thead th {\n",
       "        text-align: right;\n",
       "    }\n",
       "</style>\n",
       "<table border=\"1\" class=\"dataframe\">\n",
       "  <thead>\n",
       "    <tr style=\"text-align: right;\">\n",
       "      <th></th>\n",
       "      <th>trip_duration</th>\n",
       "      <th>distance_traveled</th>\n",
       "      <th>num_of_passengers</th>\n",
       "      <th>surge_applied</th>\n",
       "    </tr>\n",
       "  </thead>\n",
       "  <tbody>\n",
       "    <tr>\n",
       "      <th>189352</th>\n",
       "      <td>580.0</td>\n",
       "      <td>3.20</td>\n",
       "      <td>1.0</td>\n",
       "      <td>0</td>\n",
       "    </tr>\n",
       "    <tr>\n",
       "      <th>93048</th>\n",
       "      <td>2466.0</td>\n",
       "      <td>10.17</td>\n",
       "      <td>1.0</td>\n",
       "      <td>0</td>\n",
       "    </tr>\n",
       "    <tr>\n",
       "      <th>151052</th>\n",
       "      <td>2477.0</td>\n",
       "      <td>10.96</td>\n",
       "      <td>1.0</td>\n",
       "      <td>1</td>\n",
       "    </tr>\n",
       "    <tr>\n",
       "      <th>24514</th>\n",
       "      <td>569.0</td>\n",
       "      <td>3.65</td>\n",
       "      <td>1.0</td>\n",
       "      <td>0</td>\n",
       "    </tr>\n",
       "    <tr>\n",
       "      <th>122346</th>\n",
       "      <td>294.0</td>\n",
       "      <td>2.06</td>\n",
       "      <td>1.0</td>\n",
       "      <td>0</td>\n",
       "    </tr>\n",
       "    <tr>\n",
       "      <th>...</th>\n",
       "      <td>...</td>\n",
       "      <td>...</td>\n",
       "      <td>...</td>\n",
       "      <td>...</td>\n",
       "    </tr>\n",
       "    <tr>\n",
       "      <th>55293</th>\n",
       "      <td>1632.0</td>\n",
       "      <td>6.12</td>\n",
       "      <td>1.0</td>\n",
       "      <td>1</td>\n",
       "    </tr>\n",
       "    <tr>\n",
       "      <th>49751</th>\n",
       "      <td>701.0</td>\n",
       "      <td>2.85</td>\n",
       "      <td>1.0</td>\n",
       "      <td>0</td>\n",
       "    </tr>\n",
       "    <tr>\n",
       "      <th>136767</th>\n",
       "      <td>47.0</td>\n",
       "      <td>0.82</td>\n",
       "      <td>1.0</td>\n",
       "      <td>0</td>\n",
       "    </tr>\n",
       "    <tr>\n",
       "      <th>204614</th>\n",
       "      <td>1063.0</td>\n",
       "      <td>12.55</td>\n",
       "      <td>5.0</td>\n",
       "      <td>0</td>\n",
       "    </tr>\n",
       "    <tr>\n",
       "      <th>176991</th>\n",
       "      <td>507.0</td>\n",
       "      <td>2.20</td>\n",
       "      <td>1.0</td>\n",
       "      <td>0</td>\n",
       "    </tr>\n",
       "  </tbody>\n",
       "</table>\n",
       "<p>146771 rows × 4 columns</p>\n",
       "</div>"
      ],
      "text/plain": [
       "        trip_duration  distance_traveled  num_of_passengers  surge_applied\n",
       "189352          580.0               3.20                1.0              0\n",
       "93048          2466.0              10.17                1.0              0\n",
       "151052         2477.0              10.96                1.0              1\n",
       "24514           569.0               3.65                1.0              0\n",
       "122346          294.0               2.06                1.0              0\n",
       "...               ...                ...                ...            ...\n",
       "55293          1632.0               6.12                1.0              1\n",
       "49751           701.0               2.85                1.0              0\n",
       "136767           47.0               0.82                1.0              0\n",
       "204614         1063.0              12.55                5.0              0\n",
       "176991          507.0               2.20                1.0              0\n",
       "\n",
       "[146771 rows x 4 columns]"
      ]
     },
     "execution_count": 29,
     "metadata": {},
     "output_type": "execute_result"
    }
   ],
   "source": [
    "X_train"
   ]
  },
  {
   "cell_type": "markdown",
   "id": "86b7be4e",
   "metadata": {
    "papermill": {
     "duration": 0.030164,
     "end_time": "2023-06-27T15:10:40.770358",
     "exception": false,
     "start_time": "2023-06-27T15:10:40.740194",
     "status": "completed"
    },
    "tags": []
   },
   "source": [
    "# **Standarization of data**"
   ]
  },
  {
   "cell_type": "code",
   "execution_count": 30,
   "id": "4a171139",
   "metadata": {
    "execution": {
     "iopub.execute_input": "2023-06-27T15:10:40.833512Z",
     "iopub.status.busy": "2023-06-27T15:10:40.832887Z",
     "iopub.status.idle": "2023-06-27T15:10:40.847382Z",
     "shell.execute_reply": "2023-06-27T15:10:40.846257Z"
    },
    "papermill": {
     "duration": 0.048403,
     "end_time": "2023-06-27T15:10:40.849492",
     "exception": false,
     "start_time": "2023-06-27T15:10:40.801089",
     "status": "completed"
    },
    "tags": []
   },
   "outputs": [
    {
     "data": {
      "text/plain": [
       "array([[6.71420633e-03, 5.55129898e-05, 1.11111111e-01, 0.00000000e+00],\n",
       "       [2.85469531e-02, 1.77187687e-04, 1.11111111e-01, 0.00000000e+00],\n",
       "       [2.86742915e-02, 1.90978650e-04, 1.11111111e-01, 1.00000000e+00],\n",
       "       ...,\n",
       "       [5.44082237e-04, 1.39655320e-05, 1.11111111e-01, 0.00000000e+00],\n",
       "       [1.23055195e-02, 2.18735145e-04, 5.55555556e-01, 0.00000000e+00],\n",
       "       [5.86914243e-03, 3.80560748e-05, 1.11111111e-01, 0.00000000e+00]])"
      ]
     },
     "execution_count": 30,
     "metadata": {},
     "output_type": "execute_result"
    }
   ],
   "source": [
    "scaler = MinMaxScaler()\n",
    "\n",
    "# Fitting on only X_train\n",
    "scaler.fit(X_train)\n",
    "X_train = scaler.transform(X_train)\n",
    "X_train"
   ]
  },
  {
   "cell_type": "code",
   "execution_count": 31,
   "id": "f4c40769",
   "metadata": {
    "execution": {
     "iopub.execute_input": "2023-06-27T15:10:40.912852Z",
     "iopub.status.busy": "2023-06-27T15:10:40.912448Z",
     "iopub.status.idle": "2023-06-27T15:10:40.968766Z",
     "shell.execute_reply": "2023-06-27T15:10:40.967754Z"
    },
    "papermill": {
     "duration": 0.090698,
     "end_time": "2023-06-27T15:10:40.971069",
     "exception": false,
     "start_time": "2023-06-27T15:10:40.880371",
     "status": "completed"
    },
    "tags": []
   },
   "outputs": [
    {
     "data": {
      "text/html": [
       "<style>#sk-container-id-1 {color: black;}#sk-container-id-1 pre{padding: 0;}#sk-container-id-1 div.sk-toggleable {background-color: white;}#sk-container-id-1 label.sk-toggleable__label {cursor: pointer;display: block;width: 100%;margin-bottom: 0;padding: 0.3em;box-sizing: border-box;text-align: center;}#sk-container-id-1 label.sk-toggleable__label-arrow:before {content: \"▸\";float: left;margin-right: 0.25em;color: #696969;}#sk-container-id-1 label.sk-toggleable__label-arrow:hover:before {color: black;}#sk-container-id-1 div.sk-estimator:hover label.sk-toggleable__label-arrow:before {color: black;}#sk-container-id-1 div.sk-toggleable__content {max-height: 0;max-width: 0;overflow: hidden;text-align: left;background-color: #f0f8ff;}#sk-container-id-1 div.sk-toggleable__content pre {margin: 0.2em;color: black;border-radius: 0.25em;background-color: #f0f8ff;}#sk-container-id-1 input.sk-toggleable__control:checked~div.sk-toggleable__content {max-height: 200px;max-width: 100%;overflow: auto;}#sk-container-id-1 input.sk-toggleable__control:checked~label.sk-toggleable__label-arrow:before {content: \"▾\";}#sk-container-id-1 div.sk-estimator input.sk-toggleable__control:checked~label.sk-toggleable__label {background-color: #d4ebff;}#sk-container-id-1 div.sk-label input.sk-toggleable__control:checked~label.sk-toggleable__label {background-color: #d4ebff;}#sk-container-id-1 input.sk-hidden--visually {border: 0;clip: rect(1px 1px 1px 1px);clip: rect(1px, 1px, 1px, 1px);height: 1px;margin: -1px;overflow: hidden;padding: 0;position: absolute;width: 1px;}#sk-container-id-1 div.sk-estimator {font-family: monospace;background-color: #f0f8ff;border: 1px dotted black;border-radius: 0.25em;box-sizing: border-box;margin-bottom: 0.5em;}#sk-container-id-1 div.sk-estimator:hover {background-color: #d4ebff;}#sk-container-id-1 div.sk-parallel-item::after {content: \"\";width: 100%;border-bottom: 1px solid gray;flex-grow: 1;}#sk-container-id-1 div.sk-label:hover label.sk-toggleable__label {background-color: #d4ebff;}#sk-container-id-1 div.sk-serial::before {content: \"\";position: absolute;border-left: 1px solid gray;box-sizing: border-box;top: 0;bottom: 0;left: 50%;z-index: 0;}#sk-container-id-1 div.sk-serial {display: flex;flex-direction: column;align-items: center;background-color: white;padding-right: 0.2em;padding-left: 0.2em;position: relative;}#sk-container-id-1 div.sk-item {position: relative;z-index: 1;}#sk-container-id-1 div.sk-parallel {display: flex;align-items: stretch;justify-content: center;background-color: white;position: relative;}#sk-container-id-1 div.sk-item::before, #sk-container-id-1 div.sk-parallel-item::before {content: \"\";position: absolute;border-left: 1px solid gray;box-sizing: border-box;top: 0;bottom: 0;left: 50%;z-index: -1;}#sk-container-id-1 div.sk-parallel-item {display: flex;flex-direction: column;z-index: 1;position: relative;background-color: white;}#sk-container-id-1 div.sk-parallel-item:first-child::after {align-self: flex-end;width: 50%;}#sk-container-id-1 div.sk-parallel-item:last-child::after {align-self: flex-start;width: 50%;}#sk-container-id-1 div.sk-parallel-item:only-child::after {width: 0;}#sk-container-id-1 div.sk-dashed-wrapped {border: 1px dashed gray;margin: 0 0.4em 0.5em 0.4em;box-sizing: border-box;padding-bottom: 0.4em;background-color: white;}#sk-container-id-1 div.sk-label label {font-family: monospace;font-weight: bold;display: inline-block;line-height: 1.2em;}#sk-container-id-1 div.sk-label-container {text-align: center;}#sk-container-id-1 div.sk-container {/* jupyter's `normalize.less` sets `[hidden] { display: none; }` but bootstrap.min.css set `[hidden] { display: none !important; }` so we also need the `!important` here to be able to override the default hidden behavior on the sphinx rendered scikit-learn.org. See: https://github.com/scikit-learn/scikit-learn/issues/21755 */display: inline-block !important;position: relative;}#sk-container-id-1 div.sk-text-repr-fallback {display: none;}</style><div id=\"sk-container-id-1\" class=\"sk-top-container\"><div class=\"sk-text-repr-fallback\"><pre>LinearRegression()</pre><b>In a Jupyter environment, please rerun this cell to show the HTML representation or trust the notebook. <br />On GitHub, the HTML representation is unable to render, please try loading this page with nbviewer.org.</b></div><div class=\"sk-container\" hidden><div class=\"sk-item\"><div class=\"sk-estimator sk-toggleable\"><input class=\"sk-toggleable__control sk-hidden--visually\" id=\"sk-estimator-id-1\" type=\"checkbox\" checked><label for=\"sk-estimator-id-1\" class=\"sk-toggleable__label sk-toggleable__label-arrow\">LinearRegression</label><div class=\"sk-toggleable__content\"><pre>LinearRegression()</pre></div></div></div></div></div>"
      ],
      "text/plain": [
       "LinearRegression()"
      ]
     },
     "execution_count": 31,
     "metadata": {},
     "output_type": "execute_result"
    }
   ],
   "source": [
    "model = LinearRegression()\n",
    "model.fit(X_train, y_train)"
   ]
  },
  {
   "cell_type": "code",
   "execution_count": 32,
   "id": "a7955749",
   "metadata": {
    "execution": {
     "iopub.execute_input": "2023-06-27T15:10:41.035456Z",
     "iopub.status.busy": "2023-06-27T15:10:41.035056Z",
     "iopub.status.idle": "2023-06-27T15:10:41.040060Z",
     "shell.execute_reply": "2023-06-27T15:10:41.038999Z"
    },
    "papermill": {
     "duration": 0.039842,
     "end_time": "2023-06-27T15:10:41.042177",
     "exception": false,
     "start_time": "2023-06-27T15:10:41.002335",
     "status": "completed"
    },
    "tags": []
   },
   "outputs": [
    {
     "name": "stdout",
     "output_type": "stream",
     "text": [
      "Value of c= 87.52738093109836\n"
     ]
    }
   ],
   "source": [
    "# y = m1x1 + m2x2 + m3x3 + m4x4 + c\n",
    "print(\"Value of c=\",model.intercept_ )"
   ]
  },
  {
   "cell_type": "markdown",
   "id": "c6b6cffa",
   "metadata": {
    "papermill": {
     "duration": 0.030407,
     "end_time": "2023-06-27T15:10:41.103266",
     "exception": false,
     "start_time": "2023-06-27T15:10:41.072859",
     "status": "completed"
    },
    "tags": []
   },
   "source": [
    "Means even if all parameters are minimum then fare is Rs.87"
   ]
  },
  {
   "cell_type": "code",
   "execution_count": 33,
   "id": "81107e69",
   "metadata": {
    "execution": {
     "iopub.execute_input": "2023-06-27T15:10:41.166870Z",
     "iopub.status.busy": "2023-06-27T15:10:41.166180Z",
     "iopub.status.idle": "2023-06-27T15:10:41.181491Z",
     "shell.execute_reply": "2023-06-27T15:10:41.180161Z"
    },
    "papermill": {
     "duration": 0.051149,
     "end_time": "2023-06-27T15:10:41.185055",
     "exception": false,
     "start_time": "2023-06-27T15:10:41.133906",
     "status": "completed"
    },
    "tags": []
   },
   "outputs": [
    {
     "data": {
      "text/plain": [
       "array([ 93.67198447,  93.36927219, 117.74932285, ..., 122.69760683,\n",
       "        88.57037979,  89.08675496])"
      ]
     },
     "execution_count": 33,
     "metadata": {},
     "output_type": "execute_result"
    }
   ],
   "source": [
    "X_test = scaler.transform(X_test)\n",
    "y_pred = model.predict(X_test)\n",
    "y_pred"
   ]
  },
  {
   "cell_type": "code",
   "execution_count": 34,
   "id": "f463dc3c",
   "metadata": {
    "execution": {
     "iopub.execute_input": "2023-06-27T15:10:41.291373Z",
     "iopub.status.busy": "2023-06-27T15:10:41.290868Z",
     "iopub.status.idle": "2023-06-27T15:10:41.300480Z",
     "shell.execute_reply": "2023-06-27T15:10:41.299377Z"
    },
    "papermill": {
     "duration": 0.065138,
     "end_time": "2023-06-27T15:10:41.302370",
     "exception": false,
     "start_time": "2023-06-27T15:10:41.237232",
     "status": "completed"
    },
    "tags": []
   },
   "outputs": [
    {
     "data": {
      "text/plain": [
       "0.047365568507285905"
      ]
     },
     "execution_count": 34,
     "metadata": {},
     "output_type": "execute_result"
    }
   ],
   "source": [
    "r2_score(y_test, y_pred)"
   ]
  },
  {
   "cell_type": "markdown",
   "id": "f79f5303",
   "metadata": {
    "papermill": {
     "duration": 0.032703,
     "end_time": "2023-06-27T15:10:41.366016",
     "exception": false,
     "start_time": "2023-06-27T15:10:41.333313",
     "status": "completed"
    },
    "tags": []
   },
   "source": [
    "Not good R2 Score, highly erronous model, reasons?\n",
    "1. Insufficient features to predict fare correctly\n",
    "2. Model could not learn properly from the data\n",
    "3. Problems due to outliers, need to remove and then check"
   ]
  },
  {
   "cell_type": "code",
   "execution_count": 35,
   "id": "fd68ecbd",
   "metadata": {
    "execution": {
     "iopub.execute_input": "2023-06-27T15:10:41.430490Z",
     "iopub.status.busy": "2023-06-27T15:10:41.429821Z",
     "iopub.status.idle": "2023-06-27T15:10:41.893259Z",
     "shell.execute_reply": "2023-06-27T15:10:41.892188Z"
    },
    "papermill": {
     "duration": 0.497633,
     "end_time": "2023-06-27T15:10:41.895439",
     "exception": false,
     "start_time": "2023-06-27T15:10:41.397806",
     "status": "completed"
    },
    "tags": []
   },
   "outputs": [
    {
     "data": {
      "text/plain": [
       "Text(0, 0.5, 'Predicted Fare')"
      ]
     },
     "execution_count": 35,
     "metadata": {},
     "output_type": "execute_result"
    },
    {
     "data": {
      "image/png": "[encoded data removed]",
      "text/plain": [
       "<Figure size 640x480 with 1 Axes>"
      ]
     },
     "metadata": {},
     "output_type": "display_data"
    }
   ],
   "source": [
    "sns.scatterplot(x = y_test, y = y_pred)\n",
    "plt.xlabel('Actual Fare')\n",
    "plt.ylabel('Predicted Fare')"
   ]
  },
  {
   "cell_type": "code",
   "execution_count": 36,
   "id": "412e36a9",
   "metadata": {
    "execution": {
     "iopub.execute_input": "2023-06-27T15:10:41.961154Z",
     "iopub.status.busy": "2023-06-27T15:10:41.960731Z",
     "iopub.status.idle": "2023-06-27T15:10:42.839557Z",
     "shell.execute_reply": "2023-06-27T15:10:42.838786Z"
    },
    "papermill": {
     "duration": 0.914461,
     "end_time": "2023-06-27T15:10:42.841767",
     "exception": false,
     "start_time": "2023-06-27T15:10:41.927306",
     "status": "completed"
    },
    "tags": []
   },
   "outputs": [
    {
     "data": {
      "image/png": "[encoded data removed]",
      "text/plain": [
       "<Figure size 640x480 with 1 Axes>"
      ]
     },
     "metadata": {},
     "output_type": "display_data"
    }
   ],
   "source": [
    "# plt.figure(figsize=(10,10))\n",
    "# plt.scatter(true_value, predicted_value, c='crimson')\n",
    "# plt.yscale('log')\n",
    "# plt.xscale('log')\n",
    "\n",
    "# p1 = max(max(predicted_value), max(true_value))\n",
    "# p2 = min(min(predicted_value), min(true_value))\n",
    "# plt.plot([p1, p2], [p1, p2], 'b-')\n",
    "# plt.xlabel('True Values', fontsize=15)\n",
    "# plt.ylabel('Predictions', fontsize=15)\n",
    "# plt.axis('equal')\n",
    "# plt.show()\n",
    "\n",
    "true_value = y_test\n",
    "predicted_value = y_pred \n",
    "\n",
    "plt.scatter(true_value, predicted_value, c='crimson')\n",
    "plt.yscale('log')\n",
    "plt.xscale('log')\n",
    "\n",
    "p1 = max(max(predicted_value), max(true_value))\n",
    "p2 = min(min(predicted_value), min(true_value))\n",
    "plt.plot([p1, p2], [p1, p2], 'b-')\n",
    "plt.xlabel('True Values', fontsize=15)\n",
    "plt.ylabel('Predictions', fontsize=15)\n",
    "plt.axis('equal')\n",
    "plt.show()"
   ]
  },
  {
   "cell_type": "markdown",
   "id": "fb6a9d7c",
   "metadata": {
    "papermill": {
     "duration": 0.031911,
     "end_time": "2023-06-27T15:10:42.905828",
     "exception": false,
     "start_time": "2023-06-27T15:10:42.873917",
     "status": "completed"
    },
    "tags": []
   },
   "source": [
    "# **Removing Outliers**"
   ]
  },
  {
   "cell_type": "code",
   "execution_count": 37,
   "id": "fbda5a32",
   "metadata": {
    "execution": {
     "iopub.execute_input": "2023-06-27T15:10:42.973086Z",
     "iopub.status.busy": "2023-06-27T15:10:42.972290Z",
     "iopub.status.idle": "2023-06-27T15:10:42.978679Z",
     "shell.execute_reply": "2023-06-27T15:10:42.977887Z"
    },
    "papermill": {
     "duration": 0.042532,
     "end_time": "2023-06-27T15:10:42.980828",
     "exception": false,
     "start_time": "2023-06-27T15:10:42.938296",
     "status": "completed"
    },
    "tags": []
   },
   "outputs": [],
   "source": [
    "def remove_outliers(series):\n",
    "    # Calculate the first quartile (Q1), third quartile (Q3), and IQR\n",
    "    q1 = np.percentile(series, 25)\n",
    "    q3 = np.percentile(series, 75)\n",
    "    iqr = q3 - q1\n",
    "    \n",
    "    # Calculate the lower and upper bounds for outliers\n",
    "    lower_bound = q1 - 1.5 * iqr\n",
    "    upper_bound = q3 + 1.5 * iqr\n",
    "    \n",
    "    # Remove outliers from the series\n",
    "#     cleaned_series = [x for x in series if lower_bound <= x <= upper_bound]\n",
    "    \n",
    "    return lower_bound, upper_bound"
   ]
  },
  {
   "cell_type": "code",
   "execution_count": 38,
   "id": "d37723fb",
   "metadata": {
    "execution": {
     "iopub.execute_input": "2023-06-27T15:10:43.049403Z",
     "iopub.status.busy": "2023-06-27T15:10:43.048608Z",
     "iopub.status.idle": "2023-06-27T15:10:43.053896Z",
     "shell.execute_reply": "2023-06-27T15:10:43.052615Z"
    },
    "papermill": {
     "duration": 0.041808,
     "end_time": "2023-06-27T15:10:43.056227",
     "exception": false,
     "start_time": "2023-06-27T15:10:43.014419",
     "status": "completed"
    },
    "tags": []
   },
   "outputs": [],
   "source": [
    "# ['trip_duration', 'distance_traveled', 'num_of_passengers', 'fare',\n",
    "#        'tip', 'miscellaneous_fees', 'total_fare', 'surge_applied',\n",
    "#        'final_fare_calculated_as_sum_of_components']"
   ]
  },
  {
   "cell_type": "code",
   "execution_count": 39,
   "id": "cea7c216",
   "metadata": {
    "execution": {
     "iopub.execute_input": "2023-06-27T15:10:43.124223Z",
     "iopub.status.busy": "2023-06-27T15:10:43.123799Z",
     "iopub.status.idle": "2023-06-27T15:10:43.154952Z",
     "shell.execute_reply": "2023-06-27T15:10:43.153659Z"
    },
    "papermill": {
     "duration": 0.068401,
     "end_time": "2023-06-27T15:10:43.157449",
     "exception": false,
     "start_time": "2023-06-27T15:10:43.089048",
     "status": "completed"
    },
    "tags": []
   },
   "outputs": [],
   "source": [
    "# Getting old (non-normalized training testing split)\n",
    "X_train, X_test, y_train, y_test = train_test_split(X,y,train_size=0.7, random_state=101)"
   ]
  },
  {
   "cell_type": "code",
   "execution_count": 40,
   "id": "1306e98b",
   "metadata": {
    "execution": {
     "iopub.execute_input": "2023-06-27T15:10:43.225053Z",
     "iopub.status.busy": "2023-06-27T15:10:43.224664Z",
     "iopub.status.idle": "2023-06-27T15:10:43.239396Z",
     "shell.execute_reply": "2023-06-27T15:10:43.238411Z"
    },
    "papermill": {
     "duration": 0.050477,
     "end_time": "2023-06-27T15:10:43.241452",
     "exception": false,
     "start_time": "2023-06-27T15:10:43.190975",
     "status": "completed"
    },
    "tags": []
   },
   "outputs": [
    {
     "data": {
      "text/html": [
       "<div>\n",
       "<style scoped>\n",
       "    .dataframe tbody tr th:only-of-type {\n",
       "        vertical-align: middle;\n",
       "    }\n",
       "\n",
       "    .dataframe tbody tr th {\n",
       "        vertical-align: top;\n",
       "    }\n",
       "\n",
       "    .dataframe thead th {\n",
       "        text-align: right;\n",
       "    }\n",
       "</style>\n",
       "<table border=\"1\" class=\"dataframe\">\n",
       "  <thead>\n",
       "    <tr style=\"text-align: right;\">\n",
       "      <th></th>\n",
       "      <th>trip_duration</th>\n",
       "      <th>distance_traveled</th>\n",
       "      <th>num_of_passengers</th>\n",
       "      <th>surge_applied</th>\n",
       "    </tr>\n",
       "  </thead>\n",
       "  <tbody>\n",
       "    <tr>\n",
       "      <th>189352</th>\n",
       "      <td>580.0</td>\n",
       "      <td>3.20</td>\n",
       "      <td>1.0</td>\n",
       "      <td>0</td>\n",
       "    </tr>\n",
       "    <tr>\n",
       "      <th>93048</th>\n",
       "      <td>2466.0</td>\n",
       "      <td>10.17</td>\n",
       "      <td>1.0</td>\n",
       "      <td>0</td>\n",
       "    </tr>\n",
       "    <tr>\n",
       "      <th>151052</th>\n",
       "      <td>2477.0</td>\n",
       "      <td>10.96</td>\n",
       "      <td>1.0</td>\n",
       "      <td>1</td>\n",
       "    </tr>\n",
       "    <tr>\n",
       "      <th>24514</th>\n",
       "      <td>569.0</td>\n",
       "      <td>3.65</td>\n",
       "      <td>1.0</td>\n",
       "      <td>0</td>\n",
       "    </tr>\n",
       "    <tr>\n",
       "      <th>122346</th>\n",
       "      <td>294.0</td>\n",
       "      <td>2.06</td>\n",
       "      <td>1.0</td>\n",
       "      <td>0</td>\n",
       "    </tr>\n",
       "    <tr>\n",
       "      <th>...</th>\n",
       "      <td>...</td>\n",
       "      <td>...</td>\n",
       "      <td>...</td>\n",
       "      <td>...</td>\n",
       "    </tr>\n",
       "    <tr>\n",
       "      <th>55293</th>\n",
       "      <td>1632.0</td>\n",
       "      <td>6.12</td>\n",
       "      <td>1.0</td>\n",
       "      <td>1</td>\n",
       "    </tr>\n",
       "    <tr>\n",
       "      <th>49751</th>\n",
       "      <td>701.0</td>\n",
       "      <td>2.85</td>\n",
       "      <td>1.0</td>\n",
       "      <td>0</td>\n",
       "    </tr>\n",
       "    <tr>\n",
       "      <th>136767</th>\n",
       "      <td>47.0</td>\n",
       "      <td>0.82</td>\n",
       "      <td>1.0</td>\n",
       "      <td>0</td>\n",
       "    </tr>\n",
       "    <tr>\n",
       "      <th>204614</th>\n",
       "      <td>1063.0</td>\n",
       "      <td>12.55</td>\n",
       "      <td>5.0</td>\n",
       "      <td>0</td>\n",
       "    </tr>\n",
       "    <tr>\n",
       "      <th>176991</th>\n",
       "      <td>507.0</td>\n",
       "      <td>2.20</td>\n",
       "      <td>1.0</td>\n",
       "      <td>0</td>\n",
       "    </tr>\n",
       "  </tbody>\n",
       "</table>\n",
       "<p>146771 rows × 4 columns</p>\n",
       "</div>"
      ],
      "text/plain": [
       "        trip_duration  distance_traveled  num_of_passengers  surge_applied\n",
       "189352          580.0               3.20                1.0              0\n",
       "93048          2466.0              10.17                1.0              0\n",
       "151052         2477.0              10.96                1.0              1\n",
       "24514           569.0               3.65                1.0              0\n",
       "122346          294.0               2.06                1.0              0\n",
       "...               ...                ...                ...            ...\n",
       "55293          1632.0               6.12                1.0              1\n",
       "49751           701.0               2.85                1.0              0\n",
       "136767           47.0               0.82                1.0              0\n",
       "204614         1063.0              12.55                5.0              0\n",
       "176991          507.0               2.20                1.0              0\n",
       "\n",
       "[146771 rows x 4 columns]"
      ]
     },
     "execution_count": 40,
     "metadata": {},
     "output_type": "execute_result"
    }
   ],
   "source": [
    "X_train"
   ]
  },
  {
   "cell_type": "markdown",
   "id": "e02afca1",
   "metadata": {
    "papermill": {
     "duration": 0.032582,
     "end_time": "2023-06-27T15:10:43.307439",
     "exception": false,
     "start_time": "2023-06-27T15:10:43.274857",
     "status": "completed"
    },
    "tags": []
   },
   "source": [
    "# **Removing outliers only from training sample, so as to not face Data Leakage**"
   ]
  },
  {
   "cell_type": "code",
   "execution_count": 41,
   "id": "5310591b",
   "metadata": {
    "execution": {
     "iopub.execute_input": "2023-06-27T15:10:43.376174Z",
     "iopub.status.busy": "2023-06-27T15:10:43.375793Z",
     "iopub.status.idle": "2023-06-27T15:10:43.400136Z",
     "shell.execute_reply": "2023-06-27T15:10:43.399165Z"
    },
    "papermill": {
     "duration": 0.061638,
     "end_time": "2023-06-27T15:10:43.402537",
     "exception": false,
     "start_time": "2023-06-27T15:10:43.340899",
     "status": "completed"
    },
    "tags": []
   },
   "outputs": [
    {
     "data": {
      "text/html": [
       "<div>\n",
       "<style scoped>\n",
       "    .dataframe tbody tr th:only-of-type {\n",
       "        vertical-align: middle;\n",
       "    }\n",
       "\n",
       "    .dataframe tbody tr th {\n",
       "        vertical-align: top;\n",
       "    }\n",
       "\n",
       "    .dataframe thead th {\n",
       "        text-align: right;\n",
       "    }\n",
       "</style>\n",
       "<table border=\"1\" class=\"dataframe\">\n",
       "  <thead>\n",
       "    <tr style=\"text-align: right;\">\n",
       "      <th></th>\n",
       "      <th>trip_duration</th>\n",
       "      <th>distance_traveled</th>\n",
       "      <th>num_of_passengers</th>\n",
       "      <th>surge_applied</th>\n",
       "      <th>trip_duration_lb</th>\n",
       "      <th>trip_duration_ub</th>\n",
       "    </tr>\n",
       "  </thead>\n",
       "  <tbody>\n",
       "    <tr>\n",
       "      <th>189352</th>\n",
       "      <td>580.0</td>\n",
       "      <td>3.20</td>\n",
       "      <td>1.0</td>\n",
       "      <td>0</td>\n",
       "      <td>-529.5</td>\n",
       "      <td>2074.5</td>\n",
       "    </tr>\n",
       "    <tr>\n",
       "      <th>93048</th>\n",
       "      <td>2466.0</td>\n",
       "      <td>10.17</td>\n",
       "      <td>1.0</td>\n",
       "      <td>0</td>\n",
       "      <td>-529.5</td>\n",
       "      <td>2074.5</td>\n",
       "    </tr>\n",
       "    <tr>\n",
       "      <th>151052</th>\n",
       "      <td>2477.0</td>\n",
       "      <td>10.96</td>\n",
       "      <td>1.0</td>\n",
       "      <td>1</td>\n",
       "      <td>-529.5</td>\n",
       "      <td>2074.5</td>\n",
       "    </tr>\n",
       "    <tr>\n",
       "      <th>24514</th>\n",
       "      <td>569.0</td>\n",
       "      <td>3.65</td>\n",
       "      <td>1.0</td>\n",
       "      <td>0</td>\n",
       "      <td>-529.5</td>\n",
       "      <td>2074.5</td>\n",
       "    </tr>\n",
       "    <tr>\n",
       "      <th>122346</th>\n",
       "      <td>294.0</td>\n",
       "      <td>2.06</td>\n",
       "      <td>1.0</td>\n",
       "      <td>0</td>\n",
       "      <td>-529.5</td>\n",
       "      <td>2074.5</td>\n",
       "    </tr>\n",
       "    <tr>\n",
       "      <th>...</th>\n",
       "      <td>...</td>\n",
       "      <td>...</td>\n",
       "      <td>...</td>\n",
       "      <td>...</td>\n",
       "      <td>...</td>\n",
       "      <td>...</td>\n",
       "    </tr>\n",
       "    <tr>\n",
       "      <th>55293</th>\n",
       "      <td>1632.0</td>\n",
       "      <td>6.12</td>\n",
       "      <td>1.0</td>\n",
       "      <td>1</td>\n",
       "      <td>-529.5</td>\n",
       "      <td>2074.5</td>\n",
       "    </tr>\n",
       "    <tr>\n",
       "      <th>49751</th>\n",
       "      <td>701.0</td>\n",
       "      <td>2.85</td>\n",
       "      <td>1.0</td>\n",
       "      <td>0</td>\n",
       "      <td>-529.5</td>\n",
       "      <td>2074.5</td>\n",
       "    </tr>\n",
       "    <tr>\n",
       "      <th>136767</th>\n",
       "      <td>47.0</td>\n",
       "      <td>0.82</td>\n",
       "      <td>1.0</td>\n",
       "      <td>0</td>\n",
       "      <td>-529.5</td>\n",
       "      <td>2074.5</td>\n",
       "    </tr>\n",
       "    <tr>\n",
       "      <th>204614</th>\n",
       "      <td>1063.0</td>\n",
       "      <td>12.55</td>\n",
       "      <td>5.0</td>\n",
       "      <td>0</td>\n",
       "      <td>-529.5</td>\n",
       "      <td>2074.5</td>\n",
       "    </tr>\n",
       "    <tr>\n",
       "      <th>176991</th>\n",
       "      <td>507.0</td>\n",
       "      <td>2.20</td>\n",
       "      <td>1.0</td>\n",
       "      <td>0</td>\n",
       "      <td>-529.5</td>\n",
       "      <td>2074.5</td>\n",
       "    </tr>\n",
       "  </tbody>\n",
       "</table>\n",
       "<p>146771 rows × 6 columns</p>\n",
       "</div>"
      ],
      "text/plain": [
       "        trip_duration  distance_traveled  num_of_passengers  surge_applied  \\\n",
       "189352          580.0               3.20                1.0              0   \n",
       "93048          2466.0              10.17                1.0              0   \n",
       "151052         2477.0              10.96                1.0              1   \n",
       "24514           569.0               3.65                1.0              0   \n",
       "122346          294.0               2.06                1.0              0   \n",
       "...               ...                ...                ...            ...   \n",
       "55293          1632.0               6.12                1.0              1   \n",
       "49751           701.0               2.85                1.0              0   \n",
       "136767           47.0               0.82                1.0              0   \n",
       "204614         1063.0              12.55                5.0              0   \n",
       "176991          507.0               2.20                1.0              0   \n",
       "\n",
       "        trip_duration_lb  trip_duration_ub  \n",
       "189352            -529.5            2074.5  \n",
       "93048             -529.5            2074.5  \n",
       "151052            -529.5            2074.5  \n",
       "24514             -529.5            2074.5  \n",
       "122346            -529.5            2074.5  \n",
       "...                  ...               ...  \n",
       "55293             -529.5            2074.5  \n",
       "49751             -529.5            2074.5  \n",
       "136767            -529.5            2074.5  \n",
       "204614            -529.5            2074.5  \n",
       "176991            -529.5            2074.5  \n",
       "\n",
       "[146771 rows x 6 columns]"
      ]
     },
     "execution_count": 41,
     "metadata": {},
     "output_type": "execute_result"
    }
   ],
   "source": [
    "X_train['trip_duration_lb'], X_train['trip_duration_ub'] = remove_outliers(X_train['trip_duration'])\n",
    "X_train"
   ]
  },
  {
   "cell_type": "code",
   "execution_count": 42,
   "id": "8b1cabe6",
   "metadata": {
    "execution": {
     "iopub.execute_input": "2023-06-27T15:10:43.470374Z",
     "iopub.status.busy": "2023-06-27T15:10:43.470012Z",
     "iopub.status.idle": "2023-06-27T15:10:43.495839Z",
     "shell.execute_reply": "2023-06-27T15:10:43.494799Z"
    },
    "papermill": {
     "duration": 0.06267,
     "end_time": "2023-06-27T15:10:43.498248",
     "exception": false,
     "start_time": "2023-06-27T15:10:43.435578",
     "status": "completed"
    },
    "tags": []
   },
   "outputs": [
    {
     "data": {
      "text/html": [
       "<div>\n",
       "<style scoped>\n",
       "    .dataframe tbody tr th:only-of-type {\n",
       "        vertical-align: middle;\n",
       "    }\n",
       "\n",
       "    .dataframe tbody tr th {\n",
       "        vertical-align: top;\n",
       "    }\n",
       "\n",
       "    .dataframe thead th {\n",
       "        text-align: right;\n",
       "    }\n",
       "</style>\n",
       "<table border=\"1\" class=\"dataframe\">\n",
       "  <thead>\n",
       "    <tr style=\"text-align: right;\">\n",
       "      <th></th>\n",
       "      <th>trip_duration</th>\n",
       "      <th>distance_traveled</th>\n",
       "      <th>num_of_passengers</th>\n",
       "      <th>surge_applied</th>\n",
       "      <th>trip_duration_lb</th>\n",
       "      <th>trip_duration_ub</th>\n",
       "      <th>distance_traveled_lb</th>\n",
       "      <th>distance_traveled_ub</th>\n",
       "    </tr>\n",
       "  </thead>\n",
       "  <tbody>\n",
       "    <tr>\n",
       "      <th>189352</th>\n",
       "      <td>580.0</td>\n",
       "      <td>3.20</td>\n",
       "      <td>1.0</td>\n",
       "      <td>0</td>\n",
       "      <td>-529.5</td>\n",
       "      <td>2074.5</td>\n",
       "      <td>-3.72</td>\n",
       "      <td>11.4</td>\n",
       "    </tr>\n",
       "    <tr>\n",
       "      <th>93048</th>\n",
       "      <td>2466.0</td>\n",
       "      <td>10.17</td>\n",
       "      <td>1.0</td>\n",
       "      <td>0</td>\n",
       "      <td>-529.5</td>\n",
       "      <td>2074.5</td>\n",
       "      <td>-3.72</td>\n",
       "      <td>11.4</td>\n",
       "    </tr>\n",
       "    <tr>\n",
       "      <th>151052</th>\n",
       "      <td>2477.0</td>\n",
       "      <td>10.96</td>\n",
       "      <td>1.0</td>\n",
       "      <td>1</td>\n",
       "      <td>-529.5</td>\n",
       "      <td>2074.5</td>\n",
       "      <td>-3.72</td>\n",
       "      <td>11.4</td>\n",
       "    </tr>\n",
       "    <tr>\n",
       "      <th>24514</th>\n",
       "      <td>569.0</td>\n",
       "      <td>3.65</td>\n",
       "      <td>1.0</td>\n",
       "      <td>0</td>\n",
       "      <td>-529.5</td>\n",
       "      <td>2074.5</td>\n",
       "      <td>-3.72</td>\n",
       "      <td>11.4</td>\n",
       "    </tr>\n",
       "    <tr>\n",
       "      <th>122346</th>\n",
       "      <td>294.0</td>\n",
       "      <td>2.06</td>\n",
       "      <td>1.0</td>\n",
       "      <td>0</td>\n",
       "      <td>-529.5</td>\n",
       "      <td>2074.5</td>\n",
       "      <td>-3.72</td>\n",
       "      <td>11.4</td>\n",
       "    </tr>\n",
       "    <tr>\n",
       "      <th>...</th>\n",
       "      <td>...</td>\n",
       "      <td>...</td>\n",
       "      <td>...</td>\n",
       "      <td>...</td>\n",
       "      <td>...</td>\n",
       "      <td>...</td>\n",
       "      <td>...</td>\n",
       "      <td>...</td>\n",
       "    </tr>\n",
       "    <tr>\n",
       "      <th>55293</th>\n",
       "      <td>1632.0</td>\n",
       "      <td>6.12</td>\n",
       "      <td>1.0</td>\n",
       "      <td>1</td>\n",
       "      <td>-529.5</td>\n",
       "      <td>2074.5</td>\n",
       "      <td>-3.72</td>\n",
       "      <td>11.4</td>\n",
       "    </tr>\n",
       "    <tr>\n",
       "      <th>49751</th>\n",
       "      <td>701.0</td>\n",
       "      <td>2.85</td>\n",
       "      <td>1.0</td>\n",
       "      <td>0</td>\n",
       "      <td>-529.5</td>\n",
       "      <td>2074.5</td>\n",
       "      <td>-3.72</td>\n",
       "      <td>11.4</td>\n",
       "    </tr>\n",
       "    <tr>\n",
       "      <th>136767</th>\n",
       "      <td>47.0</td>\n",
       "      <td>0.82</td>\n",
       "      <td>1.0</td>\n",
       "      <td>0</td>\n",
       "      <td>-529.5</td>\n",
       "      <td>2074.5</td>\n",
       "      <td>-3.72</td>\n",
       "      <td>11.4</td>\n",
       "    </tr>\n",
       "    <tr>\n",
       "      <th>204614</th>\n",
       "      <td>1063.0</td>\n",
       "      <td>12.55</td>\n",
       "      <td>5.0</td>\n",
       "      <td>0</td>\n",
       "      <td>-529.5</td>\n",
       "      <td>2074.5</td>\n",
       "      <td>-3.72</td>\n",
       "      <td>11.4</td>\n",
       "    </tr>\n",
       "    <tr>\n",
       "      <th>176991</th>\n",
       "      <td>507.0</td>\n",
       "      <td>2.20</td>\n",
       "      <td>1.0</td>\n",
       "      <td>0</td>\n",
       "      <td>-529.5</td>\n",
       "      <td>2074.5</td>\n",
       "      <td>-3.72</td>\n",
       "      <td>11.4</td>\n",
       "    </tr>\n",
       "  </tbody>\n",
       "</table>\n",
       "<p>146771 rows × 8 columns</p>\n",
       "</div>"
      ],
      "text/plain": [
       "        trip_duration  distance_traveled  num_of_passengers  surge_applied  \\\n",
       "189352          580.0               3.20                1.0              0   \n",
       "93048          2466.0              10.17                1.0              0   \n",
       "151052         2477.0              10.96                1.0              1   \n",
       "24514           569.0               3.65                1.0              0   \n",
       "122346          294.0               2.06                1.0              0   \n",
       "...               ...                ...                ...            ...   \n",
       "55293          1632.0               6.12                1.0              1   \n",
       "49751           701.0               2.85                1.0              0   \n",
       "136767           47.0               0.82                1.0              0   \n",
       "204614         1063.0              12.55                5.0              0   \n",
       "176991          507.0               2.20                1.0              0   \n",
       "\n",
       "        trip_duration_lb  trip_duration_ub  distance_traveled_lb  \\\n",
       "189352            -529.5            2074.5                 -3.72   \n",
       "93048             -529.5            2074.5                 -3.72   \n",
       "151052            -529.5            2074.5                 -3.72   \n",
       "24514             -529.5            2074.5                 -3.72   \n",
       "122346            -529.5            2074.5                 -3.72   \n",
       "...                  ...               ...                   ...   \n",
       "55293             -529.5            2074.5                 -3.72   \n",
       "49751             -529.5            2074.5                 -3.72   \n",
       "136767            -529.5            2074.5                 -3.72   \n",
       "204614            -529.5            2074.5                 -3.72   \n",
       "176991            -529.5            2074.5                 -3.72   \n",
       "\n",
       "        distance_traveled_ub  \n",
       "189352                  11.4  \n",
       "93048                   11.4  \n",
       "151052                  11.4  \n",
       "24514                   11.4  \n",
       "122346                  11.4  \n",
       "...                      ...  \n",
       "55293                   11.4  \n",
       "49751                   11.4  \n",
       "136767                  11.4  \n",
       "204614                  11.4  \n",
       "176991                  11.4  \n",
       "\n",
       "[146771 rows x 8 columns]"
      ]
     },
     "execution_count": 42,
     "metadata": {},
     "output_type": "execute_result"
    }
   ],
   "source": [
    "X_train['distance_traveled_lb'], X_train['distance_traveled_ub'] = remove_outliers(X_train['distance_traveled'])\n",
    "X_train"
   ]
  },
  {
   "cell_type": "code",
   "execution_count": 43,
   "id": "5a3f2149",
   "metadata": {
    "execution": {
     "iopub.execute_input": "2023-06-27T15:10:43.631294Z",
     "iopub.status.busy": "2023-06-27T15:10:43.630936Z",
     "iopub.status.idle": "2023-06-27T15:10:43.665650Z",
     "shell.execute_reply": "2023-06-27T15:10:43.664489Z"
    },
    "papermill": {
     "duration": 0.072799,
     "end_time": "2023-06-27T15:10:43.667967",
     "exception": false,
     "start_time": "2023-06-27T15:10:43.595168",
     "status": "completed"
    },
    "tags": []
   },
   "outputs": [
    {
     "data": {
      "text/html": [
       "<div>\n",
       "<style scoped>\n",
       "    .dataframe tbody tr th:only-of-type {\n",
       "        vertical-align: middle;\n",
       "    }\n",
       "\n",
       "    .dataframe tbody tr th {\n",
       "        vertical-align: top;\n",
       "    }\n",
       "\n",
       "    .dataframe thead th {\n",
       "        text-align: right;\n",
       "    }\n",
       "</style>\n",
       "<table border=\"1\" class=\"dataframe\">\n",
       "  <thead>\n",
       "    <tr style=\"text-align: right;\">\n",
       "      <th></th>\n",
       "      <th>trip_duration</th>\n",
       "      <th>distance_traveled</th>\n",
       "      <th>num_of_passengers</th>\n",
       "      <th>surge_applied</th>\n",
       "      <th>trip_duration_lb</th>\n",
       "      <th>trip_duration_ub</th>\n",
       "      <th>distance_traveled_lb</th>\n",
       "      <th>distance_traveled_ub</th>\n",
       "    </tr>\n",
       "  </thead>\n",
       "  <tbody>\n",
       "    <tr>\n",
       "      <th>189352</th>\n",
       "      <td>580.0</td>\n",
       "      <td>3.20</td>\n",
       "      <td>1.0</td>\n",
       "      <td>0</td>\n",
       "      <td>-529.5</td>\n",
       "      <td>2074.5</td>\n",
       "      <td>-3.72</td>\n",
       "      <td>11.4</td>\n",
       "    </tr>\n",
       "    <tr>\n",
       "      <th>24514</th>\n",
       "      <td>569.0</td>\n",
       "      <td>3.65</td>\n",
       "      <td>1.0</td>\n",
       "      <td>0</td>\n",
       "      <td>-529.5</td>\n",
       "      <td>2074.5</td>\n",
       "      <td>-3.72</td>\n",
       "      <td>11.4</td>\n",
       "    </tr>\n",
       "    <tr>\n",
       "      <th>122346</th>\n",
       "      <td>294.0</td>\n",
       "      <td>2.06</td>\n",
       "      <td>1.0</td>\n",
       "      <td>0</td>\n",
       "      <td>-529.5</td>\n",
       "      <td>2074.5</td>\n",
       "      <td>-3.72</td>\n",
       "      <td>11.4</td>\n",
       "    </tr>\n",
       "    <tr>\n",
       "      <th>16038</th>\n",
       "      <td>1006.0</td>\n",
       "      <td>5.52</td>\n",
       "      <td>1.0</td>\n",
       "      <td>0</td>\n",
       "      <td>-529.5</td>\n",
       "      <td>2074.5</td>\n",
       "      <td>-3.72</td>\n",
       "      <td>11.4</td>\n",
       "    </tr>\n",
       "    <tr>\n",
       "      <th>155136</th>\n",
       "      <td>181.0</td>\n",
       "      <td>1.26</td>\n",
       "      <td>1.0</td>\n",
       "      <td>1</td>\n",
       "      <td>-529.5</td>\n",
       "      <td>2074.5</td>\n",
       "      <td>-3.72</td>\n",
       "      <td>11.4</td>\n",
       "    </tr>\n",
       "    <tr>\n",
       "      <th>...</th>\n",
       "      <td>...</td>\n",
       "      <td>...</td>\n",
       "      <td>...</td>\n",
       "      <td>...</td>\n",
       "      <td>...</td>\n",
       "      <td>...</td>\n",
       "      <td>...</td>\n",
       "      <td>...</td>\n",
       "    </tr>\n",
       "    <tr>\n",
       "      <th>208971</th>\n",
       "      <td>481.0</td>\n",
       "      <td>1.80</td>\n",
       "      <td>1.0</td>\n",
       "      <td>1</td>\n",
       "      <td>-529.5</td>\n",
       "      <td>2074.5</td>\n",
       "      <td>-3.72</td>\n",
       "      <td>11.4</td>\n",
       "    </tr>\n",
       "    <tr>\n",
       "      <th>55293</th>\n",
       "      <td>1632.0</td>\n",
       "      <td>6.12</td>\n",
       "      <td>1.0</td>\n",
       "      <td>1</td>\n",
       "      <td>-529.5</td>\n",
       "      <td>2074.5</td>\n",
       "      <td>-3.72</td>\n",
       "      <td>11.4</td>\n",
       "    </tr>\n",
       "    <tr>\n",
       "      <th>49751</th>\n",
       "      <td>701.0</td>\n",
       "      <td>2.85</td>\n",
       "      <td>1.0</td>\n",
       "      <td>0</td>\n",
       "      <td>-529.5</td>\n",
       "      <td>2074.5</td>\n",
       "      <td>-3.72</td>\n",
       "      <td>11.4</td>\n",
       "    </tr>\n",
       "    <tr>\n",
       "      <th>136767</th>\n",
       "      <td>47.0</td>\n",
       "      <td>0.82</td>\n",
       "      <td>1.0</td>\n",
       "      <td>0</td>\n",
       "      <td>-529.5</td>\n",
       "      <td>2074.5</td>\n",
       "      <td>-3.72</td>\n",
       "      <td>11.4</td>\n",
       "    </tr>\n",
       "    <tr>\n",
       "      <th>176991</th>\n",
       "      <td>507.0</td>\n",
       "      <td>2.20</td>\n",
       "      <td>1.0</td>\n",
       "      <td>0</td>\n",
       "      <td>-529.5</td>\n",
       "      <td>2074.5</td>\n",
       "      <td>-3.72</td>\n",
       "      <td>11.4</td>\n",
       "    </tr>\n",
       "  </tbody>\n",
       "</table>\n",
       "<p>131579 rows × 8 columns</p>\n",
       "</div>"
      ],
      "text/plain": [
       "        trip_duration  distance_traveled  num_of_passengers  surge_applied  \\\n",
       "189352          580.0               3.20                1.0              0   \n",
       "24514           569.0               3.65                1.0              0   \n",
       "122346          294.0               2.06                1.0              0   \n",
       "16038          1006.0               5.52                1.0              0   \n",
       "155136          181.0               1.26                1.0              1   \n",
       "...               ...                ...                ...            ...   \n",
       "208971          481.0               1.80                1.0              1   \n",
       "55293          1632.0               6.12                1.0              1   \n",
       "49751           701.0               2.85                1.0              0   \n",
       "136767           47.0               0.82                1.0              0   \n",
       "176991          507.0               2.20                1.0              0   \n",
       "\n",
       "        trip_duration_lb  trip_duration_ub  distance_traveled_lb  \\\n",
       "189352            -529.5            2074.5                 -3.72   \n",
       "24514             -529.5            2074.5                 -3.72   \n",
       "122346            -529.5            2074.5                 -3.72   \n",
       "16038             -529.5            2074.5                 -3.72   \n",
       "155136            -529.5            2074.5                 -3.72   \n",
       "...                  ...               ...                   ...   \n",
       "208971            -529.5            2074.5                 -3.72   \n",
       "55293             -529.5            2074.5                 -3.72   \n",
       "49751             -529.5            2074.5                 -3.72   \n",
       "136767            -529.5            2074.5                 -3.72   \n",
       "176991            -529.5            2074.5                 -3.72   \n",
       "\n",
       "        distance_traveled_ub  \n",
       "189352                  11.4  \n",
       "24514                   11.4  \n",
       "122346                  11.4  \n",
       "16038                   11.4  \n",
       "155136                  11.4  \n",
       "...                      ...  \n",
       "208971                  11.4  \n",
       "55293                   11.4  \n",
       "49751                   11.4  \n",
       "136767                  11.4  \n",
       "176991                  11.4  \n",
       "\n",
       "[131579 rows x 8 columns]"
      ]
     },
     "execution_count": 43,
     "metadata": {},
     "output_type": "execute_result"
    }
   ],
   "source": [
    "X_train = X_train.loc[(X_train['trip_duration'] <= X_train['trip_duration_ub']) & (X_train['distance_traveled'] <= X_train['distance_traveled_ub'])]\n",
    "X_train"
   ]
  },
  {
   "cell_type": "markdown",
   "id": "2edb8c44",
   "metadata": {
    "papermill": {
     "duration": 0.032909,
     "end_time": "2023-06-27T15:10:43.734184",
     "exception": false,
     "start_time": "2023-06-27T15:10:43.701275",
     "status": "completed"
    },
    "tags": []
   },
   "source": [
    "Reduction of 11% of data in outliers, hopefully shall improve model performance"
   ]
  },
  {
   "cell_type": "code",
   "execution_count": 44,
   "id": "fe62e06e",
   "metadata": {
    "execution": {
     "iopub.execute_input": "2023-06-27T15:10:43.803757Z",
     "iopub.status.busy": "2023-06-27T15:10:43.803333Z",
     "iopub.status.idle": "2023-06-27T15:10:43.817265Z",
     "shell.execute_reply": "2023-06-27T15:10:43.816274Z"
    },
    "papermill": {
     "duration": 0.052263,
     "end_time": "2023-06-27T15:10:43.819878",
     "exception": false,
     "start_time": "2023-06-27T15:10:43.767615",
     "status": "completed"
    },
    "tags": []
   },
   "outputs": [],
   "source": [
    "y_train = y_train[X_train.index]"
   ]
  },
  {
   "cell_type": "code",
   "execution_count": 45,
   "id": "b99f8682",
   "metadata": {
    "execution": {
     "iopub.execute_input": "2023-06-27T15:10:43.889418Z",
     "iopub.status.busy": "2023-06-27T15:10:43.888778Z",
     "iopub.status.idle": "2023-06-27T15:10:43.913671Z",
     "shell.execute_reply": "2023-06-27T15:10:43.912843Z"
    },
    "papermill": {
     "duration": 0.061969,
     "end_time": "2023-06-27T15:10:43.915842",
     "exception": false,
     "start_time": "2023-06-27T15:10:43.853873",
     "status": "completed"
    },
    "tags": []
   },
   "outputs": [
    {
     "data": {
      "text/plain": [
       "array([[0.27965284, 0.27968338, 0.11111111, 0.        ],\n",
       "       [0.27434908, 0.31926121, 0.11111111, 0.        ],\n",
       "       [0.14175506, 0.17941953, 0.11111111, 0.        ],\n",
       "       ...,\n",
       "       [0.33799421, 0.24890062, 0.11111111, 0.        ],\n",
       "       [0.02266152, 0.0703606 , 0.11111111, 0.        ],\n",
       "       [0.24445516, 0.19173263, 0.11111111, 0.        ]])"
      ]
     },
     "execution_count": 45,
     "metadata": {},
     "output_type": "execute_result"
    }
   ],
   "source": [
    "scaler = MinMaxScaler()\n",
    "X_train = X_train[model_features]\n",
    "# Fitting on only X_train\n",
    "scaler.fit(X_train)\n",
    "X_train = scaler.transform(X_train)\n",
    "X_train"
   ]
  },
  {
   "cell_type": "code",
   "execution_count": 46,
   "id": "38164326",
   "metadata": {
    "execution": {
     "iopub.execute_input": "2023-06-27T15:10:43.989538Z",
     "iopub.status.busy": "2023-06-27T15:10:43.988878Z",
     "iopub.status.idle": "2023-06-27T15:10:44.021682Z",
     "shell.execute_reply": "2023-06-27T15:10:44.020506Z"
    },
    "papermill": {
     "duration": 0.073864,
     "end_time": "2023-06-27T15:10:44.024141",
     "exception": false,
     "start_time": "2023-06-27T15:10:43.950277",
     "status": "completed"
    },
    "tags": []
   },
   "outputs": [
    {
     "data": {
      "text/html": [
       "<style>#sk-container-id-2 {color: black;}#sk-container-id-2 pre{padding: 0;}#sk-container-id-2 div.sk-toggleable {background-color: white;}#sk-container-id-2 label.sk-toggleable__label {cursor: pointer;display: block;width: 100%;margin-bottom: 0;padding: 0.3em;box-sizing: border-box;text-align: center;}#sk-container-id-2 label.sk-toggleable__label-arrow:before {content: \"▸\";float: left;margin-right: 0.25em;color: #696969;}#sk-container-id-2 label.sk-toggleable__label-arrow:hover:before {color: black;}#sk-container-id-2 div.sk-estimator:hover label.sk-toggleable__label-arrow:before {color: black;}#sk-container-id-2 div.sk-toggleable__content {max-height: 0;max-width: 0;overflow: hidden;text-align: left;background-color: #f0f8ff;}#sk-container-id-2 div.sk-toggleable__content pre {margin: 0.2em;color: black;border-radius: 0.25em;background-color: #f0f8ff;}#sk-container-id-2 input.sk-toggleable__control:checked~div.sk-toggleable__content {max-height: 200px;max-width: 100%;overflow: auto;}#sk-container-id-2 input.sk-toggleable__control:checked~label.sk-toggleable__label-arrow:before {content: \"▾\";}#sk-container-id-2 div.sk-estimator input.sk-toggleable__control:checked~label.sk-toggleable__label {background-color: #d4ebff;}#sk-container-id-2 div.sk-label input.sk-toggleable__control:checked~label.sk-toggleable__label {background-color: #d4ebff;}#sk-container-id-2 input.sk-hidden--visually {border: 0;clip: rect(1px 1px 1px 1px);clip: rect(1px, 1px, 1px, 1px);height: 1px;margin: -1px;overflow: hidden;padding: 0;position: absolute;width: 1px;}#sk-container-id-2 div.sk-estimator {font-family: monospace;background-color: #f0f8ff;border: 1px dotted black;border-radius: 0.25em;box-sizing: border-box;margin-bottom: 0.5em;}#sk-container-id-2 div.sk-estimator:hover {background-color: #d4ebff;}#sk-container-id-2 div.sk-parallel-item::after {content: \"\";width: 100%;border-bottom: 1px solid gray;flex-grow: 1;}#sk-container-id-2 div.sk-label:hover label.sk-toggleable__label {background-color: #d4ebff;}#sk-container-id-2 div.sk-serial::before {content: \"\";position: absolute;border-left: 1px solid gray;box-sizing: border-box;top: 0;bottom: 0;left: 50%;z-index: 0;}#sk-container-id-2 div.sk-serial {display: flex;flex-direction: column;align-items: center;background-color: white;padding-right: 0.2em;padding-left: 0.2em;position: relative;}#sk-container-id-2 div.sk-item {position: relative;z-index: 1;}#sk-container-id-2 div.sk-parallel {display: flex;align-items: stretch;justify-content: center;background-color: white;position: relative;}#sk-container-id-2 div.sk-item::before, #sk-container-id-2 div.sk-parallel-item::before {content: \"\";position: absolute;border-left: 1px solid gray;box-sizing: border-box;top: 0;bottom: 0;left: 50%;z-index: -1;}#sk-container-id-2 div.sk-parallel-item {display: flex;flex-direction: column;z-index: 1;position: relative;background-color: white;}#sk-container-id-2 div.sk-parallel-item:first-child::after {align-self: flex-end;width: 50%;}#sk-container-id-2 div.sk-parallel-item:last-child::after {align-self: flex-start;width: 50%;}#sk-container-id-2 div.sk-parallel-item:only-child::after {width: 0;}#sk-container-id-2 div.sk-dashed-wrapped {border: 1px dashed gray;margin: 0 0.4em 0.5em 0.4em;box-sizing: border-box;padding-bottom: 0.4em;background-color: white;}#sk-container-id-2 div.sk-label label {font-family: monospace;font-weight: bold;display: inline-block;line-height: 1.2em;}#sk-container-id-2 div.sk-label-container {text-align: center;}#sk-container-id-2 div.sk-container {/* jupyter's `normalize.less` sets `[hidden] { display: none; }` but bootstrap.min.css set `[hidden] { display: none !important; }` so we also need the `!important` here to be able to override the default hidden behavior on the sphinx rendered scikit-learn.org. See: https://github.com/scikit-learn/scikit-learn/issues/21755 */display: inline-block !important;position: relative;}#sk-container-id-2 div.sk-text-repr-fallback {display: none;}</style><div id=\"sk-container-id-2\" class=\"sk-top-container\"><div class=\"sk-text-repr-fallback\"><pre>LinearRegression()</pre><b>In a Jupyter environment, please rerun this cell to show the HTML representation or trust the notebook. <br />On GitHub, the HTML representation is unable to render, please try loading this page with nbviewer.org.</b></div><div class=\"sk-container\" hidden><div class=\"sk-item\"><div class=\"sk-estimator sk-toggleable\"><input class=\"sk-toggleable__control sk-hidden--visually\" id=\"sk-estimator-id-2\" type=\"checkbox\" checked><label for=\"sk-estimator-id-2\" class=\"sk-toggleable__label sk-toggleable__label-arrow\">LinearRegression</label><div class=\"sk-toggleable__content\"><pre>LinearRegression()</pre></div></div></div></div></div>"
      ],
      "text/plain": [
       "LinearRegression()"
      ]
     },
     "execution_count": 46,
     "metadata": {},
     "output_type": "execute_result"
    }
   ],
   "source": [
    "model = LinearRegression()\n",
    "model.fit(X_train, y_train)"
   ]
  },
  {
   "cell_type": "code",
   "execution_count": 47,
   "id": "fdcd75fc",
   "metadata": {
    "execution": {
     "iopub.execute_input": "2023-06-27T15:10:44.095529Z",
     "iopub.status.busy": "2023-06-27T15:10:44.095147Z",
     "iopub.status.idle": "2023-06-27T15:10:44.112107Z",
     "shell.execute_reply": "2023-06-27T15:10:44.108348Z"
    },
    "papermill": {
     "duration": 0.055645,
     "end_time": "2023-06-27T15:10:44.115160",
     "exception": false,
     "start_time": "2023-06-27T15:10:44.059515",
     "status": "completed"
    },
    "tags": []
   },
   "outputs": [
    {
     "data": {
      "text/plain": [
       "array([180.66542623, 192.61967255,  85.37012718, ..., 230.78706972,\n",
       "        24.0720235 ,  39.57839248])"
      ]
     },
     "execution_count": 47,
     "metadata": {},
     "output_type": "execute_result"
    }
   ],
   "source": [
    "X_test = scaler.transform(X_test)\n",
    "y_pred = model.predict(X_test)\n",
    "y_pred"
   ]
  },
  {
   "cell_type": "code",
   "execution_count": 48,
   "id": "92c95b6d",
   "metadata": {
    "execution": {
     "iopub.execute_input": "2023-06-27T15:10:44.227933Z",
     "iopub.status.busy": "2023-06-27T15:10:44.227527Z",
     "iopub.status.idle": "2023-06-27T15:10:44.241643Z",
     "shell.execute_reply": "2023-06-27T15:10:44.240656Z"
    },
    "papermill": {
     "duration": 0.072034,
     "end_time": "2023-06-27T15:10:44.243599",
     "exception": false,
     "start_time": "2023-06-27T15:10:44.171565",
     "status": "completed"
    },
    "tags": []
   },
   "outputs": [
    {
     "data": {
      "text/html": [
       "<div>\n",
       "<style scoped>\n",
       "    .dataframe tbody tr th:only-of-type {\n",
       "        vertical-align: middle;\n",
       "    }\n",
       "\n",
       "    .dataframe tbody tr th {\n",
       "        vertical-align: top;\n",
       "    }\n",
       "\n",
       "    .dataframe thead th {\n",
       "        text-align: right;\n",
       "    }\n",
       "</style>\n",
       "<table border=\"1\" class=\"dataframe\">\n",
       "  <thead>\n",
       "    <tr style=\"text-align: right;\">\n",
       "      <th></th>\n",
       "      <th>fare</th>\n",
       "      <th>Predicted Fare</th>\n",
       "    </tr>\n",
       "  </thead>\n",
       "  <tbody>\n",
       "    <tr>\n",
       "      <th>160516</th>\n",
       "      <td>180.00</td>\n",
       "      <td>180.665426</td>\n",
       "    </tr>\n",
       "    <tr>\n",
       "      <th>193984</th>\n",
       "      <td>195.00</td>\n",
       "      <td>192.619673</td>\n",
       "    </tr>\n",
       "    <tr>\n",
       "      <th>170682</th>\n",
       "      <td>86.25</td>\n",
       "      <td>85.370127</td>\n",
       "    </tr>\n",
       "    <tr>\n",
       "      <th>205636</th>\n",
       "      <td>262.50</td>\n",
       "      <td>259.887726</td>\n",
       "    </tr>\n",
       "    <tr>\n",
       "      <th>149651</th>\n",
       "      <td>63.75</td>\n",
       "      <td>68.515211</td>\n",
       "    </tr>\n",
       "    <tr>\n",
       "      <th>...</th>\n",
       "      <td>...</td>\n",
       "      <td>...</td>\n",
       "    </tr>\n",
       "    <tr>\n",
       "      <th>84947</th>\n",
       "      <td>183.75</td>\n",
       "      <td>175.637470</td>\n",
       "    </tr>\n",
       "    <tr>\n",
       "      <th>4384</th>\n",
       "      <td>390.00</td>\n",
       "      <td>431.088426</td>\n",
       "    </tr>\n",
       "    <tr>\n",
       "      <th>159590</th>\n",
       "      <td>243.75</td>\n",
       "      <td>230.787070</td>\n",
       "    </tr>\n",
       "    <tr>\n",
       "      <th>190532</th>\n",
       "      <td>75.00</td>\n",
       "      <td>24.072024</td>\n",
       "    </tr>\n",
       "    <tr>\n",
       "      <th>4290</th>\n",
       "      <td>33.75</td>\n",
       "      <td>39.578392</td>\n",
       "    </tr>\n",
       "  </tbody>\n",
       "</table>\n",
       "<p>62902 rows × 2 columns</p>\n",
       "</div>"
      ],
      "text/plain": [
       "          fare  Predicted Fare\n",
       "160516  180.00      180.665426\n",
       "193984  195.00      192.619673\n",
       "170682   86.25       85.370127\n",
       "205636  262.50      259.887726\n",
       "149651   63.75       68.515211\n",
       "...        ...             ...\n",
       "84947   183.75      175.637470\n",
       "4384    390.00      431.088426\n",
       "159590  243.75      230.787070\n",
       "190532   75.00       24.072024\n",
       "4290     33.75       39.578392\n",
       "\n",
       "[62902 rows x 2 columns]"
      ]
     },
     "execution_count": 48,
     "metadata": {},
     "output_type": "execute_result"
    }
   ],
   "source": [
    "comparing_dump_df = pd.DataFrame(y_test)\n",
    "comparing_dump_df['Predicted Fare'] = y_pred\n",
    "comparing_dump_df"
   ]
  },
  {
   "cell_type": "code",
   "execution_count": 49,
   "id": "2145a742",
   "metadata": {
    "execution": {
     "iopub.execute_input": "2023-06-27T15:10:44.314606Z",
     "iopub.status.busy": "2023-06-27T15:10:44.314219Z",
     "iopub.status.idle": "2023-06-27T15:10:44.321417Z",
     "shell.execute_reply": "2023-06-27T15:10:44.320609Z"
    },
    "papermill": {
     "duration": 0.045037,
     "end_time": "2023-06-27T15:10:44.323419",
     "exception": false,
     "start_time": "2023-06-27T15:10:44.278382",
     "status": "completed"
    },
    "tags": []
   },
   "outputs": [
    {
     "data": {
      "text/plain": [
       "-2.9987448244263595"
      ]
     },
     "execution_count": 49,
     "metadata": {},
     "output_type": "execute_result"
    }
   ],
   "source": [
    "r2_score(y_test, y_pred)"
   ]
  },
  {
   "cell_type": "code",
   "execution_count": 50,
   "id": "da223c2b",
   "metadata": {
    "execution": {
     "iopub.execute_input": "2023-06-27T15:10:44.397680Z",
     "iopub.status.busy": "2023-06-27T15:10:44.397048Z",
     "iopub.status.idle": "2023-06-27T15:10:45.219335Z",
     "shell.execute_reply": "2023-06-27T15:10:45.218241Z"
    },
    "papermill": {
     "duration": 0.863111,
     "end_time": "2023-06-27T15:10:45.221592",
     "exception": false,
     "start_time": "2023-06-27T15:10:44.358481",
     "status": "completed"
    },
    "tags": []
   },
   "outputs": [
    {
     "data": {
      "image/png": "[encoded data removed]",
      "text/plain": [
       "<Figure size 640x480 with 1 Axes>"
      ]
     },
     "metadata": {},
     "output_type": "display_data"
    }
   ],
   "source": [
    "true_value = y_test\n",
    "predicted_value = y_pred \n",
    "\n",
    "plt.scatter(true_value, predicted_value, c='crimson')\n",
    "plt.yscale('log')\n",
    "plt.xscale('log')\n",
    "\n",
    "p1 = max(max(predicted_value), max(true_value))\n",
    "p2 = min(min(predicted_value), min(true_value))\n",
    "plt.plot([p1, p2], [p1, p2], 'b-')\n",
    "plt.xlabel('True Values', fontsize=15)\n",
    "plt.ylabel('Predictions', fontsize=15)\n",
    "plt.axis('equal')\n",
    "plt.show()"
   ]
  },
  {
   "cell_type": "markdown",
   "id": "0908e894",
   "metadata": {
    "papermill": {
     "duration": 0.040485,
     "end_time": "2023-06-27T15:10:45.298372",
     "exception": false,
     "start_time": "2023-06-27T15:10:45.257887",
     "status": "completed"
    },
    "tags": []
   },
   "source": [
    "Model is still not performing well, lets try other models"
   ]
  },
  {
   "cell_type": "code",
   "execution_count": 51,
   "id": "603a00d6",
   "metadata": {
    "execution": {
     "iopub.execute_input": "2023-06-27T15:10:45.371436Z",
     "iopub.status.busy": "2023-06-27T15:10:45.371038Z",
     "iopub.status.idle": "2023-06-27T15:10:45.401453Z",
     "shell.execute_reply": "2023-06-27T15:10:45.400451Z"
    },
    "papermill": {
     "duration": 0.069407,
     "end_time": "2023-06-27T15:10:45.403808",
     "exception": false,
     "start_time": "2023-06-27T15:10:45.334401",
     "status": "completed"
    },
    "tags": []
   },
   "outputs": [],
   "source": [
    "# Getting old (non-normalized training testing split)\n",
    "X_train, X_test, y_train, y_test = train_test_split(X,y,train_size=0.7, random_state=101)"
   ]
  },
  {
   "cell_type": "code",
   "execution_count": 52,
   "id": "bfc94c63",
   "metadata": {
    "execution": {
     "iopub.execute_input": "2023-06-27T15:10:45.475963Z",
     "iopub.status.busy": "2023-06-27T15:10:45.475457Z",
     "iopub.status.idle": "2023-06-27T15:10:45.500754Z",
     "shell.execute_reply": "2023-06-27T15:10:45.499674Z"
    },
    "papermill": {
     "duration": 0.064258,
     "end_time": "2023-06-27T15:10:45.503027",
     "exception": false,
     "start_time": "2023-06-27T15:10:45.438769",
     "status": "completed"
    },
    "tags": []
   },
   "outputs": [
    {
     "data": {
      "text/html": [
       "<div>\n",
       "<style scoped>\n",
       "    .dataframe tbody tr th:only-of-type {\n",
       "        vertical-align: middle;\n",
       "    }\n",
       "\n",
       "    .dataframe tbody tr th {\n",
       "        vertical-align: top;\n",
       "    }\n",
       "\n",
       "    .dataframe thead th {\n",
       "        text-align: right;\n",
       "    }\n",
       "</style>\n",
       "<table border=\"1\" class=\"dataframe\">\n",
       "  <thead>\n",
       "    <tr style=\"text-align: right;\">\n",
       "      <th></th>\n",
       "      <th>trip_duration</th>\n",
       "      <th>distance_traveled</th>\n",
       "      <th>num_of_passengers</th>\n",
       "      <th>surge_applied</th>\n",
       "      <th>trip_duration_lb</th>\n",
       "      <th>trip_duration_ub</th>\n",
       "    </tr>\n",
       "  </thead>\n",
       "  <tbody>\n",
       "    <tr>\n",
       "      <th>189352</th>\n",
       "      <td>580.0</td>\n",
       "      <td>3.20</td>\n",
       "      <td>1.0</td>\n",
       "      <td>0</td>\n",
       "      <td>-529.5</td>\n",
       "      <td>2074.5</td>\n",
       "    </tr>\n",
       "    <tr>\n",
       "      <th>93048</th>\n",
       "      <td>2466.0</td>\n",
       "      <td>10.17</td>\n",
       "      <td>1.0</td>\n",
       "      <td>0</td>\n",
       "      <td>-529.5</td>\n",
       "      <td>2074.5</td>\n",
       "    </tr>\n",
       "    <tr>\n",
       "      <th>151052</th>\n",
       "      <td>2477.0</td>\n",
       "      <td>10.96</td>\n",
       "      <td>1.0</td>\n",
       "      <td>1</td>\n",
       "      <td>-529.5</td>\n",
       "      <td>2074.5</td>\n",
       "    </tr>\n",
       "    <tr>\n",
       "      <th>24514</th>\n",
       "      <td>569.0</td>\n",
       "      <td>3.65</td>\n",
       "      <td>1.0</td>\n",
       "      <td>0</td>\n",
       "      <td>-529.5</td>\n",
       "      <td>2074.5</td>\n",
       "    </tr>\n",
       "    <tr>\n",
       "      <th>122346</th>\n",
       "      <td>294.0</td>\n",
       "      <td>2.06</td>\n",
       "      <td>1.0</td>\n",
       "      <td>0</td>\n",
       "      <td>-529.5</td>\n",
       "      <td>2074.5</td>\n",
       "    </tr>\n",
       "    <tr>\n",
       "      <th>...</th>\n",
       "      <td>...</td>\n",
       "      <td>...</td>\n",
       "      <td>...</td>\n",
       "      <td>...</td>\n",
       "      <td>...</td>\n",
       "      <td>...</td>\n",
       "    </tr>\n",
       "    <tr>\n",
       "      <th>55293</th>\n",
       "      <td>1632.0</td>\n",
       "      <td>6.12</td>\n",
       "      <td>1.0</td>\n",
       "      <td>1</td>\n",
       "      <td>-529.5</td>\n",
       "      <td>2074.5</td>\n",
       "    </tr>\n",
       "    <tr>\n",
       "      <th>49751</th>\n",
       "      <td>701.0</td>\n",
       "      <td>2.85</td>\n",
       "      <td>1.0</td>\n",
       "      <td>0</td>\n",
       "      <td>-529.5</td>\n",
       "      <td>2074.5</td>\n",
       "    </tr>\n",
       "    <tr>\n",
       "      <th>136767</th>\n",
       "      <td>47.0</td>\n",
       "      <td>0.82</td>\n",
       "      <td>1.0</td>\n",
       "      <td>0</td>\n",
       "      <td>-529.5</td>\n",
       "      <td>2074.5</td>\n",
       "    </tr>\n",
       "    <tr>\n",
       "      <th>204614</th>\n",
       "      <td>1063.0</td>\n",
       "      <td>12.55</td>\n",
       "      <td>5.0</td>\n",
       "      <td>0</td>\n",
       "      <td>-529.5</td>\n",
       "      <td>2074.5</td>\n",
       "    </tr>\n",
       "    <tr>\n",
       "      <th>176991</th>\n",
       "      <td>507.0</td>\n",
       "      <td>2.20</td>\n",
       "      <td>1.0</td>\n",
       "      <td>0</td>\n",
       "      <td>-529.5</td>\n",
       "      <td>2074.5</td>\n",
       "    </tr>\n",
       "  </tbody>\n",
       "</table>\n",
       "<p>146771 rows × 6 columns</p>\n",
       "</div>"
      ],
      "text/plain": [
       "        trip_duration  distance_traveled  num_of_passengers  surge_applied  \\\n",
       "189352          580.0               3.20                1.0              0   \n",
       "93048          2466.0              10.17                1.0              0   \n",
       "151052         2477.0              10.96                1.0              1   \n",
       "24514           569.0               3.65                1.0              0   \n",
       "122346          294.0               2.06                1.0              0   \n",
       "...               ...                ...                ...            ...   \n",
       "55293          1632.0               6.12                1.0              1   \n",
       "49751           701.0               2.85                1.0              0   \n",
       "136767           47.0               0.82                1.0              0   \n",
       "204614         1063.0              12.55                5.0              0   \n",
       "176991          507.0               2.20                1.0              0   \n",
       "\n",
       "        trip_duration_lb  trip_duration_ub  \n",
       "189352            -529.5            2074.5  \n",
       "93048             -529.5            2074.5  \n",
       "151052            -529.5            2074.5  \n",
       "24514             -529.5            2074.5  \n",
       "122346            -529.5            2074.5  \n",
       "...                  ...               ...  \n",
       "55293             -529.5            2074.5  \n",
       "49751             -529.5            2074.5  \n",
       "136767            -529.5            2074.5  \n",
       "204614            -529.5            2074.5  \n",
       "176991            -529.5            2074.5  \n",
       "\n",
       "[146771 rows x 6 columns]"
      ]
     },
     "execution_count": 52,
     "metadata": {},
     "output_type": "execute_result"
    }
   ],
   "source": [
    "X_train['trip_duration_lb'], X_train['trip_duration_ub'] = remove_outliers(X_train['trip_duration'])\n",
    "X_train"
   ]
  },
  {
   "cell_type": "code",
   "execution_count": 53,
   "id": "18d0094f",
   "metadata": {
    "execution": {
     "iopub.execute_input": "2023-06-27T15:10:45.575878Z",
     "iopub.status.busy": "2023-06-27T15:10:45.575221Z",
     "iopub.status.idle": "2023-06-27T15:10:45.601135Z",
     "shell.execute_reply": "2023-06-27T15:10:45.600313Z"
    },
    "papermill": {
     "duration": 0.06463,
     "end_time": "2023-06-27T15:10:45.603218",
     "exception": false,
     "start_time": "2023-06-27T15:10:45.538588",
     "status": "completed"
    },
    "tags": []
   },
   "outputs": [
    {
     "data": {
      "text/html": [
       "<div>\n",
       "<style scoped>\n",
       "    .dataframe tbody tr th:only-of-type {\n",
       "        vertical-align: middle;\n",
       "    }\n",
       "\n",
       "    .dataframe tbody tr th {\n",
       "        vertical-align: top;\n",
       "    }\n",
       "\n",
       "    .dataframe thead th {\n",
       "        text-align: right;\n",
       "    }\n",
       "</style>\n",
       "<table border=\"1\" class=\"dataframe\">\n",
       "  <thead>\n",
       "    <tr style=\"text-align: right;\">\n",
       "      <th></th>\n",
       "      <th>trip_duration</th>\n",
       "      <th>distance_traveled</th>\n",
       "      <th>num_of_passengers</th>\n",
       "      <th>surge_applied</th>\n",
       "      <th>trip_duration_lb</th>\n",
       "      <th>trip_duration_ub</th>\n",
       "      <th>distance_traveled_lb</th>\n",
       "      <th>distance_traveled_ub</th>\n",
       "    </tr>\n",
       "  </thead>\n",
       "  <tbody>\n",
       "    <tr>\n",
       "      <th>189352</th>\n",
       "      <td>580.0</td>\n",
       "      <td>3.20</td>\n",
       "      <td>1.0</td>\n",
       "      <td>0</td>\n",
       "      <td>-529.5</td>\n",
       "      <td>2074.5</td>\n",
       "      <td>-3.72</td>\n",
       "      <td>11.4</td>\n",
       "    </tr>\n",
       "    <tr>\n",
       "      <th>93048</th>\n",
       "      <td>2466.0</td>\n",
       "      <td>10.17</td>\n",
       "      <td>1.0</td>\n",
       "      <td>0</td>\n",
       "      <td>-529.5</td>\n",
       "      <td>2074.5</td>\n",
       "      <td>-3.72</td>\n",
       "      <td>11.4</td>\n",
       "    </tr>\n",
       "    <tr>\n",
       "      <th>151052</th>\n",
       "      <td>2477.0</td>\n",
       "      <td>10.96</td>\n",
       "      <td>1.0</td>\n",
       "      <td>1</td>\n",
       "      <td>-529.5</td>\n",
       "      <td>2074.5</td>\n",
       "      <td>-3.72</td>\n",
       "      <td>11.4</td>\n",
       "    </tr>\n",
       "    <tr>\n",
       "      <th>24514</th>\n",
       "      <td>569.0</td>\n",
       "      <td>3.65</td>\n",
       "      <td>1.0</td>\n",
       "      <td>0</td>\n",
       "      <td>-529.5</td>\n",
       "      <td>2074.5</td>\n",
       "      <td>-3.72</td>\n",
       "      <td>11.4</td>\n",
       "    </tr>\n",
       "    <tr>\n",
       "      <th>122346</th>\n",
       "      <td>294.0</td>\n",
       "      <td>2.06</td>\n",
       "      <td>1.0</td>\n",
       "      <td>0</td>\n",
       "      <td>-529.5</td>\n",
       "      <td>2074.5</td>\n",
       "      <td>-3.72</td>\n",
       "      <td>11.4</td>\n",
       "    </tr>\n",
       "    <tr>\n",
       "      <th>...</th>\n",
       "      <td>...</td>\n",
       "      <td>...</td>\n",
       "      <td>...</td>\n",
       "      <td>...</td>\n",
       "      <td>...</td>\n",
       "      <td>...</td>\n",
       "      <td>...</td>\n",
       "      <td>...</td>\n",
       "    </tr>\n",
       "    <tr>\n",
       "      <th>55293</th>\n",
       "      <td>1632.0</td>\n",
       "      <td>6.12</td>\n",
       "      <td>1.0</td>\n",
       "      <td>1</td>\n",
       "      <td>-529.5</td>\n",
       "      <td>2074.5</td>\n",
       "      <td>-3.72</td>\n",
       "      <td>11.4</td>\n",
       "    </tr>\n",
       "    <tr>\n",
       "      <th>49751</th>\n",
       "      <td>701.0</td>\n",
       "      <td>2.85</td>\n",
       "      <td>1.0</td>\n",
       "      <td>0</td>\n",
       "      <td>-529.5</td>\n",
       "      <td>2074.5</td>\n",
       "      <td>-3.72</td>\n",
       "      <td>11.4</td>\n",
       "    </tr>\n",
       "    <tr>\n",
       "      <th>136767</th>\n",
       "      <td>47.0</td>\n",
       "      <td>0.82</td>\n",
       "      <td>1.0</td>\n",
       "      <td>0</td>\n",
       "      <td>-529.5</td>\n",
       "      <td>2074.5</td>\n",
       "      <td>-3.72</td>\n",
       "      <td>11.4</td>\n",
       "    </tr>\n",
       "    <tr>\n",
       "      <th>204614</th>\n",
       "      <td>1063.0</td>\n",
       "      <td>12.55</td>\n",
       "      <td>5.0</td>\n",
       "      <td>0</td>\n",
       "      <td>-529.5</td>\n",
       "      <td>2074.5</td>\n",
       "      <td>-3.72</td>\n",
       "      <td>11.4</td>\n",
       "    </tr>\n",
       "    <tr>\n",
       "      <th>176991</th>\n",
       "      <td>507.0</td>\n",
       "      <td>2.20</td>\n",
       "      <td>1.0</td>\n",
       "      <td>0</td>\n",
       "      <td>-529.5</td>\n",
       "      <td>2074.5</td>\n",
       "      <td>-3.72</td>\n",
       "      <td>11.4</td>\n",
       "    </tr>\n",
       "  </tbody>\n",
       "</table>\n",
       "<p>146771 rows × 8 columns</p>\n",
       "</div>"
      ],
      "text/plain": [
       "        trip_duration  distance_traveled  num_of_passengers  surge_applied  \\\n",
       "189352          580.0               3.20                1.0              0   \n",
       "93048          2466.0              10.17                1.0              0   \n",
       "151052         2477.0              10.96                1.0              1   \n",
       "24514           569.0               3.65                1.0              0   \n",
       "122346          294.0               2.06                1.0              0   \n",
       "...               ...                ...                ...            ...   \n",
       "55293          1632.0               6.12                1.0              1   \n",
       "49751           701.0               2.85                1.0              0   \n",
       "136767           47.0               0.82                1.0              0   \n",
       "204614         1063.0              12.55                5.0              0   \n",
       "176991          507.0               2.20                1.0              0   \n",
       "\n",
       "        trip_duration_lb  trip_duration_ub  distance_traveled_lb  \\\n",
       "189352            -529.5            2074.5                 -3.72   \n",
       "93048             -529.5            2074.5                 -3.72   \n",
       "151052            -529.5            2074.5                 -3.72   \n",
       "24514             -529.5            2074.5                 -3.72   \n",
       "122346            -529.5            2074.5                 -3.72   \n",
       "...                  ...               ...                   ...   \n",
       "55293             -529.5            2074.5                 -3.72   \n",
       "49751             -529.5            2074.5                 -3.72   \n",
       "136767            -529.5            2074.5                 -3.72   \n",
       "204614            -529.5            2074.5                 -3.72   \n",
       "176991            -529.5            2074.5                 -3.72   \n",
       "\n",
       "        distance_traveled_ub  \n",
       "189352                  11.4  \n",
       "93048                   11.4  \n",
       "151052                  11.4  \n",
       "24514                   11.4  \n",
       "122346                  11.4  \n",
       "...                      ...  \n",
       "55293                   11.4  \n",
       "49751                   11.4  \n",
       "136767                  11.4  \n",
       "204614                  11.4  \n",
       "176991                  11.4  \n",
       "\n",
       "[146771 rows x 8 columns]"
      ]
     },
     "execution_count": 53,
     "metadata": {},
     "output_type": "execute_result"
    }
   ],
   "source": [
    "X_train['distance_traveled_lb'], X_train['distance_traveled_ub'] = remove_outliers(X_train['distance_traveled'])\n",
    "X_train"
   ]
  },
  {
   "cell_type": "code",
   "execution_count": 54,
   "id": "b7fb804e",
   "metadata": {
    "execution": {
     "iopub.execute_input": "2023-06-27T15:10:45.677959Z",
     "iopub.status.busy": "2023-06-27T15:10:45.677544Z",
     "iopub.status.idle": "2023-06-27T15:10:45.710616Z",
     "shell.execute_reply": "2023-06-27T15:10:45.709876Z"
    },
    "papermill": {
     "duration": 0.072751,
     "end_time": "2023-06-27T15:10:45.712643",
     "exception": false,
     "start_time": "2023-06-27T15:10:45.639892",
     "status": "completed"
    },
    "tags": []
   },
   "outputs": [
    {
     "data": {
      "text/html": [
       "<div>\n",
       "<style scoped>\n",
       "    .dataframe tbody tr th:only-of-type {\n",
       "        vertical-align: middle;\n",
       "    }\n",
       "\n",
       "    .dataframe tbody tr th {\n",
       "        vertical-align: top;\n",
       "    }\n",
       "\n",
       "    .dataframe thead th {\n",
       "        text-align: right;\n",
       "    }\n",
       "</style>\n",
       "<table border=\"1\" class=\"dataframe\">\n",
       "  <thead>\n",
       "    <tr style=\"text-align: right;\">\n",
       "      <th></th>\n",
       "      <th>trip_duration</th>\n",
       "      <th>distance_traveled</th>\n",
       "      <th>num_of_passengers</th>\n",
       "      <th>surge_applied</th>\n",
       "      <th>trip_duration_lb</th>\n",
       "      <th>trip_duration_ub</th>\n",
       "      <th>distance_traveled_lb</th>\n",
       "      <th>distance_traveled_ub</th>\n",
       "    </tr>\n",
       "  </thead>\n",
       "  <tbody>\n",
       "    <tr>\n",
       "      <th>189352</th>\n",
       "      <td>580.0</td>\n",
       "      <td>3.20</td>\n",
       "      <td>1.0</td>\n",
       "      <td>0</td>\n",
       "      <td>-529.5</td>\n",
       "      <td>2074.5</td>\n",
       "      <td>-3.72</td>\n",
       "      <td>11.4</td>\n",
       "    </tr>\n",
       "    <tr>\n",
       "      <th>24514</th>\n",
       "      <td>569.0</td>\n",
       "      <td>3.65</td>\n",
       "      <td>1.0</td>\n",
       "      <td>0</td>\n",
       "      <td>-529.5</td>\n",
       "      <td>2074.5</td>\n",
       "      <td>-3.72</td>\n",
       "      <td>11.4</td>\n",
       "    </tr>\n",
       "    <tr>\n",
       "      <th>122346</th>\n",
       "      <td>294.0</td>\n",
       "      <td>2.06</td>\n",
       "      <td>1.0</td>\n",
       "      <td>0</td>\n",
       "      <td>-529.5</td>\n",
       "      <td>2074.5</td>\n",
       "      <td>-3.72</td>\n",
       "      <td>11.4</td>\n",
       "    </tr>\n",
       "    <tr>\n",
       "      <th>16038</th>\n",
       "      <td>1006.0</td>\n",
       "      <td>5.52</td>\n",
       "      <td>1.0</td>\n",
       "      <td>0</td>\n",
       "      <td>-529.5</td>\n",
       "      <td>2074.5</td>\n",
       "      <td>-3.72</td>\n",
       "      <td>11.4</td>\n",
       "    </tr>\n",
       "    <tr>\n",
       "      <th>155136</th>\n",
       "      <td>181.0</td>\n",
       "      <td>1.26</td>\n",
       "      <td>1.0</td>\n",
       "      <td>1</td>\n",
       "      <td>-529.5</td>\n",
       "      <td>2074.5</td>\n",
       "      <td>-3.72</td>\n",
       "      <td>11.4</td>\n",
       "    </tr>\n",
       "    <tr>\n",
       "      <th>...</th>\n",
       "      <td>...</td>\n",
       "      <td>...</td>\n",
       "      <td>...</td>\n",
       "      <td>...</td>\n",
       "      <td>...</td>\n",
       "      <td>...</td>\n",
       "      <td>...</td>\n",
       "      <td>...</td>\n",
       "    </tr>\n",
       "    <tr>\n",
       "      <th>208971</th>\n",
       "      <td>481.0</td>\n",
       "      <td>1.80</td>\n",
       "      <td>1.0</td>\n",
       "      <td>1</td>\n",
       "      <td>-529.5</td>\n",
       "      <td>2074.5</td>\n",
       "      <td>-3.72</td>\n",
       "      <td>11.4</td>\n",
       "    </tr>\n",
       "    <tr>\n",
       "      <th>55293</th>\n",
       "      <td>1632.0</td>\n",
       "      <td>6.12</td>\n",
       "      <td>1.0</td>\n",
       "      <td>1</td>\n",
       "      <td>-529.5</td>\n",
       "      <td>2074.5</td>\n",
       "      <td>-3.72</td>\n",
       "      <td>11.4</td>\n",
       "    </tr>\n",
       "    <tr>\n",
       "      <th>49751</th>\n",
       "      <td>701.0</td>\n",
       "      <td>2.85</td>\n",
       "      <td>1.0</td>\n",
       "      <td>0</td>\n",
       "      <td>-529.5</td>\n",
       "      <td>2074.5</td>\n",
       "      <td>-3.72</td>\n",
       "      <td>11.4</td>\n",
       "    </tr>\n",
       "    <tr>\n",
       "      <th>136767</th>\n",
       "      <td>47.0</td>\n",
       "      <td>0.82</td>\n",
       "      <td>1.0</td>\n",
       "      <td>0</td>\n",
       "      <td>-529.5</td>\n",
       "      <td>2074.5</td>\n",
       "      <td>-3.72</td>\n",
       "      <td>11.4</td>\n",
       "    </tr>\n",
       "    <tr>\n",
       "      <th>176991</th>\n",
       "      <td>507.0</td>\n",
       "      <td>2.20</td>\n",
       "      <td>1.0</td>\n",
       "      <td>0</td>\n",
       "      <td>-529.5</td>\n",
       "      <td>2074.5</td>\n",
       "      <td>-3.72</td>\n",
       "      <td>11.4</td>\n",
       "    </tr>\n",
       "  </tbody>\n",
       "</table>\n",
       "<p>131579 rows × 8 columns</p>\n",
       "</div>"
      ],
      "text/plain": [
       "        trip_duration  distance_traveled  num_of_passengers  surge_applied  \\\n",
       "189352          580.0               3.20                1.0              0   \n",
       "24514           569.0               3.65                1.0              0   \n",
       "122346          294.0               2.06                1.0              0   \n",
       "16038          1006.0               5.52                1.0              0   \n",
       "155136          181.0               1.26                1.0              1   \n",
       "...               ...                ...                ...            ...   \n",
       "208971          481.0               1.80                1.0              1   \n",
       "55293          1632.0               6.12                1.0              1   \n",
       "49751           701.0               2.85                1.0              0   \n",
       "136767           47.0               0.82                1.0              0   \n",
       "176991          507.0               2.20                1.0              0   \n",
       "\n",
       "        trip_duration_lb  trip_duration_ub  distance_traveled_lb  \\\n",
       "189352            -529.5            2074.5                 -3.72   \n",
       "24514             -529.5            2074.5                 -3.72   \n",
       "122346            -529.5            2074.5                 -3.72   \n",
       "16038             -529.5            2074.5                 -3.72   \n",
       "155136            -529.5            2074.5                 -3.72   \n",
       "...                  ...               ...                   ...   \n",
       "208971            -529.5            2074.5                 -3.72   \n",
       "55293             -529.5            2074.5                 -3.72   \n",
       "49751             -529.5            2074.5                 -3.72   \n",
       "136767            -529.5            2074.5                 -3.72   \n",
       "176991            -529.5            2074.5                 -3.72   \n",
       "\n",
       "        distance_traveled_ub  \n",
       "189352                  11.4  \n",
       "24514                   11.4  \n",
       "122346                  11.4  \n",
       "16038                   11.4  \n",
       "155136                  11.4  \n",
       "...                      ...  \n",
       "208971                  11.4  \n",
       "55293                   11.4  \n",
       "49751                   11.4  \n",
       "136767                  11.4  \n",
       "176991                  11.4  \n",
       "\n",
       "[131579 rows x 8 columns]"
      ]
     },
     "execution_count": 54,
     "metadata": {},
     "output_type": "execute_result"
    }
   ],
   "source": [
    "X_train = X_train.loc[(X_train['trip_duration'] <= X_train['trip_duration_ub']) & (X_train['distance_traveled'] <= X_train['distance_traveled_ub'])]\n",
    "X_train"
   ]
  },
  {
   "cell_type": "code",
   "execution_count": 55,
   "id": "202b9dc1",
   "metadata": {
    "execution": {
     "iopub.execute_input": "2023-06-27T15:10:45.786328Z",
     "iopub.status.busy": "2023-06-27T15:10:45.785941Z",
     "iopub.status.idle": "2023-06-27T15:10:45.802396Z",
     "shell.execute_reply": "2023-06-27T15:10:45.801362Z"
    },
    "papermill": {
     "duration": 0.056359,
     "end_time": "2023-06-27T15:10:45.804930",
     "exception": false,
     "start_time": "2023-06-27T15:10:45.748571",
     "status": "completed"
    },
    "tags": []
   },
   "outputs": [
    {
     "data": {
      "text/html": [
       "<div>\n",
       "<style scoped>\n",
       "    .dataframe tbody tr th:only-of-type {\n",
       "        vertical-align: middle;\n",
       "    }\n",
       "\n",
       "    .dataframe tbody tr th {\n",
       "        vertical-align: top;\n",
       "    }\n",
       "\n",
       "    .dataframe thead th {\n",
       "        text-align: right;\n",
       "    }\n",
       "</style>\n",
       "<table border=\"1\" class=\"dataframe\">\n",
       "  <thead>\n",
       "    <tr style=\"text-align: right;\">\n",
       "      <th></th>\n",
       "      <th>trip_duration</th>\n",
       "      <th>distance_traveled</th>\n",
       "      <th>num_of_passengers</th>\n",
       "      <th>surge_applied</th>\n",
       "    </tr>\n",
       "  </thead>\n",
       "  <tbody>\n",
       "    <tr>\n",
       "      <th>189352</th>\n",
       "      <td>580.0</td>\n",
       "      <td>3.20</td>\n",
       "      <td>1.0</td>\n",
       "      <td>0</td>\n",
       "    </tr>\n",
       "    <tr>\n",
       "      <th>24514</th>\n",
       "      <td>569.0</td>\n",
       "      <td>3.65</td>\n",
       "      <td>1.0</td>\n",
       "      <td>0</td>\n",
       "    </tr>\n",
       "    <tr>\n",
       "      <th>122346</th>\n",
       "      <td>294.0</td>\n",
       "      <td>2.06</td>\n",
       "      <td>1.0</td>\n",
       "      <td>0</td>\n",
       "    </tr>\n",
       "    <tr>\n",
       "      <th>16038</th>\n",
       "      <td>1006.0</td>\n",
       "      <td>5.52</td>\n",
       "      <td>1.0</td>\n",
       "      <td>0</td>\n",
       "    </tr>\n",
       "    <tr>\n",
       "      <th>155136</th>\n",
       "      <td>181.0</td>\n",
       "      <td>1.26</td>\n",
       "      <td>1.0</td>\n",
       "      <td>1</td>\n",
       "    </tr>\n",
       "    <tr>\n",
       "      <th>...</th>\n",
       "      <td>...</td>\n",
       "      <td>...</td>\n",
       "      <td>...</td>\n",
       "      <td>...</td>\n",
       "    </tr>\n",
       "    <tr>\n",
       "      <th>208971</th>\n",
       "      <td>481.0</td>\n",
       "      <td>1.80</td>\n",
       "      <td>1.0</td>\n",
       "      <td>1</td>\n",
       "    </tr>\n",
       "    <tr>\n",
       "      <th>55293</th>\n",
       "      <td>1632.0</td>\n",
       "      <td>6.12</td>\n",
       "      <td>1.0</td>\n",
       "      <td>1</td>\n",
       "    </tr>\n",
       "    <tr>\n",
       "      <th>49751</th>\n",
       "      <td>701.0</td>\n",
       "      <td>2.85</td>\n",
       "      <td>1.0</td>\n",
       "      <td>0</td>\n",
       "    </tr>\n",
       "    <tr>\n",
       "      <th>136767</th>\n",
       "      <td>47.0</td>\n",
       "      <td>0.82</td>\n",
       "      <td>1.0</td>\n",
       "      <td>0</td>\n",
       "    </tr>\n",
       "    <tr>\n",
       "      <th>176991</th>\n",
       "      <td>507.0</td>\n",
       "      <td>2.20</td>\n",
       "      <td>1.0</td>\n",
       "      <td>0</td>\n",
       "    </tr>\n",
       "  </tbody>\n",
       "</table>\n",
       "<p>131579 rows × 4 columns</p>\n",
       "</div>"
      ],
      "text/plain": [
       "        trip_duration  distance_traveled  num_of_passengers  surge_applied\n",
       "189352          580.0               3.20                1.0              0\n",
       "24514           569.0               3.65                1.0              0\n",
       "122346          294.0               2.06                1.0              0\n",
       "16038          1006.0               5.52                1.0              0\n",
       "155136          181.0               1.26                1.0              1\n",
       "...               ...                ...                ...            ...\n",
       "208971          481.0               1.80                1.0              1\n",
       "55293          1632.0               6.12                1.0              1\n",
       "49751           701.0               2.85                1.0              0\n",
       "136767           47.0               0.82                1.0              0\n",
       "176991          507.0               2.20                1.0              0\n",
       "\n",
       "[131579 rows x 4 columns]"
      ]
     },
     "execution_count": 55,
     "metadata": {},
     "output_type": "execute_result"
    }
   ],
   "source": [
    "X_train = X_train[model_features]\n",
    "X_train"
   ]
  },
  {
   "cell_type": "code",
   "execution_count": 56,
   "id": "893752db",
   "metadata": {
    "execution": {
     "iopub.execute_input": "2023-06-27T15:10:45.880443Z",
     "iopub.status.busy": "2023-06-27T15:10:45.880005Z",
     "iopub.status.idle": "2023-06-27T15:10:45.894991Z",
     "shell.execute_reply": "2023-06-27T15:10:45.893890Z"
    },
    "papermill": {
     "duration": 0.056056,
     "end_time": "2023-06-27T15:10:45.897435",
     "exception": false,
     "start_time": "2023-06-27T15:10:45.841379",
     "status": "completed"
    },
    "tags": []
   },
   "outputs": [],
   "source": [
    "y_train = y_train[X_train.index]"
   ]
  },
  {
   "cell_type": "code",
   "execution_count": 57,
   "id": "da781e0c",
   "metadata": {
    "execution": {
     "iopub.execute_input": "2023-06-27T15:10:45.971461Z",
     "iopub.status.busy": "2023-06-27T15:10:45.971089Z",
     "iopub.status.idle": "2023-06-27T15:11:14.702730Z",
     "shell.execute_reply": "2023-06-27T15:11:14.701604Z"
    },
    "papermill": {
     "duration": 28.771397,
     "end_time": "2023-06-27T15:11:14.704974",
     "exception": false,
     "start_time": "2023-06-27T15:10:45.933577",
     "status": "completed"
    },
    "tags": []
   },
   "outputs": [
    {
     "data": {
      "text/html": [
       "<style>#sk-container-id-3 {color: black;}#sk-container-id-3 pre{padding: 0;}#sk-container-id-3 div.sk-toggleable {background-color: white;}#sk-container-id-3 label.sk-toggleable__label {cursor: pointer;display: block;width: 100%;margin-bottom: 0;padding: 0.3em;box-sizing: border-box;text-align: center;}#sk-container-id-3 label.sk-toggleable__label-arrow:before {content: \"▸\";float: left;margin-right: 0.25em;color: #696969;}#sk-container-id-3 label.sk-toggleable__label-arrow:hover:before {color: black;}#sk-container-id-3 div.sk-estimator:hover label.sk-toggleable__label-arrow:before {color: black;}#sk-container-id-3 div.sk-toggleable__content {max-height: 0;max-width: 0;overflow: hidden;text-align: left;background-color: #f0f8ff;}#sk-container-id-3 div.sk-toggleable__content pre {margin: 0.2em;color: black;border-radius: 0.25em;background-color: #f0f8ff;}#sk-container-id-3 input.sk-toggleable__control:checked~div.sk-toggleable__content {max-height: 200px;max-width: 100%;overflow: auto;}#sk-container-id-3 input.sk-toggleable__control:checked~label.sk-toggleable__label-arrow:before {content: \"▾\";}#sk-container-id-3 div.sk-estimator input.sk-toggleable__control:checked~label.sk-toggleable__label {background-color: #d4ebff;}#sk-container-id-3 div.sk-label input.sk-toggleable__control:checked~label.sk-toggleable__label {background-color: #d4ebff;}#sk-container-id-3 input.sk-hidden--visually {border: 0;clip: rect(1px 1px 1px 1px);clip: rect(1px, 1px, 1px, 1px);height: 1px;margin: -1px;overflow: hidden;padding: 0;position: absolute;width: 1px;}#sk-container-id-3 div.sk-estimator {font-family: monospace;background-color: #f0f8ff;border: 1px dotted black;border-radius: 0.25em;box-sizing: border-box;margin-bottom: 0.5em;}#sk-container-id-3 div.sk-estimator:hover {background-color: #d4ebff;}#sk-container-id-3 div.sk-parallel-item::after {content: \"\";width: 100%;border-bottom: 1px solid gray;flex-grow: 1;}#sk-container-id-3 div.sk-label:hover label.sk-toggleable__label {background-color: #d4ebff;}#sk-container-id-3 div.sk-serial::before {content: \"\";position: absolute;border-left: 1px solid gray;box-sizing: border-box;top: 0;bottom: 0;left: 50%;z-index: 0;}#sk-container-id-3 div.sk-serial {display: flex;flex-direction: column;align-items: center;background-color: white;padding-right: 0.2em;padding-left: 0.2em;position: relative;}#sk-container-id-3 div.sk-item {position: relative;z-index: 1;}#sk-container-id-3 div.sk-parallel {display: flex;align-items: stretch;justify-content: center;background-color: white;position: relative;}#sk-container-id-3 div.sk-item::before, #sk-container-id-3 div.sk-parallel-item::before {content: \"\";position: absolute;border-left: 1px solid gray;box-sizing: border-box;top: 0;bottom: 0;left: 50%;z-index: -1;}#sk-container-id-3 div.sk-parallel-item {display: flex;flex-direction: column;z-index: 1;position: relative;background-color: white;}#sk-container-id-3 div.sk-parallel-item:first-child::after {align-self: flex-end;width: 50%;}#sk-container-id-3 div.sk-parallel-item:last-child::after {align-self: flex-start;width: 50%;}#sk-container-id-3 div.sk-parallel-item:only-child::after {width: 0;}#sk-container-id-3 div.sk-dashed-wrapped {border: 1px dashed gray;margin: 0 0.4em 0.5em 0.4em;box-sizing: border-box;padding-bottom: 0.4em;background-color: white;}#sk-container-id-3 div.sk-label label {font-family: monospace;font-weight: bold;display: inline-block;line-height: 1.2em;}#sk-container-id-3 div.sk-label-container {text-align: center;}#sk-container-id-3 div.sk-container {/* jupyter's `normalize.less` sets `[hidden] { display: none; }` but bootstrap.min.css set `[hidden] { display: none !important; }` so we also need the `!important` here to be able to override the default hidden behavior on the sphinx rendered scikit-learn.org. See: https://github.com/scikit-learn/scikit-learn/issues/21755 */display: inline-block !important;position: relative;}#sk-container-id-3 div.sk-text-repr-fallback {display: none;}</style><div id=\"sk-container-id-3\" class=\"sk-top-container\"><div class=\"sk-text-repr-fallback\"><pre>RandomForestRegressor()</pre><b>In a Jupyter environment, please rerun this cell to show the HTML representation or trust the notebook. <br />On GitHub, the HTML representation is unable to render, please try loading this page with nbviewer.org.</b></div><div class=\"sk-container\" hidden><div class=\"sk-item\"><div class=\"sk-estimator sk-toggleable\"><input class=\"sk-toggleable__control sk-hidden--visually\" id=\"sk-estimator-id-3\" type=\"checkbox\" checked><label for=\"sk-estimator-id-3\" class=\"sk-toggleable__label sk-toggleable__label-arrow\">RandomForestRegressor</label><div class=\"sk-toggleable__content\"><pre>RandomForestRegressor()</pre></div></div></div></div></div>"
      ],
      "text/plain": [
       "RandomForestRegressor()"
      ]
     },
     "execution_count": 57,
     "metadata": {},
     "output_type": "execute_result"
    }
   ],
   "source": [
    "model = RandomForestRegressor()\n",
    "model.fit(X_train, y_train)"
   ]
  },
  {
   "cell_type": "code",
   "execution_count": 58,
   "id": "cf4107bf",
   "metadata": {
    "execution": {
     "iopub.execute_input": "2023-06-27T15:11:14.781857Z",
     "iopub.status.busy": "2023-06-27T15:11:14.780776Z",
     "iopub.status.idle": "2023-06-27T15:11:17.087294Z",
     "shell.execute_reply": "2023-06-27T15:11:17.085850Z"
    },
    "papermill": {
     "duration": 2.347568,
     "end_time": "2023-06-27T15:11:17.089634",
     "exception": false,
     "start_time": "2023-06-27T15:11:14.742066",
     "status": "completed"
    },
    "tags": []
   },
   "outputs": [
    {
     "data": {
      "text/plain": [
       "array([178.725   , 190.575   ,  83.425   , ..., 199.725   ,  77.646875,\n",
       "        42.6875  ])"
      ]
     },
     "execution_count": 58,
     "metadata": {},
     "output_type": "execute_result"
    }
   ],
   "source": [
    "y_pred = model.predict(X_test)\n",
    "y_pred"
   ]
  },
  {
   "cell_type": "code",
   "execution_count": 59,
   "id": "62c9a1ec",
   "metadata": {
    "execution": {
     "iopub.execute_input": "2023-06-27T15:11:17.164862Z",
     "iopub.status.busy": "2023-06-27T15:11:17.164451Z",
     "iopub.status.idle": "2023-06-27T15:11:17.178626Z",
     "shell.execute_reply": "2023-06-27T15:11:17.177497Z"
    },
    "papermill": {
     "duration": 0.053887,
     "end_time": "2023-06-27T15:11:17.180625",
     "exception": false,
     "start_time": "2023-06-27T15:11:17.126738",
     "status": "completed"
    },
    "tags": []
   },
   "outputs": [
    {
     "data": {
      "text/html": [
       "<div>\n",
       "<style scoped>\n",
       "    .dataframe tbody tr th:only-of-type {\n",
       "        vertical-align: middle;\n",
       "    }\n",
       "\n",
       "    .dataframe tbody tr th {\n",
       "        vertical-align: top;\n",
       "    }\n",
       "\n",
       "    .dataframe thead th {\n",
       "        text-align: right;\n",
       "    }\n",
       "</style>\n",
       "<table border=\"1\" class=\"dataframe\">\n",
       "  <thead>\n",
       "    <tr style=\"text-align: right;\">\n",
       "      <th></th>\n",
       "      <th>fare</th>\n",
       "      <th>Predicted Fare</th>\n",
       "    </tr>\n",
       "  </thead>\n",
       "  <tbody>\n",
       "    <tr>\n",
       "      <th>160516</th>\n",
       "      <td>180.00</td>\n",
       "      <td>178.725000</td>\n",
       "    </tr>\n",
       "    <tr>\n",
       "      <th>193984</th>\n",
       "      <td>195.00</td>\n",
       "      <td>190.575000</td>\n",
       "    </tr>\n",
       "    <tr>\n",
       "      <th>170682</th>\n",
       "      <td>86.25</td>\n",
       "      <td>83.425000</td>\n",
       "    </tr>\n",
       "    <tr>\n",
       "      <th>205636</th>\n",
       "      <td>262.50</td>\n",
       "      <td>199.200000</td>\n",
       "    </tr>\n",
       "    <tr>\n",
       "      <th>149651</th>\n",
       "      <td>63.75</td>\n",
       "      <td>63.843750</td>\n",
       "    </tr>\n",
       "    <tr>\n",
       "      <th>...</th>\n",
       "      <td>...</td>\n",
       "      <td>...</td>\n",
       "    </tr>\n",
       "    <tr>\n",
       "      <th>84947</th>\n",
       "      <td>183.75</td>\n",
       "      <td>175.125000</td>\n",
       "    </tr>\n",
       "    <tr>\n",
       "      <th>4384</th>\n",
       "      <td>390.00</td>\n",
       "      <td>199.200000</td>\n",
       "    </tr>\n",
       "    <tr>\n",
       "      <th>159590</th>\n",
       "      <td>243.75</td>\n",
       "      <td>199.725000</td>\n",
       "    </tr>\n",
       "    <tr>\n",
       "      <th>190532</th>\n",
       "      <td>75.00</td>\n",
       "      <td>77.646875</td>\n",
       "    </tr>\n",
       "    <tr>\n",
       "      <th>4290</th>\n",
       "      <td>33.75</td>\n",
       "      <td>42.687500</td>\n",
       "    </tr>\n",
       "  </tbody>\n",
       "</table>\n",
       "<p>62902 rows × 2 columns</p>\n",
       "</div>"
      ],
      "text/plain": [
       "          fare  Predicted Fare\n",
       "160516  180.00      178.725000\n",
       "193984  195.00      190.575000\n",
       "170682   86.25       83.425000\n",
       "205636  262.50      199.200000\n",
       "149651   63.75       63.843750\n",
       "...        ...             ...\n",
       "84947   183.75      175.125000\n",
       "4384    390.00      199.200000\n",
       "159590  243.75      199.725000\n",
       "190532   75.00       77.646875\n",
       "4290     33.75       42.687500\n",
       "\n",
       "[62902 rows x 2 columns]"
      ]
     },
     "execution_count": 59,
     "metadata": {},
     "output_type": "execute_result"
    }
   ],
   "source": [
    "comparing_dump_df = pd.DataFrame(y_test)\n",
    "comparing_dump_df['Predicted Fare'] = y_pred\n",
    "comparing_dump_df"
   ]
  },
  {
   "cell_type": "code",
   "execution_count": 60,
   "id": "b00cbb2e",
   "metadata": {
    "execution": {
     "iopub.execute_input": "2023-06-27T15:11:17.255666Z",
     "iopub.status.busy": "2023-06-27T15:11:17.254609Z",
     "iopub.status.idle": "2023-06-27T15:11:17.262193Z",
     "shell.execute_reply": "2023-06-27T15:11:17.261452Z"
    },
    "papermill": {
     "duration": 0.047301,
     "end_time": "2023-06-27T15:11:17.264264",
     "exception": false,
     "start_time": "2023-06-27T15:11:17.216963",
     "status": "completed"
    },
    "tags": []
   },
   "outputs": [
    {
     "data": {
      "text/plain": [
       "0.5153496551332868"
      ]
     },
     "execution_count": 60,
     "metadata": {},
     "output_type": "execute_result"
    }
   ],
   "source": [
    "r2_score(y_test, y_pred)"
   ]
  },
  {
   "cell_type": "code",
   "execution_count": 61,
   "id": "7f165796",
   "metadata": {
    "execution": {
     "iopub.execute_input": "2023-06-27T15:11:17.340457Z",
     "iopub.status.busy": "2023-06-27T15:11:17.339882Z",
     "iopub.status.idle": "2023-06-27T15:11:18.107571Z",
     "shell.execute_reply": "2023-06-27T15:11:18.106566Z"
    },
    "papermill": {
     "duration": 0.808298,
     "end_time": "2023-06-27T15:11:18.109752",
     "exception": false,
     "start_time": "2023-06-27T15:11:17.301454",
     "status": "completed"
    },
    "tags": []
   },
   "outputs": [
    {
     "data": {
      "image/png": "[encoded data removed]",
      "text/plain": [
       "<Figure size 640x480 with 1 Axes>"
      ]
     },
     "metadata": {},
     "output_type": "display_data"
    }
   ],
   "source": [
    "true_value = y_test\n",
    "predicted_value = y_pred \n",
    "\n",
    "plt.scatter(true_value, predicted_value, c='crimson')\n",
    "plt.yscale('log')\n",
    "plt.xscale('log')\n",
    "\n",
    "p1 = max(max(predicted_value), max(true_value))\n",
    "p2 = min(min(predicted_value), min(true_value))\n",
    "plt.plot([p1, p2], [p1, p2], 'b-')\n",
    "plt.xlabel('True Values', fontsize=15)\n",
    "plt.ylabel('Predictions', fontsize=15)\n",
    "plt.axis('equal')\n",
    "plt.show()"
   ]
  },
  {
   "cell_type": "markdown",
   "id": "73b845aa",
   "metadata": {
    "papermill": {
     "duration": 0.036719,
     "end_time": "2023-06-27T15:11:18.183396",
     "exception": false,
     "start_time": "2023-06-27T15:11:18.146677",
     "status": "completed"
    },
    "tags": []
   },
   "source": [
    "1. Tree based models are performing better, this might mean data is non-linearly related with target variable"
   ]
  },
  {
   "cell_type": "code",
   "execution_count": 62,
   "id": "2be4254c",
   "metadata": {
    "execution": {
     "iopub.execute_input": "2023-06-27T15:11:18.260046Z",
     "iopub.status.busy": "2023-06-27T15:11:18.259197Z",
     "iopub.status.idle": "2023-06-27T15:11:21.492533Z",
     "shell.execute_reply": "2023-06-27T15:11:21.491762Z"
    },
    "papermill": {
     "duration": 3.274312,
     "end_time": "2023-06-27T15:11:21.494877",
     "exception": false,
     "start_time": "2023-06-27T15:11:18.220565",
     "status": "completed"
    },
    "tags": []
   },
   "outputs": [
    {
     "data": {
      "text/html": [
       "<style>#sk-container-id-4 {color: black;}#sk-container-id-4 pre{padding: 0;}#sk-container-id-4 div.sk-toggleable {background-color: white;}#sk-container-id-4 label.sk-toggleable__label {cursor: pointer;display: block;width: 100%;margin-bottom: 0;padding: 0.3em;box-sizing: border-box;text-align: center;}#sk-container-id-4 label.sk-toggleable__label-arrow:before {content: \"▸\";float: left;margin-right: 0.25em;color: #696969;}#sk-container-id-4 label.sk-toggleable__label-arrow:hover:before {color: black;}#sk-container-id-4 div.sk-estimator:hover label.sk-toggleable__label-arrow:before {color: black;}#sk-container-id-4 div.sk-toggleable__content {max-height: 0;max-width: 0;overflow: hidden;text-align: left;background-color: #f0f8ff;}#sk-container-id-4 div.sk-toggleable__content pre {margin: 0.2em;color: black;border-radius: 0.25em;background-color: #f0f8ff;}#sk-container-id-4 input.sk-toggleable__control:checked~div.sk-toggleable__content {max-height: 200px;max-width: 100%;overflow: auto;}#sk-container-id-4 input.sk-toggleable__control:checked~label.sk-toggleable__label-arrow:before {content: \"▾\";}#sk-container-id-4 div.sk-estimator input.sk-toggleable__control:checked~label.sk-toggleable__label {background-color: #d4ebff;}#sk-container-id-4 div.sk-label input.sk-toggleable__control:checked~label.sk-toggleable__label {background-color: #d4ebff;}#sk-container-id-4 input.sk-hidden--visually {border: 0;clip: rect(1px 1px 1px 1px);clip: rect(1px, 1px, 1px, 1px);height: 1px;margin: -1px;overflow: hidden;padding: 0;position: absolute;width: 1px;}#sk-container-id-4 div.sk-estimator {font-family: monospace;background-color: #f0f8ff;border: 1px dotted black;border-radius: 0.25em;box-sizing: border-box;margin-bottom: 0.5em;}#sk-container-id-4 div.sk-estimator:hover {background-color: #d4ebff;}#sk-container-id-4 div.sk-parallel-item::after {content: \"\";width: 100%;border-bottom: 1px solid gray;flex-grow: 1;}#sk-container-id-4 div.sk-label:hover label.sk-toggleable__label {background-color: #d4ebff;}#sk-container-id-4 div.sk-serial::before {content: \"\";position: absolute;border-left: 1px solid gray;box-sizing: border-box;top: 0;bottom: 0;left: 50%;z-index: 0;}#sk-container-id-4 div.sk-serial {display: flex;flex-direction: column;align-items: center;background-color: white;padding-right: 0.2em;padding-left: 0.2em;position: relative;}#sk-container-id-4 div.sk-item {position: relative;z-index: 1;}#sk-container-id-4 div.sk-parallel {display: flex;align-items: stretch;justify-content: center;background-color: white;position: relative;}#sk-container-id-4 div.sk-item::before, #sk-container-id-4 div.sk-parallel-item::before {content: \"\";position: absolute;border-left: 1px solid gray;box-sizing: border-box;top: 0;bottom: 0;left: 50%;z-index: -1;}#sk-container-id-4 div.sk-parallel-item {display: flex;flex-direction: column;z-index: 1;position: relative;background-color: white;}#sk-container-id-4 div.sk-parallel-item:first-child::after {align-self: flex-end;width: 50%;}#sk-container-id-4 div.sk-parallel-item:last-child::after {align-self: flex-start;width: 50%;}#sk-container-id-4 div.sk-parallel-item:only-child::after {width: 0;}#sk-container-id-4 div.sk-dashed-wrapped {border: 1px dashed gray;margin: 0 0.4em 0.5em 0.4em;box-sizing: border-box;padding-bottom: 0.4em;background-color: white;}#sk-container-id-4 div.sk-label label {font-family: monospace;font-weight: bold;display: inline-block;line-height: 1.2em;}#sk-container-id-4 div.sk-label-container {text-align: center;}#sk-container-id-4 div.sk-container {/* jupyter's `normalize.less` sets `[hidden] { display: none; }` but bootstrap.min.css set `[hidden] { display: none !important; }` so we also need the `!important` here to be able to override the default hidden behavior on the sphinx rendered scikit-learn.org. See: https://github.com/scikit-learn/scikit-learn/issues/21755 */display: inline-block !important;position: relative;}#sk-container-id-4 div.sk-text-repr-fallback {display: none;}</style><div id=\"sk-container-id-4\" class=\"sk-top-container\"><div class=\"sk-text-repr-fallback\"><pre>XGBRegressor(base_score=0.5, booster=&#x27;gbtree&#x27;, callbacks=None,\n",
       "             colsample_bylevel=1, colsample_bynode=1, colsample_bytree=1,\n",
       "             early_stopping_rounds=None, enable_categorical=False,\n",
       "             eval_metric=None, gamma=0, gpu_id=-1, grow_policy=&#x27;depthwise&#x27;,\n",
       "             importance_type=None, interaction_constraints=&#x27;&#x27;,\n",
       "             learning_rate=0.300000012, max_bin=256, max_cat_to_onehot=4,\n",
       "             max_delta_step=0, max_depth=6, max_leaves=0, min_child_weight=1,\n",
       "             missing=nan, monotone_constraints=&#x27;()&#x27;, n_estimators=100, n_jobs=0,\n",
       "             num_parallel_tree=1, predictor=&#x27;auto&#x27;, random_state=0, reg_alpha=0,\n",
       "             reg_lambda=1, ...)</pre><b>In a Jupyter environment, please rerun this cell to show the HTML representation or trust the notebook. <br />On GitHub, the HTML representation is unable to render, please try loading this page with nbviewer.org.</b></div><div class=\"sk-container\" hidden><div class=\"sk-item\"><div class=\"sk-estimator sk-toggleable\"><input class=\"sk-toggleable__control sk-hidden--visually\" id=\"sk-estimator-id-4\" type=\"checkbox\" checked><label for=\"sk-estimator-id-4\" class=\"sk-toggleable__label sk-toggleable__label-arrow\">XGBRegressor</label><div class=\"sk-toggleable__content\"><pre>XGBRegressor(base_score=0.5, booster=&#x27;gbtree&#x27;, callbacks=None,\n",
       "             colsample_bylevel=1, colsample_bynode=1, colsample_bytree=1,\n",
       "             early_stopping_rounds=None, enable_categorical=False,\n",
       "             eval_metric=None, gamma=0, gpu_id=-1, grow_policy=&#x27;depthwise&#x27;,\n",
       "             importance_type=None, interaction_constraints=&#x27;&#x27;,\n",
       "             learning_rate=0.300000012, max_bin=256, max_cat_to_onehot=4,\n",
       "             max_delta_step=0, max_depth=6, max_leaves=0, min_child_weight=1,\n",
       "             missing=nan, monotone_constraints=&#x27;()&#x27;, n_estimators=100, n_jobs=0,\n",
       "             num_parallel_tree=1, predictor=&#x27;auto&#x27;, random_state=0, reg_alpha=0,\n",
       "             reg_lambda=1, ...)</pre></div></div></div></div></div>"
      ],
      "text/plain": [
       "XGBRegressor(base_score=0.5, booster='gbtree', callbacks=None,\n",
       "             colsample_bylevel=1, colsample_bynode=1, colsample_bytree=1,\n",
       "             early_stopping_rounds=None, enable_categorical=False,\n",
       "             eval_metric=None, gamma=0, gpu_id=-1, grow_policy='depthwise',\n",
       "             importance_type=None, interaction_constraints='',\n",
       "             learning_rate=0.300000012, max_bin=256, max_cat_to_onehot=4,\n",
       "             max_delta_step=0, max_depth=6, max_leaves=0, min_child_weight=1,\n",
       "             missing=nan, monotone_constraints='()', n_estimators=100, n_jobs=0,\n",
       "             num_parallel_tree=1, predictor='auto', random_state=0, reg_alpha=0,\n",
       "             reg_lambda=1, ...)"
      ]
     },
     "execution_count": 62,
     "metadata": {},
     "output_type": "execute_result"
    }
   ],
   "source": [
    "model = xgb.XGBRegressor()\n",
    "model.fit(X_train, y_train)"
   ]
  },
  {
   "cell_type": "code",
   "execution_count": 63,
   "id": "b4a5e385",
   "metadata": {
    "execution": {
     "iopub.execute_input": "2023-06-27T15:11:21.573936Z",
     "iopub.status.busy": "2023-06-27T15:11:21.573178Z",
     "iopub.status.idle": "2023-06-27T15:11:21.648017Z",
     "shell.execute_reply": "2023-06-27T15:11:21.647241Z"
    },
    "papermill": {
     "duration": 0.117454,
     "end_time": "2023-06-27T15:11:21.650287",
     "exception": false,
     "start_time": "2023-06-27T15:11:21.532833",
     "status": "completed"
    },
    "tags": []
   },
   "outputs": [
    {
     "data": {
      "text/plain": [
       "array([182.0084 , 188.57011,  84.42816, ..., 200.37108, 132.79213,\n",
       "        35.9163 ], dtype=float32)"
      ]
     },
     "execution_count": 63,
     "metadata": {},
     "output_type": "execute_result"
    }
   ],
   "source": [
    "y_pred = model.predict(X_test)\n",
    "y_pred"
   ]
  },
  {
   "cell_type": "code",
   "execution_count": 64,
   "id": "162ce11b",
   "metadata": {
    "execution": {
     "iopub.execute_input": "2023-06-27T15:11:21.728163Z",
     "iopub.status.busy": "2023-06-27T15:11:21.727793Z",
     "iopub.status.idle": "2023-06-27T15:11:21.735154Z",
     "shell.execute_reply": "2023-06-27T15:11:21.734189Z"
    },
    "papermill": {
     "duration": 0.048884,
     "end_time": "2023-06-27T15:11:21.737334",
     "exception": false,
     "start_time": "2023-06-27T15:11:21.688450",
     "status": "completed"
    },
    "tags": []
   },
   "outputs": [
    {
     "data": {
      "text/plain": [
       "0.5131302938543972"
      ]
     },
     "execution_count": 64,
     "metadata": {},
     "output_type": "execute_result"
    }
   ],
   "source": [
    "r2_score(y_test, y_pred)"
   ]
  },
  {
   "cell_type": "code",
   "execution_count": 65,
   "id": "ff603e93",
   "metadata": {
    "execution": {
     "iopub.execute_input": "2023-06-27T15:11:21.823486Z",
     "iopub.status.busy": "2023-06-27T15:11:21.823026Z",
     "iopub.status.idle": "2023-06-27T15:11:21.839325Z",
     "shell.execute_reply": "2023-06-27T15:11:21.838312Z"
    },
    "papermill": {
     "duration": 0.066,
     "end_time": "2023-06-27T15:11:21.841960",
     "exception": false,
     "start_time": "2023-06-27T15:11:21.775960",
     "status": "completed"
    },
    "tags": []
   },
   "outputs": [
    {
     "data": {
      "text/html": [
       "<div>\n",
       "<style scoped>\n",
       "    .dataframe tbody tr th:only-of-type {\n",
       "        vertical-align: middle;\n",
       "    }\n",
       "\n",
       "    .dataframe tbody tr th {\n",
       "        vertical-align: top;\n",
       "    }\n",
       "\n",
       "    .dataframe thead th {\n",
       "        text-align: right;\n",
       "    }\n",
       "</style>\n",
       "<table border=\"1\" class=\"dataframe\">\n",
       "  <thead>\n",
       "    <tr style=\"text-align: right;\">\n",
       "      <th></th>\n",
       "      <th>fare</th>\n",
       "      <th>Predicted Fare</th>\n",
       "    </tr>\n",
       "  </thead>\n",
       "  <tbody>\n",
       "    <tr>\n",
       "      <th>160516</th>\n",
       "      <td>180.00</td>\n",
       "      <td>182.008408</td>\n",
       "    </tr>\n",
       "    <tr>\n",
       "      <th>193984</th>\n",
       "      <td>195.00</td>\n",
       "      <td>188.570114</td>\n",
       "    </tr>\n",
       "    <tr>\n",
       "      <th>170682</th>\n",
       "      <td>86.25</td>\n",
       "      <td>84.428162</td>\n",
       "    </tr>\n",
       "    <tr>\n",
       "      <th>205636</th>\n",
       "      <td>262.50</td>\n",
       "      <td>197.759125</td>\n",
       "    </tr>\n",
       "    <tr>\n",
       "      <th>149651</th>\n",
       "      <td>63.75</td>\n",
       "      <td>63.532425</td>\n",
       "    </tr>\n",
       "    <tr>\n",
       "      <th>...</th>\n",
       "      <td>...</td>\n",
       "      <td>...</td>\n",
       "    </tr>\n",
       "    <tr>\n",
       "      <th>84947</th>\n",
       "      <td>183.75</td>\n",
       "      <td>176.543259</td>\n",
       "    </tr>\n",
       "    <tr>\n",
       "      <th>4384</th>\n",
       "      <td>390.00</td>\n",
       "      <td>197.759125</td>\n",
       "    </tr>\n",
       "    <tr>\n",
       "      <th>159590</th>\n",
       "      <td>243.75</td>\n",
       "      <td>200.371078</td>\n",
       "    </tr>\n",
       "    <tr>\n",
       "      <th>190532</th>\n",
       "      <td>75.00</td>\n",
       "      <td>132.792130</td>\n",
       "    </tr>\n",
       "    <tr>\n",
       "      <th>4290</th>\n",
       "      <td>33.75</td>\n",
       "      <td>35.916302</td>\n",
       "    </tr>\n",
       "  </tbody>\n",
       "</table>\n",
       "<p>62902 rows × 2 columns</p>\n",
       "</div>"
      ],
      "text/plain": [
       "          fare  Predicted Fare\n",
       "160516  180.00      182.008408\n",
       "193984  195.00      188.570114\n",
       "170682   86.25       84.428162\n",
       "205636  262.50      197.759125\n",
       "149651   63.75       63.532425\n",
       "...        ...             ...\n",
       "84947   183.75      176.543259\n",
       "4384    390.00      197.759125\n",
       "159590  243.75      200.371078\n",
       "190532   75.00      132.792130\n",
       "4290     33.75       35.916302\n",
       "\n",
       "[62902 rows x 2 columns]"
      ]
     },
     "execution_count": 65,
     "metadata": {},
     "output_type": "execute_result"
    }
   ],
   "source": [
    "comparing_dump_df = pd.DataFrame(y_test)\n",
    "comparing_dump_df['Predicted Fare'] = y_pred\n",
    "comparing_dump_df"
   ]
  },
  {
   "cell_type": "code",
   "execution_count": 66,
   "id": "c7475aec",
   "metadata": {
    "execution": {
     "iopub.execute_input": "2023-06-27T15:11:21.939440Z",
     "iopub.status.busy": "2023-06-27T15:11:21.938598Z",
     "iopub.status.idle": "2023-06-27T15:11:22.767431Z",
     "shell.execute_reply": "2023-06-27T15:11:22.766274Z"
    },
    "papermill": {
     "duration": 0.879734,
     "end_time": "2023-06-27T15:11:22.769628",
     "exception": false,
     "start_time": "2023-06-27T15:11:21.889894",
     "status": "completed"
    },
    "tags": []
   },
   "outputs": [
    {
     "data": {
      "image/png": "[encoded data removed]",
      "text/plain": [
       "<Figure size 640x480 with 1 Axes>"
      ]
     },
     "metadata": {},
     "output_type": "display_data"
    }
   ],
   "source": [
    "true_value = y_test\n",
    "predicted_value = y_pred \n",
    "\n",
    "plt.scatter(true_value, predicted_value, c='crimson')\n",
    "plt.yscale('log')\n",
    "plt.xscale('log')\n",
    "\n",
    "p1 = max(max(predicted_value), max(true_value))\n",
    "p2 = min(min(predicted_value), min(true_value))\n",
    "plt.plot([p1, p2], [p1, p2], 'b-')\n",
    "plt.xlabel('True Values', fontsize=15)\n",
    "plt.ylabel('Predictions', fontsize=15)\n",
    "plt.axis('equal')\n",
    "plt.show()"
   ]
  },
  {
   "cell_type": "markdown",
   "id": "b08b0eb5",
   "metadata": {
    "papermill": {
     "duration": 0.038704,
     "end_time": "2023-06-27T15:11:22.848607",
     "exception": false,
     "start_time": "2023-06-27T15:11:22.809903",
     "status": "completed"
    },
    "tags": []
   },
   "source": [
    "Performing same as RandomForestRegressor, which means Tree based model in-general works better in prediction"
   ]
  },
  {
   "cell_type": "markdown",
   "id": "ba7c9d93",
   "metadata": {
    "papermill": {
     "duration": 0.037874,
     "end_time": "2023-06-27T15:11:22.924891",
     "exception": false,
     "start_time": "2023-06-27T15:11:22.887017",
     "status": "completed"
    },
    "tags": []
   },
   "source": [
    "# **Developing additional features**"
   ]
  },
  {
   "cell_type": "code",
   "execution_count": 67,
   "id": "8f671afc",
   "metadata": {
    "execution": {
     "iopub.execute_input": "2023-06-27T15:11:23.003426Z",
     "iopub.status.busy": "2023-06-27T15:11:23.002660Z",
     "iopub.status.idle": "2023-06-27T15:11:23.017658Z",
     "shell.execute_reply": "2023-06-27T15:11:23.016609Z"
    },
    "papermill": {
     "duration": 0.057013,
     "end_time": "2023-06-27T15:11:23.019880",
     "exception": false,
     "start_time": "2023-06-27T15:11:22.962867",
     "status": "completed"
    },
    "tags": []
   },
   "outputs": [
    {
     "data": {
      "text/html": [
       "<div>\n",
       "<style scoped>\n",
       "    .dataframe tbody tr th:only-of-type {\n",
       "        vertical-align: middle;\n",
       "    }\n",
       "\n",
       "    .dataframe tbody tr th {\n",
       "        vertical-align: top;\n",
       "    }\n",
       "\n",
       "    .dataframe thead th {\n",
       "        text-align: right;\n",
       "    }\n",
       "</style>\n",
       "<table border=\"1\" class=\"dataframe\">\n",
       "  <thead>\n",
       "    <tr style=\"text-align: right;\">\n",
       "      <th></th>\n",
       "      <th>trip_duration</th>\n",
       "      <th>distance_traveled</th>\n",
       "      <th>num_of_passengers</th>\n",
       "      <th>surge_applied</th>\n",
       "    </tr>\n",
       "  </thead>\n",
       "  <tbody>\n",
       "    <tr>\n",
       "      <th>189352</th>\n",
       "      <td>580.0</td>\n",
       "      <td>3.20</td>\n",
       "      <td>1.0</td>\n",
       "      <td>0</td>\n",
       "    </tr>\n",
       "    <tr>\n",
       "      <th>24514</th>\n",
       "      <td>569.0</td>\n",
       "      <td>3.65</td>\n",
       "      <td>1.0</td>\n",
       "      <td>0</td>\n",
       "    </tr>\n",
       "    <tr>\n",
       "      <th>122346</th>\n",
       "      <td>294.0</td>\n",
       "      <td>2.06</td>\n",
       "      <td>1.0</td>\n",
       "      <td>0</td>\n",
       "    </tr>\n",
       "    <tr>\n",
       "      <th>16038</th>\n",
       "      <td>1006.0</td>\n",
       "      <td>5.52</td>\n",
       "      <td>1.0</td>\n",
       "      <td>0</td>\n",
       "    </tr>\n",
       "    <tr>\n",
       "      <th>155136</th>\n",
       "      <td>181.0</td>\n",
       "      <td>1.26</td>\n",
       "      <td>1.0</td>\n",
       "      <td>1</td>\n",
       "    </tr>\n",
       "    <tr>\n",
       "      <th>...</th>\n",
       "      <td>...</td>\n",
       "      <td>...</td>\n",
       "      <td>...</td>\n",
       "      <td>...</td>\n",
       "    </tr>\n",
       "    <tr>\n",
       "      <th>208971</th>\n",
       "      <td>481.0</td>\n",
       "      <td>1.80</td>\n",
       "      <td>1.0</td>\n",
       "      <td>1</td>\n",
       "    </tr>\n",
       "    <tr>\n",
       "      <th>55293</th>\n",
       "      <td>1632.0</td>\n",
       "      <td>6.12</td>\n",
       "      <td>1.0</td>\n",
       "      <td>1</td>\n",
       "    </tr>\n",
       "    <tr>\n",
       "      <th>49751</th>\n",
       "      <td>701.0</td>\n",
       "      <td>2.85</td>\n",
       "      <td>1.0</td>\n",
       "      <td>0</td>\n",
       "    </tr>\n",
       "    <tr>\n",
       "      <th>136767</th>\n",
       "      <td>47.0</td>\n",
       "      <td>0.82</td>\n",
       "      <td>1.0</td>\n",
       "      <td>0</td>\n",
       "    </tr>\n",
       "    <tr>\n",
       "      <th>176991</th>\n",
       "      <td>507.0</td>\n",
       "      <td>2.20</td>\n",
       "      <td>1.0</td>\n",
       "      <td>0</td>\n",
       "    </tr>\n",
       "  </tbody>\n",
       "</table>\n",
       "<p>131579 rows × 4 columns</p>\n",
       "</div>"
      ],
      "text/plain": [
       "        trip_duration  distance_traveled  num_of_passengers  surge_applied\n",
       "189352          580.0               3.20                1.0              0\n",
       "24514           569.0               3.65                1.0              0\n",
       "122346          294.0               2.06                1.0              0\n",
       "16038          1006.0               5.52                1.0              0\n",
       "155136          181.0               1.26                1.0              1\n",
       "...               ...                ...                ...            ...\n",
       "208971          481.0               1.80                1.0              1\n",
       "55293          1632.0               6.12                1.0              1\n",
       "49751           701.0               2.85                1.0              0\n",
       "136767           47.0               0.82                1.0              0\n",
       "176991          507.0               2.20                1.0              0\n",
       "\n",
       "[131579 rows x 4 columns]"
      ]
     },
     "execution_count": 67,
     "metadata": {},
     "output_type": "execute_result"
    }
   ],
   "source": [
    "X_train"
   ]
  },
  {
   "cell_type": "code",
   "execution_count": 68,
   "id": "d981c761",
   "metadata": {
    "execution": {
     "iopub.execute_input": "2023-06-27T15:11:23.098681Z",
     "iopub.status.busy": "2023-06-27T15:11:23.098300Z",
     "iopub.status.idle": "2023-06-27T15:11:23.106229Z",
     "shell.execute_reply": "2023-06-27T15:11:23.105511Z"
    },
    "papermill": {
     "duration": 0.049969,
     "end_time": "2023-06-27T15:11:23.108316",
     "exception": false,
     "start_time": "2023-06-27T15:11:23.058347",
     "status": "completed"
    },
    "tags": []
   },
   "outputs": [],
   "source": [
    "# If a taxi has more than 6 passengers, then most probably its a big car. Hence, more fare\n",
    "X_train['is_big_vehicle'] = np.where(X_train['num_of_passengers']> 6, 1, 0)\n",
    "X_test['is_big_vehicle'] = np.where(X_test['num_of_passengers']> 6, 1, 0)"
   ]
  },
  {
   "cell_type": "code",
   "execution_count": 69,
   "id": "2ff6dcb4",
   "metadata": {
    "execution": {
     "iopub.execute_input": "2023-06-27T15:11:23.187861Z",
     "iopub.status.busy": "2023-06-27T15:11:23.187092Z",
     "iopub.status.idle": "2023-06-27T15:11:23.202720Z",
     "shell.execute_reply": "2023-06-27T15:11:23.201728Z"
    },
    "papermill": {
     "duration": 0.057963,
     "end_time": "2023-06-27T15:11:23.204683",
     "exception": false,
     "start_time": "2023-06-27T15:11:23.146720",
     "status": "completed"
    },
    "tags": []
   },
   "outputs": [
    {
     "data": {
      "text/plain": [
       "count    131579.000000\n",
       "mean          3.563913\n",
       "std           2.382989\n",
       "min           0.020000\n",
       "25%           1.830000\n",
       "50%           2.900000\n",
       "75%           4.670000\n",
       "max          11.390000\n",
       "Name: distance_traveled, dtype: float64"
      ]
     },
     "execution_count": 69,
     "metadata": {},
     "output_type": "execute_result"
    }
   ],
   "source": [
    "# If the distance travelled is alot (like >100+Kms) then mostly it will be out-of-station ride, Hence, more fare\n",
    "X_train['distance_traveled'].describe()"
   ]
  },
  {
   "cell_type": "code",
   "execution_count": 70,
   "id": "2ba8c618",
   "metadata": {
    "execution": {
     "iopub.execute_input": "2023-06-27T15:11:23.284039Z",
     "iopub.status.busy": "2023-06-27T15:11:23.282986Z",
     "iopub.status.idle": "2023-06-27T15:11:23.290524Z",
     "shell.execute_reply": "2023-06-27T15:11:23.289761Z"
    },
    "papermill": {
     "duration": 0.049622,
     "end_time": "2023-06-27T15:11:23.292776",
     "exception": false,
     "start_time": "2023-06-27T15:11:23.243154",
     "status": "completed"
    },
    "tags": []
   },
   "outputs": [],
   "source": [
    "X_train['is_out_of_station_ride'] = np.where(X_train['distance_traveled']> 100, 1, 0)\n",
    "X_test['is_out_of_station_ride'] = np.where(X_test['distance_traveled']> 100, 1, 0)"
   ]
  },
  {
   "cell_type": "code",
   "execution_count": 71,
   "id": "d762badb",
   "metadata": {
    "execution": {
     "iopub.execute_input": "2023-06-27T15:11:23.371688Z",
     "iopub.status.busy": "2023-06-27T15:11:23.371312Z",
     "iopub.status.idle": "2023-06-27T15:11:23.386404Z",
     "shell.execute_reply": "2023-06-27T15:11:23.385726Z"
    },
    "papermill": {
     "duration": 0.056966,
     "end_time": "2023-06-27T15:11:23.388336",
     "exception": false,
     "start_time": "2023-06-27T15:11:23.331370",
     "status": "completed"
    },
    "tags": []
   },
   "outputs": [
    {
     "data": {
      "text/plain": [
       "count    131579.000000\n",
       "mean        721.686394\n",
       "std         407.032693\n",
       "min           0.000000\n",
       "25%         420.000000\n",
       "50%         649.000000\n",
       "75%         948.000000\n",
       "max        2074.000000\n",
       "Name: trip_duration, dtype: float64"
      ]
     },
     "execution_count": 71,
     "metadata": {},
     "output_type": "execute_result"
    }
   ],
   "source": [
    "# If trip duration is more than 1 hour, then most likely it will be charged more than usual (Need to confirm)\n",
    "X_train['trip_duration'].describe()"
   ]
  },
  {
   "cell_type": "code",
   "execution_count": 72,
   "id": "7fe73f01",
   "metadata": {
    "execution": {
     "iopub.execute_input": "2023-06-27T15:11:23.468048Z",
     "iopub.status.busy": "2023-06-27T15:11:23.467223Z",
     "iopub.status.idle": "2023-06-27T15:11:23.475464Z",
     "shell.execute_reply": "2023-06-27T15:11:23.474610Z"
    },
    "papermill": {
     "duration": 0.050388,
     "end_time": "2023-06-27T15:11:23.477586",
     "exception": false,
     "start_time": "2023-06-27T15:11:23.427198",
     "status": "completed"
    },
    "tags": []
   },
   "outputs": [],
   "source": [
    "X_train['is_more_than_hour_ride'] = np.where(X_train['trip_duration']> 3600, 1, 0)\n",
    "X_test['is_more_than_hour_ride'] = np.where(X_test['trip_duration']> 3600, 1, 0)"
   ]
  },
  {
   "cell_type": "code",
   "execution_count": 73,
   "id": "887946e6",
   "metadata": {
    "execution": {
     "iopub.execute_input": "2023-06-27T15:11:23.558708Z",
     "iopub.status.busy": "2023-06-27T15:11:23.558344Z",
     "iopub.status.idle": "2023-06-27T15:11:23.564160Z",
     "shell.execute_reply": "2023-06-27T15:11:23.563430Z"
    },
    "papermill": {
     "duration": 0.049236,
     "end_time": "2023-06-27T15:11:23.565979",
     "exception": false,
     "start_time": "2023-06-27T15:11:23.516743",
     "status": "completed"
    },
    "tags": []
   },
   "outputs": [],
   "source": [
    "## Data Correction\n",
    "# If trip_duration is 0, then ideally it can't have any distance covered (might have fare due to many reasons like cancellation, etc)\n",
    "X_train.loc[X_train['trip_duration'] == 0, 'distance_traveled'] = 0"
   ]
  },
  {
   "cell_type": "code",
   "execution_count": 74,
   "id": "ef7f11b8",
   "metadata": {
    "execution": {
     "iopub.execute_input": "2023-06-27T15:11:23.646202Z",
     "iopub.status.busy": "2023-06-27T15:11:23.645612Z",
     "iopub.status.idle": "2023-06-27T15:11:23.649598Z",
     "shell.execute_reply": "2023-06-27T15:11:23.648807Z"
    },
    "papermill": {
     "duration": 0.046431,
     "end_time": "2023-06-27T15:11:23.651756",
     "exception": false,
     "start_time": "2023-06-27T15:11:23.605325",
     "status": "completed"
    },
    "tags": []
   },
   "outputs": [],
   "source": [
    "new_model_features = ['trip_duration', 'distance_traveled', 'num_of_passengers',\n",
    "       'surge_applied', 'is_big_vehicle', 'is_out_of_station_ride',\n",
    "       'is_more_than_hour_ride']"
   ]
  },
  {
   "cell_type": "code",
   "execution_count": 75,
   "id": "4bf462af",
   "metadata": {
    "execution": {
     "iopub.execute_input": "2023-06-27T15:11:23.731862Z",
     "iopub.status.busy": "2023-06-27T15:11:23.731292Z",
     "iopub.status.idle": "2023-06-27T15:11:53.419715Z",
     "shell.execute_reply": "2023-06-27T15:11:53.418430Z"
    },
    "papermill": {
     "duration": 29.731252,
     "end_time": "2023-06-27T15:11:53.422090",
     "exception": false,
     "start_time": "2023-06-27T15:11:23.690838",
     "status": "completed"
    },
    "tags": []
   },
   "outputs": [
    {
     "data": {
      "text/html": [
       "<style>#sk-container-id-5 {color: black;}#sk-container-id-5 pre{padding: 0;}#sk-container-id-5 div.sk-toggleable {background-color: white;}#sk-container-id-5 label.sk-toggleable__label {cursor: pointer;display: block;width: 100%;margin-bottom: 0;padding: 0.3em;box-sizing: border-box;text-align: center;}#sk-container-id-5 label.sk-toggleable__label-arrow:before {content: \"▸\";float: left;margin-right: 0.25em;color: #696969;}#sk-container-id-5 label.sk-toggleable__label-arrow:hover:before {color: black;}#sk-container-id-5 div.sk-estimator:hover label.sk-toggleable__label-arrow:before {color: black;}#sk-container-id-5 div.sk-toggleable__content {max-height: 0;max-width: 0;overflow: hidden;text-align: left;background-color: #f0f8ff;}#sk-container-id-5 div.sk-toggleable__content pre {margin: 0.2em;color: black;border-radius: 0.25em;background-color: #f0f8ff;}#sk-container-id-5 input.sk-toggleable__control:checked~div.sk-toggleable__content {max-height: 200px;max-width: 100%;overflow: auto;}#sk-container-id-5 input.sk-toggleable__control:checked~label.sk-toggleable__label-arrow:before {content: \"▾\";}#sk-container-id-5 div.sk-estimator input.sk-toggleable__control:checked~label.sk-toggleable__label {background-color: #d4ebff;}#sk-container-id-5 div.sk-label input.sk-toggleable__control:checked~label.sk-toggleable__label {background-color: #d4ebff;}#sk-container-id-5 input.sk-hidden--visually {border: 0;clip: rect(1px 1px 1px 1px);clip: rect(1px, 1px, 1px, 1px);height: 1px;margin: -1px;overflow: hidden;padding: 0;position: absolute;width: 1px;}#sk-container-id-5 div.sk-estimator {font-family: monospace;background-color: #f0f8ff;border: 1px dotted black;border-radius: 0.25em;box-sizing: border-box;margin-bottom: 0.5em;}#sk-container-id-5 div.sk-estimator:hover {background-color: #d4ebff;}#sk-container-id-5 div.sk-parallel-item::after {content: \"\";width: 100%;border-bottom: 1px solid gray;flex-grow: 1;}#sk-container-id-5 div.sk-label:hover label.sk-toggleable__label {background-color: #d4ebff;}#sk-container-id-5 div.sk-serial::before {content: \"\";position: absolute;border-left: 1px solid gray;box-sizing: border-box;top: 0;bottom: 0;left: 50%;z-index: 0;}#sk-container-id-5 div.sk-serial {display: flex;flex-direction: column;align-items: center;background-color: white;padding-right: 0.2em;padding-left: 0.2em;position: relative;}#sk-container-id-5 div.sk-item {position: relative;z-index: 1;}#sk-container-id-5 div.sk-parallel {display: flex;align-items: stretch;justify-content: center;background-color: white;position: relative;}#sk-container-id-5 div.sk-item::before, #sk-container-id-5 div.sk-parallel-item::before {content: \"\";position: absolute;border-left: 1px solid gray;box-sizing: border-box;top: 0;bottom: 0;left: 50%;z-index: -1;}#sk-container-id-5 div.sk-parallel-item {display: flex;flex-direction: column;z-index: 1;position: relative;background-color: white;}#sk-container-id-5 div.sk-parallel-item:first-child::after {align-self: flex-end;width: 50%;}#sk-container-id-5 div.sk-parallel-item:last-child::after {align-self: flex-start;width: 50%;}#sk-container-id-5 div.sk-parallel-item:only-child::after {width: 0;}#sk-container-id-5 div.sk-dashed-wrapped {border: 1px dashed gray;margin: 0 0.4em 0.5em 0.4em;box-sizing: border-box;padding-bottom: 0.4em;background-color: white;}#sk-container-id-5 div.sk-label label {font-family: monospace;font-weight: bold;display: inline-block;line-height: 1.2em;}#sk-container-id-5 div.sk-label-container {text-align: center;}#sk-container-id-5 div.sk-container {/* jupyter's `normalize.less` sets `[hidden] { display: none; }` but bootstrap.min.css set `[hidden] { display: none !important; }` so we also need the `!important` here to be able to override the default hidden behavior on the sphinx rendered scikit-learn.org. See: https://github.com/scikit-learn/scikit-learn/issues/21755 */display: inline-block !important;position: relative;}#sk-container-id-5 div.sk-text-repr-fallback {display: none;}</style><div id=\"sk-container-id-5\" class=\"sk-top-container\"><div class=\"sk-text-repr-fallback\"><pre>RandomForestRegressor()</pre><b>In a Jupyter environment, please rerun this cell to show the HTML representation or trust the notebook. <br />On GitHub, the HTML representation is unable to render, please try loading this page with nbviewer.org.</b></div><div class=\"sk-container\" hidden><div class=\"sk-item\"><div class=\"sk-estimator sk-toggleable\"><input class=\"sk-toggleable__control sk-hidden--visually\" id=\"sk-estimator-id-5\" type=\"checkbox\" checked><label for=\"sk-estimator-id-5\" class=\"sk-toggleable__label sk-toggleable__label-arrow\">RandomForestRegressor</label><div class=\"sk-toggleable__content\"><pre>RandomForestRegressor()</pre></div></div></div></div></div>"
      ],
      "text/plain": [
       "RandomForestRegressor()"
      ]
     },
     "execution_count": 75,
     "metadata": {},
     "output_type": "execute_result"
    }
   ],
   "source": [
    "model = RandomForestRegressor()\n",
    "model.fit(X_train[new_model_features], y_train)"
   ]
  },
  {
   "cell_type": "code",
   "execution_count": 76,
   "id": "336c2c82",
   "metadata": {
    "execution": {
     "iopub.execute_input": "2023-06-27T15:11:53.518814Z",
     "iopub.status.busy": "2023-06-27T15:11:53.517572Z",
     "iopub.status.idle": "2023-06-27T15:11:55.792644Z",
     "shell.execute_reply": "2023-06-27T15:11:55.791596Z"
    },
    "papermill": {
     "duration": 2.332944,
     "end_time": "2023-06-27T15:11:55.794798",
     "exception": false,
     "start_time": "2023-06-27T15:11:53.461854",
     "status": "completed"
    },
    "tags": []
   },
   "outputs": [
    {
     "data": {
      "text/plain": [
       "array([180.15     , 193.4625   ,  83.315625 , ..., 200.8875   ,\n",
       "        84.9453125,  44.0734375])"
      ]
     },
     "execution_count": 76,
     "metadata": {},
     "output_type": "execute_result"
    }
   ],
   "source": [
    "y_pred = model.predict(X_test)\n",
    "y_pred"
   ]
  },
  {
   "cell_type": "code",
   "execution_count": 77,
   "id": "e26f501c",
   "metadata": {
    "execution": {
     "iopub.execute_input": "2023-06-27T15:11:55.876297Z",
     "iopub.status.busy": "2023-06-27T15:11:55.875892Z",
     "iopub.status.idle": "2023-06-27T15:11:55.890676Z",
     "shell.execute_reply": "2023-06-27T15:11:55.889619Z"
    },
    "papermill": {
     "duration": 0.058636,
     "end_time": "2023-06-27T15:11:55.892953",
     "exception": false,
     "start_time": "2023-06-27T15:11:55.834317",
     "status": "completed"
    },
    "tags": []
   },
   "outputs": [
    {
     "data": {
      "text/html": [
       "<div>\n",
       "<style scoped>\n",
       "    .dataframe tbody tr th:only-of-type {\n",
       "        vertical-align: middle;\n",
       "    }\n",
       "\n",
       "    .dataframe tbody tr th {\n",
       "        vertical-align: top;\n",
       "    }\n",
       "\n",
       "    .dataframe thead th {\n",
       "        text-align: right;\n",
       "    }\n",
       "</style>\n",
       "<table border=\"1\" class=\"dataframe\">\n",
       "  <thead>\n",
       "    <tr style=\"text-align: right;\">\n",
       "      <th></th>\n",
       "      <th>fare</th>\n",
       "      <th>Predicted Fare</th>\n",
       "    </tr>\n",
       "  </thead>\n",
       "  <tbody>\n",
       "    <tr>\n",
       "      <th>160516</th>\n",
       "      <td>180.00</td>\n",
       "      <td>179.100000</td>\n",
       "    </tr>\n",
       "    <tr>\n",
       "      <th>193984</th>\n",
       "      <td>195.00</td>\n",
       "      <td>191.718750</td>\n",
       "    </tr>\n",
       "    <tr>\n",
       "      <th>170682</th>\n",
       "      <td>86.25</td>\n",
       "      <td>83.312500</td>\n",
       "    </tr>\n",
       "    <tr>\n",
       "      <th>205636</th>\n",
       "      <td>262.50</td>\n",
       "      <td>196.575000</td>\n",
       "    </tr>\n",
       "    <tr>\n",
       "      <th>149651</th>\n",
       "      <td>63.75</td>\n",
       "      <td>64.100000</td>\n",
       "    </tr>\n",
       "    <tr>\n",
       "      <th>...</th>\n",
       "      <td>...</td>\n",
       "      <td>...</td>\n",
       "    </tr>\n",
       "    <tr>\n",
       "      <th>84947</th>\n",
       "      <td>183.75</td>\n",
       "      <td>175.275000</td>\n",
       "    </tr>\n",
       "    <tr>\n",
       "      <th>4384</th>\n",
       "      <td>390.00</td>\n",
       "      <td>196.575000</td>\n",
       "    </tr>\n",
       "    <tr>\n",
       "      <th>159590</th>\n",
       "      <td>243.75</td>\n",
       "      <td>199.087500</td>\n",
       "    </tr>\n",
       "    <tr>\n",
       "      <th>190532</th>\n",
       "      <td>75.00</td>\n",
       "      <td>81.519357</td>\n",
       "    </tr>\n",
       "    <tr>\n",
       "      <th>4290</th>\n",
       "      <td>33.75</td>\n",
       "      <td>42.210000</td>\n",
       "    </tr>\n",
       "  </tbody>\n",
       "</table>\n",
       "<p>62902 rows × 2 columns</p>\n",
       "</div>"
      ],
      "text/plain": [
       "          fare  Predicted Fare\n",
       "160516  180.00      179.100000\n",
       "193984  195.00      191.718750\n",
       "170682   86.25       83.312500\n",
       "205636  262.50      196.575000\n",
       "149651   63.75       64.100000\n",
       "...        ...             ...\n",
       "84947   183.75      175.275000\n",
       "4384    390.00      196.575000\n",
       "159590  243.75      199.087500\n",
       "190532   75.00       81.519357\n",
       "4290     33.75       42.210000\n",
       "\n",
       "[62902 rows x 2 columns]"
      ]
     },
     "execution_count": 77,
     "metadata": {},
     "output_type": "execute_result"
    }
   ],
   "source": [
    "comparing_dump_df = pd.DataFrame(y_test)\n",
    "comparing_dump_df['Predicted Fare'] = y_pred\n",
    "comparing_dump_df"
   ]
  },
  {
   "cell_type": "code",
   "execution_count": 78,
   "id": "3c5b3588",
   "metadata": {
    "execution": {
     "iopub.execute_input": "2023-06-27T15:11:55.973778Z",
     "iopub.status.busy": "2023-06-27T15:11:55.972680Z",
     "iopub.status.idle": "2023-06-27T15:11:55.980689Z",
     "shell.execute_reply": "2023-06-27T15:11:55.979926Z"
    },
    "papermill": {
     "duration": 0.050425,
     "end_time": "2023-06-27T15:11:55.982683",
     "exception": false,
     "start_time": "2023-06-27T15:11:55.932258",
     "status": "completed"
    },
    "tags": []
   },
   "outputs": [
    {
     "data": {
      "text/plain": [
       "0.5111123430181318"
      ]
     },
     "execution_count": 78,
     "metadata": {},
     "output_type": "execute_result"
    }
   ],
   "source": [
    "r2_score(y_test, y_pred)"
   ]
  },
  {
   "cell_type": "markdown",
   "id": "39923471",
   "metadata": {
    "papermill": {
     "duration": 0.039099,
     "end_time": "2023-06-27T15:11:56.061335",
     "exception": false,
     "start_time": "2023-06-27T15:11:56.022236",
     "status": "completed"
    },
    "tags": []
   },
   "source": [
    "R2 Score increased abit, this leads me to believe the features are well suiting the data"
   ]
  },
  {
   "cell_type": "code",
   "execution_count": 79,
   "id": "95653a42",
   "metadata": {
    "execution": {
     "iopub.execute_input": "2023-06-27T15:11:56.142302Z",
     "iopub.status.busy": "2023-06-27T15:11:56.141566Z",
     "iopub.status.idle": "2023-06-27T15:11:56.986008Z",
     "shell.execute_reply": "2023-06-27T15:11:56.984880Z"
    },
    "papermill": {
     "duration": 0.887295,
     "end_time": "2023-06-27T15:11:56.988240",
     "exception": false,
     "start_time": "2023-06-27T15:11:56.100945",
     "status": "completed"
    },
    "tags": []
   },
   "outputs": [
    {
     "data": {
      "image/png": "[encoded data removed]",
      "text/plain": [
       "<Figure size 640x480 with 1 Axes>"
      ]
     },
     "metadata": {},
     "output_type": "display_data"
    }
   ],
   "source": [
    "true_value = y_test\n",
    "predicted_value = y_pred \n",
    "\n",
    "plt.scatter(true_value, predicted_value, c='crimson')\n",
    "plt.yscale('log')\n",
    "plt.xscale('log')\n",
    "\n",
    "p1 = max(max(predicted_value), max(true_value))\n",
    "p2 = min(min(predicted_value), min(true_value))\n",
    "plt.plot([p1, p2], [p1, p2], 'b-')\n",
    "plt.xlabel('True Values', fontsize=15)\n",
    "plt.ylabel('Predictions', fontsize=15)\n",
    "plt.axis('equal')\n",
    "plt.show()"
   ]
  },
  {
   "cell_type": "code",
   "execution_count": 80,
   "id": "ce3ad21e",
   "metadata": {
    "execution": {
     "iopub.execute_input": "2023-06-27T15:11:57.070818Z",
     "iopub.status.busy": "2023-06-27T15:11:57.070171Z",
     "iopub.status.idle": "2023-06-27T15:11:57.533536Z",
     "shell.execute_reply": "2023-06-27T15:11:57.532441Z"
    },
    "papermill": {
     "duration": 0.507303,
     "end_time": "2023-06-27T15:11:57.535684",
     "exception": false,
     "start_time": "2023-06-27T15:11:57.028381",
     "status": "completed"
    },
    "tags": []
   },
   "outputs": [
    {
     "data": {
      "text/plain": [
       "Text(0, 0.5, 'Predicted Fare')"
      ]
     },
     "execution_count": 80,
     "metadata": {},
     "output_type": "execute_result"
    },
    {
     "data": {
      "image/png": "[encoded data removed]",
      "text/plain": [
       "<Figure size 640x480 with 1 Axes>"
      ]
     },
     "metadata": {},
     "output_type": "display_data"
    }
   ],
   "source": [
    "sns.scatterplot(x = y_test, y = y_pred)\n",
    "plt.xlabel('Actual Fare')\n",
    "plt.ylabel('Predicted Fare')"
   ]
  },
  {
   "cell_type": "markdown",
   "id": "cdb8bf1d",
   "metadata": {
    "papermill": {
     "duration": 0.040639,
     "end_time": "2023-06-27T15:11:57.616747",
     "exception": false,
     "start_time": "2023-06-27T15:11:57.576108",
     "status": "completed"
    },
    "tags": []
   },
   "source": [
    "The above plot signifies alot of time model predicts fare close to 200, why is that?"
   ]
  },
  {
   "cell_type": "markdown",
   "id": "8799467e",
   "metadata": {
    "papermill": {
     "duration": 0.040629,
     "end_time": "2023-06-27T15:11:57.698261",
     "exception": false,
     "start_time": "2023-06-27T15:11:57.657632",
     "status": "completed"
    },
    "tags": []
   },
   "source": [
    "# **Analyis on huge deviating cases**"
   ]
  },
  {
   "cell_type": "code",
   "execution_count": 81,
   "id": "dd4a166e",
   "metadata": {
    "execution": {
     "iopub.execute_input": "2023-06-27T15:11:57.781126Z",
     "iopub.status.busy": "2023-06-27T15:11:57.780503Z",
     "iopub.status.idle": "2023-06-27T15:11:57.796007Z",
     "shell.execute_reply": "2023-06-27T15:11:57.794945Z"
    },
    "papermill": {
     "duration": 0.059681,
     "end_time": "2023-06-27T15:11:57.798161",
     "exception": false,
     "start_time": "2023-06-27T15:11:57.738480",
     "status": "completed"
    },
    "tags": []
   },
   "outputs": [
    {
     "data": {
      "text/html": [
       "<div>\n",
       "<style scoped>\n",
       "    .dataframe tbody tr th:only-of-type {\n",
       "        vertical-align: middle;\n",
       "    }\n",
       "\n",
       "    .dataframe tbody tr th {\n",
       "        vertical-align: top;\n",
       "    }\n",
       "\n",
       "    .dataframe thead th {\n",
       "        text-align: right;\n",
       "    }\n",
       "</style>\n",
       "<table border=\"1\" class=\"dataframe\">\n",
       "  <thead>\n",
       "    <tr style=\"text-align: right;\">\n",
       "      <th></th>\n",
       "      <th>fare</th>\n",
       "      <th>Predicted Fare</th>\n",
       "      <th>Percentage Difference</th>\n",
       "    </tr>\n",
       "  </thead>\n",
       "  <tbody>\n",
       "    <tr>\n",
       "      <th>160516</th>\n",
       "      <td>180.00</td>\n",
       "      <td>179.100000</td>\n",
       "      <td>0.500000</td>\n",
       "    </tr>\n",
       "    <tr>\n",
       "      <th>193984</th>\n",
       "      <td>195.00</td>\n",
       "      <td>191.718750</td>\n",
       "      <td>1.682692</td>\n",
       "    </tr>\n",
       "    <tr>\n",
       "      <th>170682</th>\n",
       "      <td>86.25</td>\n",
       "      <td>83.312500</td>\n",
       "      <td>3.405797</td>\n",
       "    </tr>\n",
       "    <tr>\n",
       "      <th>205636</th>\n",
       "      <td>262.50</td>\n",
       "      <td>196.575000</td>\n",
       "      <td>25.114286</td>\n",
       "    </tr>\n",
       "    <tr>\n",
       "      <th>149651</th>\n",
       "      <td>63.75</td>\n",
       "      <td>64.100000</td>\n",
       "      <td>0.549020</td>\n",
       "    </tr>\n",
       "    <tr>\n",
       "      <th>...</th>\n",
       "      <td>...</td>\n",
       "      <td>...</td>\n",
       "      <td>...</td>\n",
       "    </tr>\n",
       "    <tr>\n",
       "      <th>84947</th>\n",
       "      <td>183.75</td>\n",
       "      <td>175.275000</td>\n",
       "      <td>4.612245</td>\n",
       "    </tr>\n",
       "    <tr>\n",
       "      <th>4384</th>\n",
       "      <td>390.00</td>\n",
       "      <td>196.575000</td>\n",
       "      <td>49.596154</td>\n",
       "    </tr>\n",
       "    <tr>\n",
       "      <th>159590</th>\n",
       "      <td>243.75</td>\n",
       "      <td>199.087500</td>\n",
       "      <td>18.323077</td>\n",
       "    </tr>\n",
       "    <tr>\n",
       "      <th>190532</th>\n",
       "      <td>75.00</td>\n",
       "      <td>81.519357</td>\n",
       "      <td>8.692476</td>\n",
       "    </tr>\n",
       "    <tr>\n",
       "      <th>4290</th>\n",
       "      <td>33.75</td>\n",
       "      <td>42.210000</td>\n",
       "      <td>25.066667</td>\n",
       "    </tr>\n",
       "  </tbody>\n",
       "</table>\n",
       "<p>62902 rows × 3 columns</p>\n",
       "</div>"
      ],
      "text/plain": [
       "          fare  Predicted Fare  Percentage Difference\n",
       "160516  180.00      179.100000               0.500000\n",
       "193984  195.00      191.718750               1.682692\n",
       "170682   86.25       83.312500               3.405797\n",
       "205636  262.50      196.575000              25.114286\n",
       "149651   63.75       64.100000               0.549020\n",
       "...        ...             ...                    ...\n",
       "84947   183.75      175.275000               4.612245\n",
       "4384    390.00      196.575000              49.596154\n",
       "159590  243.75      199.087500              18.323077\n",
       "190532   75.00       81.519357               8.692476\n",
       "4290     33.75       42.210000              25.066667\n",
       "\n",
       "[62902 rows x 3 columns]"
      ]
     },
     "execution_count": 81,
     "metadata": {},
     "output_type": "execute_result"
    }
   ],
   "source": [
    "comparing_dump_df['Percentage Difference'] = np.abs((comparing_dump_df['Predicted Fare'] - comparing_dump_df['fare']) / comparing_dump_df['fare']) * 100\n",
    "comparing_dump_df"
   ]
  },
  {
   "cell_type": "code",
   "execution_count": 82,
   "id": "08f3fed9",
   "metadata": {
    "execution": {
     "iopub.execute_input": "2023-06-27T15:11:57.881960Z",
     "iopub.status.busy": "2023-06-27T15:11:57.881244Z",
     "iopub.status.idle": "2023-06-27T15:11:57.902070Z",
     "shell.execute_reply": "2023-06-27T15:11:57.900972Z"
    },
    "papermill": {
     "duration": 0.065244,
     "end_time": "2023-06-27T15:11:57.904280",
     "exception": false,
     "start_time": "2023-06-27T15:11:57.839036",
     "status": "completed"
    },
    "tags": []
   },
   "outputs": [
    {
     "data": {
      "text/html": [
       "<div>\n",
       "<style scoped>\n",
       "    .dataframe tbody tr th:only-of-type {\n",
       "        vertical-align: middle;\n",
       "    }\n",
       "\n",
       "    .dataframe tbody tr th {\n",
       "        vertical-align: top;\n",
       "    }\n",
       "\n",
       "    .dataframe thead th {\n",
       "        text-align: right;\n",
       "    }\n",
       "</style>\n",
       "<table border=\"1\" class=\"dataframe\">\n",
       "  <thead>\n",
       "    <tr style=\"text-align: right;\">\n",
       "      <th></th>\n",
       "      <th>trip_duration</th>\n",
       "      <th>distance_traveled</th>\n",
       "      <th>num_of_passengers</th>\n",
       "      <th>surge_applied</th>\n",
       "      <th>is_big_vehicle</th>\n",
       "      <th>is_out_of_station_ride</th>\n",
       "      <th>is_more_than_hour_ride</th>\n",
       "    </tr>\n",
       "  </thead>\n",
       "  <tbody>\n",
       "    <tr>\n",
       "      <th>173249</th>\n",
       "      <td>925.0</td>\n",
       "      <td>1.66</td>\n",
       "      <td>1.0</td>\n",
       "      <td>0</td>\n",
       "      <td>0</td>\n",
       "      <td>0</td>\n",
       "      <td>0</td>\n",
       "    </tr>\n",
       "    <tr>\n",
       "      <th>206581</th>\n",
       "      <td>5287.0</td>\n",
       "      <td>17.14</td>\n",
       "      <td>1.0</td>\n",
       "      <td>0</td>\n",
       "      <td>0</td>\n",
       "      <td>0</td>\n",
       "      <td>1</td>\n",
       "    </tr>\n",
       "    <tr>\n",
       "      <th>197945</th>\n",
       "      <td>3472.0</td>\n",
       "      <td>3.73</td>\n",
       "      <td>1.0</td>\n",
       "      <td>0</td>\n",
       "      <td>0</td>\n",
       "      <td>0</td>\n",
       "      <td>0</td>\n",
       "    </tr>\n",
       "    <tr>\n",
       "      <th>146716</th>\n",
       "      <td>3300.0</td>\n",
       "      <td>25.40</td>\n",
       "      <td>1.0</td>\n",
       "      <td>0</td>\n",
       "      <td>0</td>\n",
       "      <td>0</td>\n",
       "      <td>0</td>\n",
       "    </tr>\n",
       "    <tr>\n",
       "      <th>126181</th>\n",
       "      <td>3113.0</td>\n",
       "      <td>32.51</td>\n",
       "      <td>1.0</td>\n",
       "      <td>0</td>\n",
       "      <td>0</td>\n",
       "      <td>0</td>\n",
       "      <td>0</td>\n",
       "    </tr>\n",
       "    <tr>\n",
       "      <th>...</th>\n",
       "      <td>...</td>\n",
       "      <td>...</td>\n",
       "      <td>...</td>\n",
       "      <td>...</td>\n",
       "      <td>...</td>\n",
       "      <td>...</td>\n",
       "      <td>...</td>\n",
       "    </tr>\n",
       "    <tr>\n",
       "      <th>60253</th>\n",
       "      <td>21.0</td>\n",
       "      <td>0.06</td>\n",
       "      <td>1.0</td>\n",
       "      <td>0</td>\n",
       "      <td>0</td>\n",
       "      <td>0</td>\n",
       "      <td>0</td>\n",
       "    </tr>\n",
       "    <tr>\n",
       "      <th>189966</th>\n",
       "      <td>33.0</td>\n",
       "      <td>0.05</td>\n",
       "      <td>1.0</td>\n",
       "      <td>0</td>\n",
       "      <td>0</td>\n",
       "      <td>0</td>\n",
       "      <td>0</td>\n",
       "    </tr>\n",
       "    <tr>\n",
       "      <th>133669</th>\n",
       "      <td>833.0</td>\n",
       "      <td>15.39</td>\n",
       "      <td>1.0</td>\n",
       "      <td>0</td>\n",
       "      <td>0</td>\n",
       "      <td>0</td>\n",
       "      <td>0</td>\n",
       "    </tr>\n",
       "    <tr>\n",
       "      <th>179175</th>\n",
       "      <td>488.0</td>\n",
       "      <td>2.38</td>\n",
       "      <td>1.0</td>\n",
       "      <td>0</td>\n",
       "      <td>0</td>\n",
       "      <td>0</td>\n",
       "      <td>0</td>\n",
       "    </tr>\n",
       "    <tr>\n",
       "      <th>4384</th>\n",
       "      <td>3685.0</td>\n",
       "      <td>29.98</td>\n",
       "      <td>1.0</td>\n",
       "      <td>0</td>\n",
       "      <td>0</td>\n",
       "      <td>0</td>\n",
       "      <td>1</td>\n",
       "    </tr>\n",
       "  </tbody>\n",
       "</table>\n",
       "<p>4789 rows × 7 columns</p>\n",
       "</div>"
      ],
      "text/plain": [
       "        trip_duration  distance_traveled  num_of_passengers  surge_applied  \\\n",
       "173249          925.0               1.66                1.0              0   \n",
       "206581         5287.0              17.14                1.0              0   \n",
       "197945         3472.0               3.73                1.0              0   \n",
       "146716         3300.0              25.40                1.0              0   \n",
       "126181         3113.0              32.51                1.0              0   \n",
       "...               ...                ...                ...            ...   \n",
       "60253            21.0               0.06                1.0              0   \n",
       "189966           33.0               0.05                1.0              0   \n",
       "133669          833.0              15.39                1.0              0   \n",
       "179175          488.0               2.38                1.0              0   \n",
       "4384           3685.0              29.98                1.0              0   \n",
       "\n",
       "        is_big_vehicle  is_out_of_station_ride  is_more_than_hour_ride  \n",
       "173249               0                       0                       0  \n",
       "206581               0                       0                       1  \n",
       "197945               0                       0                       0  \n",
       "146716               0                       0                       0  \n",
       "126181               0                       0                       0  \n",
       "...                ...                     ...                     ...  \n",
       "60253                0                       0                       0  \n",
       "189966               0                       0                       0  \n",
       "133669               0                       0                       0  \n",
       "179175               0                       0                       0  \n",
       "4384                 0                       0                       1  \n",
       "\n",
       "[4789 rows x 7 columns]"
      ]
     },
     "execution_count": 82,
     "metadata": {},
     "output_type": "execute_result"
    }
   ],
   "source": [
    "analysis_data = X_test.loc[comparing_dump_df[comparing_dump_df['Percentage Difference'] >= 30].index]\n",
    "analysis_data"
   ]
  },
  {
   "cell_type": "code",
   "execution_count": 83,
   "id": "5c528b9d",
   "metadata": {
    "execution": {
     "iopub.execute_input": "2023-06-27T15:11:57.987830Z",
     "iopub.status.busy": "2023-06-27T15:11:57.987230Z",
     "iopub.status.idle": "2023-06-27T15:11:58.268578Z",
     "shell.execute_reply": "2023-06-27T15:11:58.267468Z"
    },
    "papermill": {
     "duration": 0.325929,
     "end_time": "2023-06-27T15:11:58.271039",
     "exception": false,
     "start_time": "2023-06-27T15:11:57.945110",
     "status": "completed"
    },
    "tags": []
   },
   "outputs": [
    {
     "data": {
      "image/png": "[encoded data removed]",
      "text/plain": [
       "<Figure size 640x480 with 1 Axes>"
      ]
     },
     "metadata": {},
     "output_type": "display_data"
    }
   ],
   "source": [
    "analysis_data['num_of_passengers'].value_counts().sort_index().plot(kind='bar')\n",
    "plt.show()"
   ]
  },
  {
   "cell_type": "markdown",
   "id": "59414e60",
   "metadata": {
    "papermill": {
     "duration": 0.041149,
     "end_time": "2023-06-27T15:11:58.354614",
     "exception": false,
     "start_time": "2023-06-27T15:11:58.313465",
     "status": "completed"
    },
    "tags": []
   },
   "source": [
    "Most of the cases where deviations are large are where passenger count is 1. Why?"
   ]
  },
  {
   "cell_type": "code",
   "execution_count": 84,
   "id": "31e2efd4",
   "metadata": {
    "execution": {
     "iopub.execute_input": "2023-06-27T15:11:58.440111Z",
     "iopub.status.busy": "2023-06-27T15:11:58.439284Z",
     "iopub.status.idle": "2023-06-27T15:11:58.668453Z",
     "shell.execute_reply": "2023-06-27T15:11:58.667128Z"
    },
    "papermill": {
     "duration": 0.274731,
     "end_time": "2023-06-27T15:11:58.670782",
     "exception": false,
     "start_time": "2023-06-27T15:11:58.396051",
     "status": "completed"
    },
    "tags": []
   },
   "outputs": [
    {
     "data": {
      "image/png": "[encoded data removed]",
      "text/plain": [
       "<Figure size 640x480 with 1 Axes>"
      ]
     },
     "metadata": {},
     "output_type": "display_data"
    }
   ],
   "source": [
    "X_train['num_of_passengers'].value_counts().sort_index().plot(kind='bar')\n",
    "plt.show()"
   ]
  },
  {
   "cell_type": "markdown",
   "id": "fb81b06c",
   "metadata": {
    "papermill": {
     "duration": 0.042995,
     "end_time": "2023-06-27T15:11:58.757888",
     "exception": false,
     "start_time": "2023-06-27T15:11:58.714893",
     "status": "completed"
    },
    "tags": []
   },
   "source": [
    "Might be becuase most of the data is belonging to passenger count as 1"
   ]
  },
  {
   "cell_type": "markdown",
   "id": "b1815937",
   "metadata": {
    "papermill": {
     "duration": 0.041781,
     "end_time": "2023-06-27T15:11:58.841803",
     "exception": false,
     "start_time": "2023-06-27T15:11:58.800022",
     "status": "completed"
    },
    "tags": []
   },
   "source": [
    "What does 0 passenger count mean? Did the taxi work as courier service? "
   ]
  },
  {
   "cell_type": "code",
   "execution_count": 85,
   "id": "3b8d3bc8",
   "metadata": {
    "execution": {
     "iopub.execute_input": "2023-06-27T15:11:58.929725Z",
     "iopub.status.busy": "2023-06-27T15:11:58.929073Z",
     "iopub.status.idle": "2023-06-27T15:11:58.938646Z",
     "shell.execute_reply": "2023-06-27T15:11:58.937885Z"
    },
    "papermill": {
     "duration": 0.056035,
     "end_time": "2023-06-27T15:11:58.940566",
     "exception": false,
     "start_time": "2023-06-27T15:11:58.884531",
     "status": "completed"
    },
    "tags": []
   },
   "outputs": [
    {
     "data": {
      "text/plain": [
       "1.0    112956\n",
       "2.0     10705\n",
       "5.0      2967\n",
       "6.0      2172\n",
       "3.0      1720\n",
       "4.0       552\n",
       "0.0       485\n",
       "8.0        16\n",
       "9.0         5\n",
       "7.0         1\n",
       "Name: num_of_passengers, dtype: int64"
      ]
     },
     "execution_count": 85,
     "metadata": {},
     "output_type": "execute_result"
    }
   ],
   "source": [
    "# For current senarios num_of_passengers = 0 means nothing, so we may remove that data\n",
    "X_train['num_of_passengers'].value_counts()"
   ]
  },
  {
   "cell_type": "markdown",
   "id": "4a004b8f",
   "metadata": {
    "papermill": {
     "duration": 0.042725,
     "end_time": "2023-06-27T15:11:59.026665",
     "exception": false,
     "start_time": "2023-06-27T15:11:58.983940",
     "status": "completed"
    },
    "tags": []
   },
   "source": [
    "485 data points can be removed, or if they come in future we can treat as passenger count 1"
   ]
  },
  {
   "cell_type": "code",
   "execution_count": 86,
   "id": "80df0fbc",
   "metadata": {
    "execution": {
     "iopub.execute_input": "2023-06-27T15:11:59.113766Z",
     "iopub.status.busy": "2023-06-27T15:11:59.113122Z",
     "iopub.status.idle": "2023-06-27T15:11:59.119383Z",
     "shell.execute_reply": "2023-06-27T15:11:59.118575Z"
    },
    "papermill": {
     "duration": 0.052346,
     "end_time": "2023-06-27T15:11:59.121494",
     "exception": false,
     "start_time": "2023-06-27T15:11:59.069148",
     "status": "completed"
    },
    "tags": []
   },
   "outputs": [],
   "source": [
    "X_train['num_of_passengers'] = np.where(X_train['num_of_passengers'] == 0, 1, X_train['num_of_passengers'])\n",
    "# X_test['num_of_passengers'] = np.where(X_test['num_of_passengers'] == 0, 1, X_test['num_of_passengers'])"
   ]
  },
  {
   "cell_type": "code",
   "execution_count": 87,
   "id": "5493177e",
   "metadata": {
    "execution": {
     "iopub.execute_input": "2023-06-27T15:11:59.207665Z",
     "iopub.status.busy": "2023-06-27T15:11:59.206970Z",
     "iopub.status.idle": "2023-06-27T15:11:59.215065Z",
     "shell.execute_reply": "2023-06-27T15:11:59.214283Z"
    },
    "papermill": {
     "duration": 0.053555,
     "end_time": "2023-06-27T15:11:59.217109",
     "exception": false,
     "start_time": "2023-06-27T15:11:59.163554",
     "status": "completed"
    },
    "tags": []
   },
   "outputs": [
    {
     "data": {
      "text/plain": [
       "0    3983\n",
       "1     806\n",
       "Name: surge_applied, dtype: int64"
      ]
     },
     "execution_count": 87,
     "metadata": {},
     "output_type": "execute_result"
    }
   ],
   "source": [
    "analysis_data['surge_applied'].value_counts()"
   ]
  },
  {
   "cell_type": "markdown",
   "id": "12db3d16",
   "metadata": {
    "papermill": {
     "duration": 0.042666,
     "end_time": "2023-06-27T15:11:59.303100",
     "exception": false,
     "start_time": "2023-06-27T15:11:59.260434",
     "status": "completed"
    },
    "tags": []
   },
   "source": [
    "Most of the data where surge is not present, there are deviations"
   ]
  },
  {
   "cell_type": "code",
   "execution_count": 88,
   "id": "892b1cd3",
   "metadata": {
    "execution": {
     "iopub.execute_input": "2023-06-27T15:11:59.390086Z",
     "iopub.status.busy": "2023-06-27T15:11:59.389398Z",
     "iopub.status.idle": "2023-06-27T15:11:59.401945Z",
     "shell.execute_reply": "2023-06-27T15:11:59.400852Z"
    },
    "papermill": {
     "duration": 0.058891,
     "end_time": "2023-06-27T15:11:59.404205",
     "exception": false,
     "start_time": "2023-06-27T15:11:59.345314",
     "status": "completed"
    },
    "tags": []
   },
   "outputs": [
    {
     "data": {
      "text/plain": [
       "count    6.290200e+04\n",
       "mean              inf\n",
       "std               NaN\n",
       "min      0.000000e+00\n",
       "25%      1.083333e+00\n",
       "50%      3.108288e+00\n",
       "75%      6.615385e+00\n",
       "max               inf\n",
       "Name: Percentage Difference, dtype: float64"
      ]
     },
     "execution_count": 88,
     "metadata": {},
     "output_type": "execute_result"
    }
   ],
   "source": [
    "comparing_dump_df['Percentage Difference'].describe()"
   ]
  },
  {
   "cell_type": "markdown",
   "id": "d45082e4",
   "metadata": {
    "papermill": {
     "duration": 0.042543,
     "end_time": "2023-06-27T15:11:59.488965",
     "exception": false,
     "start_time": "2023-06-27T15:11:59.446422",
     "status": "completed"
    },
    "tags": []
   },
   "source": [
    "There are cases which are inf in Percentage Difference, why?"
   ]
  },
  {
   "cell_type": "code",
   "execution_count": 89,
   "id": "8d2df138",
   "metadata": {
    "execution": {
     "iopub.execute_input": "2023-06-27T15:11:59.577767Z",
     "iopub.status.busy": "2023-06-27T15:11:59.577081Z",
     "iopub.status.idle": "2023-06-27T15:11:59.594072Z",
     "shell.execute_reply": "2023-06-27T15:11:59.592961Z"
    },
    "papermill": {
     "duration": 0.064178,
     "end_time": "2023-06-27T15:11:59.596164",
     "exception": false,
     "start_time": "2023-06-27T15:11:59.531986",
     "status": "completed"
    },
    "tags": []
   },
   "outputs": [
    {
     "data": {
      "text/html": [
       "<div>\n",
       "<style scoped>\n",
       "    .dataframe tbody tr th:only-of-type {\n",
       "        vertical-align: middle;\n",
       "    }\n",
       "\n",
       "    .dataframe tbody tr th {\n",
       "        vertical-align: top;\n",
       "    }\n",
       "\n",
       "    .dataframe thead th {\n",
       "        text-align: right;\n",
       "    }\n",
       "</style>\n",
       "<table border=\"1\" class=\"dataframe\">\n",
       "  <thead>\n",
       "    <tr style=\"text-align: right;\">\n",
       "      <th></th>\n",
       "      <th>fare</th>\n",
       "      <th>Predicted Fare</th>\n",
       "      <th>Percentage Difference</th>\n",
       "    </tr>\n",
       "  </thead>\n",
       "  <tbody>\n",
       "    <tr>\n",
       "      <th>26437</th>\n",
       "      <td>0.0</td>\n",
       "      <td>44.548929</td>\n",
       "      <td>inf</td>\n",
       "    </tr>\n",
       "    <tr>\n",
       "      <th>51040</th>\n",
       "      <td>0.0</td>\n",
       "      <td>187.162500</td>\n",
       "      <td>inf</td>\n",
       "    </tr>\n",
       "    <tr>\n",
       "      <th>94702</th>\n",
       "      <td>0.0</td>\n",
       "      <td>71.437500</td>\n",
       "      <td>inf</td>\n",
       "    </tr>\n",
       "    <tr>\n",
       "      <th>31199</th>\n",
       "      <td>0.0</td>\n",
       "      <td>56.070000</td>\n",
       "      <td>inf</td>\n",
       "    </tr>\n",
       "    <tr>\n",
       "      <th>8930</th>\n",
       "      <td>0.0</td>\n",
       "      <td>196.575000</td>\n",
       "      <td>inf</td>\n",
       "    </tr>\n",
       "    <tr>\n",
       "      <th>166232</th>\n",
       "      <td>0.0</td>\n",
       "      <td>33.037500</td>\n",
       "      <td>inf</td>\n",
       "    </tr>\n",
       "    <tr>\n",
       "      <th>2389</th>\n",
       "      <td>0.0</td>\n",
       "      <td>61.429464</td>\n",
       "      <td>inf</td>\n",
       "    </tr>\n",
       "    <tr>\n",
       "      <th>185143</th>\n",
       "      <td>0.0</td>\n",
       "      <td>74.175000</td>\n",
       "      <td>inf</td>\n",
       "    </tr>\n",
       "    <tr>\n",
       "      <th>173371</th>\n",
       "      <td>0.0</td>\n",
       "      <td>41.702500</td>\n",
       "      <td>inf</td>\n",
       "    </tr>\n",
       "    <tr>\n",
       "      <th>167253</th>\n",
       "      <td>0.0</td>\n",
       "      <td>60.300000</td>\n",
       "      <td>inf</td>\n",
       "    </tr>\n",
       "    <tr>\n",
       "      <th>172568</th>\n",
       "      <td>0.0</td>\n",
       "      <td>197.025000</td>\n",
       "      <td>inf</td>\n",
       "    </tr>\n",
       "    <tr>\n",
       "      <th>204870</th>\n",
       "      <td>0.0</td>\n",
       "      <td>11.851116</td>\n",
       "      <td>inf</td>\n",
       "    </tr>\n",
       "    <tr>\n",
       "      <th>205775</th>\n",
       "      <td>0.0</td>\n",
       "      <td>196.575000</td>\n",
       "      <td>inf</td>\n",
       "    </tr>\n",
       "    <tr>\n",
       "      <th>201900</th>\n",
       "      <td>0.0</td>\n",
       "      <td>188.325000</td>\n",
       "      <td>inf</td>\n",
       "    </tr>\n",
       "    <tr>\n",
       "      <th>159711</th>\n",
       "      <td>0.0</td>\n",
       "      <td>196.575000</td>\n",
       "      <td>inf</td>\n",
       "    </tr>\n",
       "    <tr>\n",
       "      <th>180815</th>\n",
       "      <td>0.0</td>\n",
       "      <td>36.621250</td>\n",
       "      <td>inf</td>\n",
       "    </tr>\n",
       "    <tr>\n",
       "      <th>52342</th>\n",
       "      <td>0.0</td>\n",
       "      <td>121.118750</td>\n",
       "      <td>inf</td>\n",
       "    </tr>\n",
       "    <tr>\n",
       "      <th>105839</th>\n",
       "      <td>0.0</td>\n",
       "      <td>196.575000</td>\n",
       "      <td>inf</td>\n",
       "    </tr>\n",
       "    <tr>\n",
       "      <th>59377</th>\n",
       "      <td>0.0</td>\n",
       "      <td>196.575000</td>\n",
       "      <td>inf</td>\n",
       "    </tr>\n",
       "    <tr>\n",
       "      <th>152693</th>\n",
       "      <td>0.0</td>\n",
       "      <td>172.275000</td>\n",
       "      <td>inf</td>\n",
       "    </tr>\n",
       "    <tr>\n",
       "      <th>111484</th>\n",
       "      <td>0.0</td>\n",
       "      <td>196.575000</td>\n",
       "      <td>inf</td>\n",
       "    </tr>\n",
       "    <tr>\n",
       "      <th>170077</th>\n",
       "      <td>0.0</td>\n",
       "      <td>196.575000</td>\n",
       "      <td>inf</td>\n",
       "    </tr>\n",
       "    <tr>\n",
       "      <th>144966</th>\n",
       "      <td>0.0</td>\n",
       "      <td>188.325000</td>\n",
       "      <td>inf</td>\n",
       "    </tr>\n",
       "    <tr>\n",
       "      <th>160847</th>\n",
       "      <td>0.0</td>\n",
       "      <td>188.325000</td>\n",
       "      <td>inf</td>\n",
       "    </tr>\n",
       "    <tr>\n",
       "      <th>151465</th>\n",
       "      <td>0.0</td>\n",
       "      <td>188.325000</td>\n",
       "      <td>inf</td>\n",
       "    </tr>\n",
       "    <tr>\n",
       "      <th>110612</th>\n",
       "      <td>0.0</td>\n",
       "      <td>27.450000</td>\n",
       "      <td>inf</td>\n",
       "    </tr>\n",
       "    <tr>\n",
       "      <th>170595</th>\n",
       "      <td>0.0</td>\n",
       "      <td>201.600000</td>\n",
       "      <td>inf</td>\n",
       "    </tr>\n",
       "    <tr>\n",
       "      <th>169441</th>\n",
       "      <td>0.0</td>\n",
       "      <td>98.325000</td>\n",
       "      <td>inf</td>\n",
       "    </tr>\n",
       "    <tr>\n",
       "      <th>88237</th>\n",
       "      <td>0.0</td>\n",
       "      <td>124.275000</td>\n",
       "      <td>inf</td>\n",
       "    </tr>\n",
       "    <tr>\n",
       "      <th>159922</th>\n",
       "      <td>0.0</td>\n",
       "      <td>52.612500</td>\n",
       "      <td>inf</td>\n",
       "    </tr>\n",
       "    <tr>\n",
       "      <th>75581</th>\n",
       "      <td>0.0</td>\n",
       "      <td>233.415179</td>\n",
       "      <td>inf</td>\n",
       "    </tr>\n",
       "    <tr>\n",
       "      <th>149359</th>\n",
       "      <td>0.0</td>\n",
       "      <td>43.574554</td>\n",
       "      <td>inf</td>\n",
       "    </tr>\n",
       "    <tr>\n",
       "      <th>75850</th>\n",
       "      <td>0.0</td>\n",
       "      <td>68.062500</td>\n",
       "      <td>inf</td>\n",
       "    </tr>\n",
       "    <tr>\n",
       "      <th>129155</th>\n",
       "      <td>0.0</td>\n",
       "      <td>140.475000</td>\n",
       "      <td>inf</td>\n",
       "    </tr>\n",
       "    <tr>\n",
       "      <th>187579</th>\n",
       "      <td>0.0</td>\n",
       "      <td>21.679643</td>\n",
       "      <td>inf</td>\n",
       "    </tr>\n",
       "    <tr>\n",
       "      <th>189820</th>\n",
       "      <td>0.0</td>\n",
       "      <td>186.825000</td>\n",
       "      <td>inf</td>\n",
       "    </tr>\n",
       "    <tr>\n",
       "      <th>36846</th>\n",
       "      <td>0.0</td>\n",
       "      <td>125.925000</td>\n",
       "      <td>inf</td>\n",
       "    </tr>\n",
       "    <tr>\n",
       "      <th>158873</th>\n",
       "      <td>0.0</td>\n",
       "      <td>188.325000</td>\n",
       "      <td>inf</td>\n",
       "    </tr>\n",
       "    <tr>\n",
       "      <th>165251</th>\n",
       "      <td>0.0</td>\n",
       "      <td>152.400000</td>\n",
       "      <td>inf</td>\n",
       "    </tr>\n",
       "    <tr>\n",
       "      <th>77285</th>\n",
       "      <td>0.0</td>\n",
       "      <td>83.512500</td>\n",
       "      <td>inf</td>\n",
       "    </tr>\n",
       "    <tr>\n",
       "      <th>87908</th>\n",
       "      <td>0.0</td>\n",
       "      <td>103.875000</td>\n",
       "      <td>inf</td>\n",
       "    </tr>\n",
       "    <tr>\n",
       "      <th>15050</th>\n",
       "      <td>0.0</td>\n",
       "      <td>35.587500</td>\n",
       "      <td>inf</td>\n",
       "    </tr>\n",
       "    <tr>\n",
       "      <th>50141</th>\n",
       "      <td>0.0</td>\n",
       "      <td>196.575000</td>\n",
       "      <td>inf</td>\n",
       "    </tr>\n",
       "    <tr>\n",
       "      <th>21340</th>\n",
       "      <td>0.0</td>\n",
       "      <td>196.575000</td>\n",
       "      <td>inf</td>\n",
       "    </tr>\n",
       "  </tbody>\n",
       "</table>\n",
       "</div>"
      ],
      "text/plain": [
       "        fare  Predicted Fare  Percentage Difference\n",
       "26437    0.0       44.548929                    inf\n",
       "51040    0.0      187.162500                    inf\n",
       "94702    0.0       71.437500                    inf\n",
       "31199    0.0       56.070000                    inf\n",
       "8930     0.0      196.575000                    inf\n",
       "166232   0.0       33.037500                    inf\n",
       "2389     0.0       61.429464                    inf\n",
       "185143   0.0       74.175000                    inf\n",
       "173371   0.0       41.702500                    inf\n",
       "167253   0.0       60.300000                    inf\n",
       "172568   0.0      197.025000                    inf\n",
       "204870   0.0       11.851116                    inf\n",
       "205775   0.0      196.575000                    inf\n",
       "201900   0.0      188.325000                    inf\n",
       "159711   0.0      196.575000                    inf\n",
       "180815   0.0       36.621250                    inf\n",
       "52342    0.0      121.118750                    inf\n",
       "105839   0.0      196.575000                    inf\n",
       "59377    0.0      196.575000                    inf\n",
       "152693   0.0      172.275000                    inf\n",
       "111484   0.0      196.575000                    inf\n",
       "170077   0.0      196.575000                    inf\n",
       "144966   0.0      188.325000                    inf\n",
       "160847   0.0      188.325000                    inf\n",
       "151465   0.0      188.325000                    inf\n",
       "110612   0.0       27.450000                    inf\n",
       "170595   0.0      201.600000                    inf\n",
       "169441   0.0       98.325000                    inf\n",
       "88237    0.0      124.275000                    inf\n",
       "159922   0.0       52.612500                    inf\n",
       "75581    0.0      233.415179                    inf\n",
       "149359   0.0       43.574554                    inf\n",
       "75850    0.0       68.062500                    inf\n",
       "129155   0.0      140.475000                    inf\n",
       "187579   0.0       21.679643                    inf\n",
       "189820   0.0      186.825000                    inf\n",
       "36846    0.0      125.925000                    inf\n",
       "158873   0.0      188.325000                    inf\n",
       "165251   0.0      152.400000                    inf\n",
       "77285    0.0       83.512500                    inf\n",
       "87908    0.0      103.875000                    inf\n",
       "15050    0.0       35.587500                    inf\n",
       "50141    0.0      196.575000                    inf\n",
       "21340    0.0      196.575000                    inf"
      ]
     },
     "execution_count": 89,
     "metadata": {},
     "output_type": "execute_result"
    }
   ],
   "source": [
    "comparing_dump_df[comparing_dump_df['Percentage Difference'] == np.inf]"
   ]
  },
  {
   "cell_type": "markdown",
   "id": "591f641d",
   "metadata": {
    "papermill": {
     "duration": 0.042602,
     "end_time": "2023-06-27T15:11:59.682016",
     "exception": false,
     "start_time": "2023-06-27T15:11:59.639414",
     "status": "completed"
    },
    "tags": []
   },
   "source": [
    "Why fares are zero for them?"
   ]
  },
  {
   "cell_type": "code",
   "execution_count": 90,
   "id": "41f1bbcd",
   "metadata": {
    "execution": {
     "iopub.execute_input": "2023-06-27T15:11:59.772576Z",
     "iopub.status.busy": "2023-06-27T15:11:59.771281Z",
     "iopub.status.idle": "2023-06-27T15:11:59.806783Z",
     "shell.execute_reply": "2023-06-27T15:11:59.805638Z"
    },
    "papermill": {
     "duration": 0.083057,
     "end_time": "2023-06-27T15:11:59.808951",
     "exception": false,
     "start_time": "2023-06-27T15:11:59.725894",
     "status": "completed"
    },
    "tags": []
   },
   "outputs": [
    {
     "data": {
      "text/html": [
       "<div>\n",
       "<style scoped>\n",
       "    .dataframe tbody tr th:only-of-type {\n",
       "        vertical-align: middle;\n",
       "    }\n",
       "\n",
       "    .dataframe tbody tr th {\n",
       "        vertical-align: top;\n",
       "    }\n",
       "\n",
       "    .dataframe thead th {\n",
       "        text-align: right;\n",
       "    }\n",
       "</style>\n",
       "<table border=\"1\" class=\"dataframe\">\n",
       "  <thead>\n",
       "    <tr style=\"text-align: right;\">\n",
       "      <th></th>\n",
       "      <th>trip_duration</th>\n",
       "      <th>distance_traveled</th>\n",
       "      <th>num_of_passengers</th>\n",
       "      <th>fare</th>\n",
       "      <th>tip</th>\n",
       "      <th>miscellaneous_fees</th>\n",
       "      <th>total_fare</th>\n",
       "      <th>surge_applied</th>\n",
       "      <th>final_fare_calculated_as_sum_of_components</th>\n",
       "    </tr>\n",
       "  </thead>\n",
       "  <tbody>\n",
       "    <tr>\n",
       "      <th>26437</th>\n",
       "      <td>408.0</td>\n",
       "      <td>1.13</td>\n",
       "      <td>1.0</td>\n",
       "      <td>0.0</td>\n",
       "      <td>0</td>\n",
       "      <td>0.000</td>\n",
       "      <td>0.000</td>\n",
       "      <td>0</td>\n",
       "      <td>0.000</td>\n",
       "    </tr>\n",
       "    <tr>\n",
       "      <th>51040</th>\n",
       "      <td>1564.0</td>\n",
       "      <td>17.54</td>\n",
       "      <td>1.0</td>\n",
       "      <td>0.0</td>\n",
       "      <td>0</td>\n",
       "      <td>0.000</td>\n",
       "      <td>0.000</td>\n",
       "      <td>0</td>\n",
       "      <td>0.000</td>\n",
       "    </tr>\n",
       "    <tr>\n",
       "      <th>94702</th>\n",
       "      <td>752.0</td>\n",
       "      <td>2.41</td>\n",
       "      <td>1.0</td>\n",
       "      <td>0.0</td>\n",
       "      <td>0</td>\n",
       "      <td>0.000</td>\n",
       "      <td>0.000</td>\n",
       "      <td>0</td>\n",
       "      <td>0.000</td>\n",
       "    </tr>\n",
       "    <tr>\n",
       "      <th>31199</th>\n",
       "      <td>73.0</td>\n",
       "      <td>0.16</td>\n",
       "      <td>1.0</td>\n",
       "      <td>0.0</td>\n",
       "      <td>0</td>\n",
       "      <td>0.000</td>\n",
       "      <td>0.000</td>\n",
       "      <td>0</td>\n",
       "      <td>0.000</td>\n",
       "    </tr>\n",
       "    <tr>\n",
       "      <th>8930</th>\n",
       "      <td>3706.0</td>\n",
       "      <td>14.00</td>\n",
       "      <td>1.0</td>\n",
       "      <td>0.0</td>\n",
       "      <td>0</td>\n",
       "      <td>0.000</td>\n",
       "      <td>0.000</td>\n",
       "      <td>0</td>\n",
       "      <td>0.000</td>\n",
       "    </tr>\n",
       "    <tr>\n",
       "      <th>166232</th>\n",
       "      <td>226.0</td>\n",
       "      <td>0.80</td>\n",
       "      <td>1.0</td>\n",
       "      <td>0.0</td>\n",
       "      <td>112</td>\n",
       "      <td>0.500</td>\n",
       "      <td>112.500</td>\n",
       "      <td>0</td>\n",
       "      <td>112.500</td>\n",
       "    </tr>\n",
       "    <tr>\n",
       "      <th>2389</th>\n",
       "      <td>588.0</td>\n",
       "      <td>2.41</td>\n",
       "      <td>1.0</td>\n",
       "      <td>0.0</td>\n",
       "      <td>0</td>\n",
       "      <td>0.000</td>\n",
       "      <td>0.000</td>\n",
       "      <td>0</td>\n",
       "      <td>0.000</td>\n",
       "    </tr>\n",
       "    <tr>\n",
       "      <th>185143</th>\n",
       "      <td>825.0</td>\n",
       "      <td>2.25</td>\n",
       "      <td>1.0</td>\n",
       "      <td>0.0</td>\n",
       "      <td>0</td>\n",
       "      <td>0.000</td>\n",
       "      <td>0.000</td>\n",
       "      <td>0</td>\n",
       "      <td>0.000</td>\n",
       "    </tr>\n",
       "    <tr>\n",
       "      <th>173371</th>\n",
       "      <td>29.0</td>\n",
       "      <td>0.48</td>\n",
       "      <td>1.0</td>\n",
       "      <td>0.0</td>\n",
       "      <td>0</td>\n",
       "      <td>0.000</td>\n",
       "      <td>0.000</td>\n",
       "      <td>0</td>\n",
       "      <td>0.000</td>\n",
       "    </tr>\n",
       "    <tr>\n",
       "      <th>167253</th>\n",
       "      <td>164.0</td>\n",
       "      <td>0.48</td>\n",
       "      <td>1.0</td>\n",
       "      <td>0.0</td>\n",
       "      <td>0</td>\n",
       "      <td>0.000</td>\n",
       "      <td>0.000</td>\n",
       "      <td>0</td>\n",
       "      <td>0.000</td>\n",
       "    </tr>\n",
       "    <tr>\n",
       "      <th>172568</th>\n",
       "      <td>2064.0</td>\n",
       "      <td>18.83</td>\n",
       "      <td>1.0</td>\n",
       "      <td>0.0</td>\n",
       "      <td>0</td>\n",
       "      <td>0.000</td>\n",
       "      <td>0.000</td>\n",
       "      <td>0</td>\n",
       "      <td>0.000</td>\n",
       "    </tr>\n",
       "    <tr>\n",
       "      <th>204870</th>\n",
       "      <td>27.0</td>\n",
       "      <td>0.16</td>\n",
       "      <td>1.0</td>\n",
       "      <td>0.0</td>\n",
       "      <td>0</td>\n",
       "      <td>0.000</td>\n",
       "      <td>0.000</td>\n",
       "      <td>0</td>\n",
       "      <td>0.000</td>\n",
       "    </tr>\n",
       "    <tr>\n",
       "      <th>205775</th>\n",
       "      <td>3762.0</td>\n",
       "      <td>24.94</td>\n",
       "      <td>1.0</td>\n",
       "      <td>0.0</td>\n",
       "      <td>0</td>\n",
       "      <td>49.125</td>\n",
       "      <td>49.125</td>\n",
       "      <td>0</td>\n",
       "      <td>49.125</td>\n",
       "    </tr>\n",
       "    <tr>\n",
       "      <th>201900</th>\n",
       "      <td>5259.0</td>\n",
       "      <td>39.75</td>\n",
       "      <td>2.0</td>\n",
       "      <td>0.0</td>\n",
       "      <td>0</td>\n",
       "      <td>0.000</td>\n",
       "      <td>0.000</td>\n",
       "      <td>0</td>\n",
       "      <td>0.000</td>\n",
       "    </tr>\n",
       "    <tr>\n",
       "      <th>159711</th>\n",
       "      <td>9318.0</td>\n",
       "      <td>32.67</td>\n",
       "      <td>1.0</td>\n",
       "      <td>0.0</td>\n",
       "      <td>0</td>\n",
       "      <td>0.000</td>\n",
       "      <td>0.000</td>\n",
       "      <td>0</td>\n",
       "      <td>0.000</td>\n",
       "    </tr>\n",
       "    <tr>\n",
       "      <th>180815</th>\n",
       "      <td>11.0</td>\n",
       "      <td>0.06</td>\n",
       "      <td>1.0</td>\n",
       "      <td>0.0</td>\n",
       "      <td>0</td>\n",
       "      <td>6.000</td>\n",
       "      <td>6.000</td>\n",
       "      <td>0</td>\n",
       "      <td>6.000</td>\n",
       "    </tr>\n",
       "    <tr>\n",
       "      <th>52342</th>\n",
       "      <td>1026.0</td>\n",
       "      <td>6.60</td>\n",
       "      <td>2.0</td>\n",
       "      <td>0.0</td>\n",
       "      <td>0</td>\n",
       "      <td>0.000</td>\n",
       "      <td>0.000</td>\n",
       "      <td>0</td>\n",
       "      <td>0.000</td>\n",
       "    </tr>\n",
       "    <tr>\n",
       "      <th>105839</th>\n",
       "      <td>2388.0</td>\n",
       "      <td>18.67</td>\n",
       "      <td>1.0</td>\n",
       "      <td>0.0</td>\n",
       "      <td>0</td>\n",
       "      <td>0.000</td>\n",
       "      <td>0.000</td>\n",
       "      <td>0</td>\n",
       "      <td>0.000</td>\n",
       "    </tr>\n",
       "    <tr>\n",
       "      <th>59377</th>\n",
       "      <td>4501.0</td>\n",
       "      <td>18.35</td>\n",
       "      <td>1.0</td>\n",
       "      <td>0.0</td>\n",
       "      <td>0</td>\n",
       "      <td>0.000</td>\n",
       "      <td>0.000</td>\n",
       "      <td>0</td>\n",
       "      <td>0.000</td>\n",
       "    </tr>\n",
       "    <tr>\n",
       "      <th>152693</th>\n",
       "      <td>1835.0</td>\n",
       "      <td>9.01</td>\n",
       "      <td>2.0</td>\n",
       "      <td>0.0</td>\n",
       "      <td>0</td>\n",
       "      <td>0.000</td>\n",
       "      <td>0.000</td>\n",
       "      <td>0</td>\n",
       "      <td>0.000</td>\n",
       "    </tr>\n",
       "    <tr>\n",
       "      <th>111484</th>\n",
       "      <td>2746.0</td>\n",
       "      <td>23.66</td>\n",
       "      <td>1.0</td>\n",
       "      <td>0.0</td>\n",
       "      <td>0</td>\n",
       "      <td>0.000</td>\n",
       "      <td>0.000</td>\n",
       "      <td>0</td>\n",
       "      <td>0.000</td>\n",
       "    </tr>\n",
       "    <tr>\n",
       "      <th>170077</th>\n",
       "      <td>11224.0</td>\n",
       "      <td>36.69</td>\n",
       "      <td>1.0</td>\n",
       "      <td>0.0</td>\n",
       "      <td>0</td>\n",
       "      <td>0.000</td>\n",
       "      <td>0.000</td>\n",
       "      <td>0</td>\n",
       "      <td>0.000</td>\n",
       "    </tr>\n",
       "    <tr>\n",
       "      <th>144966</th>\n",
       "      <td>7977.0</td>\n",
       "      <td>16.58</td>\n",
       "      <td>2.0</td>\n",
       "      <td>0.0</td>\n",
       "      <td>0</td>\n",
       "      <td>0.000</td>\n",
       "      <td>0.000</td>\n",
       "      <td>0</td>\n",
       "      <td>0.000</td>\n",
       "    </tr>\n",
       "    <tr>\n",
       "      <th>160847</th>\n",
       "      <td>37489.0</td>\n",
       "      <td>109.44</td>\n",
       "      <td>2.0</td>\n",
       "      <td>0.0</td>\n",
       "      <td>0</td>\n",
       "      <td>0.000</td>\n",
       "      <td>0.000</td>\n",
       "      <td>0</td>\n",
       "      <td>0.000</td>\n",
       "    </tr>\n",
       "    <tr>\n",
       "      <th>151465</th>\n",
       "      <td>18257.0</td>\n",
       "      <td>73.87</td>\n",
       "      <td>2.0</td>\n",
       "      <td>0.0</td>\n",
       "      <td>0</td>\n",
       "      <td>0.000</td>\n",
       "      <td>0.000</td>\n",
       "      <td>0</td>\n",
       "      <td>0.000</td>\n",
       "    </tr>\n",
       "    <tr>\n",
       "      <th>110612</th>\n",
       "      <td>86.0</td>\n",
       "      <td>0.16</td>\n",
       "      <td>1.0</td>\n",
       "      <td>0.0</td>\n",
       "      <td>0</td>\n",
       "      <td>0.000</td>\n",
       "      <td>0.000</td>\n",
       "      <td>0</td>\n",
       "      <td>0.000</td>\n",
       "    </tr>\n",
       "    <tr>\n",
       "      <th>170595</th>\n",
       "      <td>1864.0</td>\n",
       "      <td>11.41</td>\n",
       "      <td>1.0</td>\n",
       "      <td>0.0</td>\n",
       "      <td>0</td>\n",
       "      <td>26.625</td>\n",
       "      <td>26.625</td>\n",
       "      <td>1</td>\n",
       "      <td>26.625</td>\n",
       "    </tr>\n",
       "    <tr>\n",
       "      <th>169441</th>\n",
       "      <td>1043.0</td>\n",
       "      <td>4.51</td>\n",
       "      <td>1.0</td>\n",
       "      <td>0.0</td>\n",
       "      <td>0</td>\n",
       "      <td>0.000</td>\n",
       "      <td>0.000</td>\n",
       "      <td>0</td>\n",
       "      <td>0.000</td>\n",
       "    </tr>\n",
       "    <tr>\n",
       "      <th>88237</th>\n",
       "      <td>1070.0</td>\n",
       "      <td>6.97</td>\n",
       "      <td>1.0</td>\n",
       "      <td>0.0</td>\n",
       "      <td>0</td>\n",
       "      <td>6.000</td>\n",
       "      <td>6.000</td>\n",
       "      <td>0</td>\n",
       "      <td>6.000</td>\n",
       "    </tr>\n",
       "    <tr>\n",
       "      <th>159922</th>\n",
       "      <td>359.0</td>\n",
       "      <td>2.74</td>\n",
       "      <td>1.0</td>\n",
       "      <td>0.0</td>\n",
       "      <td>0</td>\n",
       "      <td>0.000</td>\n",
       "      <td>0.000</td>\n",
       "      <td>0</td>\n",
       "      <td>0.000</td>\n",
       "    </tr>\n",
       "    <tr>\n",
       "      <th>75581</th>\n",
       "      <td>45.0</td>\n",
       "      <td>0.16</td>\n",
       "      <td>0.0</td>\n",
       "      <td>0.0</td>\n",
       "      <td>0</td>\n",
       "      <td>0.000</td>\n",
       "      <td>0.000</td>\n",
       "      <td>0</td>\n",
       "      <td>0.000</td>\n",
       "    </tr>\n",
       "    <tr>\n",
       "      <th>149359</th>\n",
       "      <td>331.0</td>\n",
       "      <td>1.45</td>\n",
       "      <td>1.0</td>\n",
       "      <td>0.0</td>\n",
       "      <td>0</td>\n",
       "      <td>0.000</td>\n",
       "      <td>0.000</td>\n",
       "      <td>0</td>\n",
       "      <td>0.000</td>\n",
       "    </tr>\n",
       "    <tr>\n",
       "      <th>75850</th>\n",
       "      <td>596.0</td>\n",
       "      <td>3.22</td>\n",
       "      <td>1.0</td>\n",
       "      <td>0.0</td>\n",
       "      <td>0</td>\n",
       "      <td>0.000</td>\n",
       "      <td>0.000</td>\n",
       "      <td>0</td>\n",
       "      <td>0.000</td>\n",
       "    </tr>\n",
       "    <tr>\n",
       "      <th>129155</th>\n",
       "      <td>1587.0</td>\n",
       "      <td>6.12</td>\n",
       "      <td>1.0</td>\n",
       "      <td>0.0</td>\n",
       "      <td>0</td>\n",
       "      <td>0.000</td>\n",
       "      <td>0.000</td>\n",
       "      <td>0</td>\n",
       "      <td>0.000</td>\n",
       "    </tr>\n",
       "    <tr>\n",
       "      <th>187579</th>\n",
       "      <td>82.0</td>\n",
       "      <td>0.16</td>\n",
       "      <td>1.0</td>\n",
       "      <td>0.0</td>\n",
       "      <td>0</td>\n",
       "      <td>0.000</td>\n",
       "      <td>0.000</td>\n",
       "      <td>0</td>\n",
       "      <td>0.000</td>\n",
       "    </tr>\n",
       "    <tr>\n",
       "      <th>189820</th>\n",
       "      <td>1557.0</td>\n",
       "      <td>15.93</td>\n",
       "      <td>1.0</td>\n",
       "      <td>0.0</td>\n",
       "      <td>0</td>\n",
       "      <td>0.000</td>\n",
       "      <td>0.000</td>\n",
       "      <td>0</td>\n",
       "      <td>0.000</td>\n",
       "    </tr>\n",
       "    <tr>\n",
       "      <th>36846</th>\n",
       "      <td>1600.0</td>\n",
       "      <td>4.18</td>\n",
       "      <td>0.0</td>\n",
       "      <td>0.0</td>\n",
       "      <td>0</td>\n",
       "      <td>0.000</td>\n",
       "      <td>0.000</td>\n",
       "      <td>0</td>\n",
       "      <td>0.000</td>\n",
       "    </tr>\n",
       "    <tr>\n",
       "      <th>158873</th>\n",
       "      <td>8198.0</td>\n",
       "      <td>46.35</td>\n",
       "      <td>2.0</td>\n",
       "      <td>0.0</td>\n",
       "      <td>0</td>\n",
       "      <td>0.000</td>\n",
       "      <td>0.000</td>\n",
       "      <td>0</td>\n",
       "      <td>0.000</td>\n",
       "    </tr>\n",
       "    <tr>\n",
       "      <th>165251</th>\n",
       "      <td>36.0</td>\n",
       "      <td>6.60</td>\n",
       "      <td>1.0</td>\n",
       "      <td>0.0</td>\n",
       "      <td>0</td>\n",
       "      <td>0.000</td>\n",
       "      <td>0.000</td>\n",
       "      <td>0</td>\n",
       "      <td>0.000</td>\n",
       "    </tr>\n",
       "    <tr>\n",
       "      <th>77285</th>\n",
       "      <td>40.0</td>\n",
       "      <td>0.48</td>\n",
       "      <td>1.0</td>\n",
       "      <td>0.0</td>\n",
       "      <td>0</td>\n",
       "      <td>0.000</td>\n",
       "      <td>0.000</td>\n",
       "      <td>0</td>\n",
       "      <td>0.000</td>\n",
       "    </tr>\n",
       "    <tr>\n",
       "      <th>87908</th>\n",
       "      <td>851.0</td>\n",
       "      <td>5.31</td>\n",
       "      <td>1.0</td>\n",
       "      <td>0.0</td>\n",
       "      <td>0</td>\n",
       "      <td>0.000</td>\n",
       "      <td>0.000</td>\n",
       "      <td>0</td>\n",
       "      <td>0.000</td>\n",
       "    </tr>\n",
       "    <tr>\n",
       "      <th>15050</th>\n",
       "      <td>185.0</td>\n",
       "      <td>0.16</td>\n",
       "      <td>1.0</td>\n",
       "      <td>0.0</td>\n",
       "      <td>0</td>\n",
       "      <td>0.000</td>\n",
       "      <td>0.000</td>\n",
       "      <td>0</td>\n",
       "      <td>0.000</td>\n",
       "    </tr>\n",
       "    <tr>\n",
       "      <th>50141</th>\n",
       "      <td>6728.0</td>\n",
       "      <td>33.96</td>\n",
       "      <td>1.0</td>\n",
       "      <td>0.0</td>\n",
       "      <td>0</td>\n",
       "      <td>0.000</td>\n",
       "      <td>0.000</td>\n",
       "      <td>0</td>\n",
       "      <td>0.000</td>\n",
       "    </tr>\n",
       "    <tr>\n",
       "      <th>21340</th>\n",
       "      <td>3227.0</td>\n",
       "      <td>17.38</td>\n",
       "      <td>1.0</td>\n",
       "      <td>0.0</td>\n",
       "      <td>0</td>\n",
       "      <td>0.000</td>\n",
       "      <td>0.000</td>\n",
       "      <td>0</td>\n",
       "      <td>0.000</td>\n",
       "    </tr>\n",
       "  </tbody>\n",
       "</table>\n",
       "</div>"
      ],
      "text/plain": [
       "        trip_duration  distance_traveled  num_of_passengers  fare  tip  \\\n",
       "26437           408.0               1.13                1.0   0.0    0   \n",
       "51040          1564.0              17.54                1.0   0.0    0   \n",
       "94702           752.0               2.41                1.0   0.0    0   \n",
       "31199            73.0               0.16                1.0   0.0    0   \n",
       "8930           3706.0              14.00                1.0   0.0    0   \n",
       "166232          226.0               0.80                1.0   0.0  112   \n",
       "2389            588.0               2.41                1.0   0.0    0   \n",
       "185143          825.0               2.25                1.0   0.0    0   \n",
       "173371           29.0               0.48                1.0   0.0    0   \n",
       "167253          164.0               0.48                1.0   0.0    0   \n",
       "172568         2064.0              18.83                1.0   0.0    0   \n",
       "204870           27.0               0.16                1.0   0.0    0   \n",
       "205775         3762.0              24.94                1.0   0.0    0   \n",
       "201900         5259.0              39.75                2.0   0.0    0   \n",
       "159711         9318.0              32.67                1.0   0.0    0   \n",
       "180815           11.0               0.06                1.0   0.0    0   \n",
       "52342          1026.0               6.60                2.0   0.0    0   \n",
       "105839         2388.0              18.67                1.0   0.0    0   \n",
       "59377          4501.0              18.35                1.0   0.0    0   \n",
       "152693         1835.0               9.01                2.0   0.0    0   \n",
       "111484         2746.0              23.66                1.0   0.0    0   \n",
       "170077        11224.0              36.69                1.0   0.0    0   \n",
       "144966         7977.0              16.58                2.0   0.0    0   \n",
       "160847        37489.0             109.44                2.0   0.0    0   \n",
       "151465        18257.0              73.87                2.0   0.0    0   \n",
       "110612           86.0               0.16                1.0   0.0    0   \n",
       "170595         1864.0              11.41                1.0   0.0    0   \n",
       "169441         1043.0               4.51                1.0   0.0    0   \n",
       "88237          1070.0               6.97                1.0   0.0    0   \n",
       "159922          359.0               2.74                1.0   0.0    0   \n",
       "75581            45.0               0.16                0.0   0.0    0   \n",
       "149359          331.0               1.45                1.0   0.0    0   \n",
       "75850           596.0               3.22                1.0   0.0    0   \n",
       "129155         1587.0               6.12                1.0   0.0    0   \n",
       "187579           82.0               0.16                1.0   0.0    0   \n",
       "189820         1557.0              15.93                1.0   0.0    0   \n",
       "36846          1600.0               4.18                0.0   0.0    0   \n",
       "158873         8198.0              46.35                2.0   0.0    0   \n",
       "165251           36.0               6.60                1.0   0.0    0   \n",
       "77285            40.0               0.48                1.0   0.0    0   \n",
       "87908           851.0               5.31                1.0   0.0    0   \n",
       "15050           185.0               0.16                1.0   0.0    0   \n",
       "50141          6728.0              33.96                1.0   0.0    0   \n",
       "21340          3227.0              17.38                1.0   0.0    0   \n",
       "\n",
       "        miscellaneous_fees  total_fare  surge_applied  \\\n",
       "26437                0.000       0.000              0   \n",
       "51040                0.000       0.000              0   \n",
       "94702                0.000       0.000              0   \n",
       "31199                0.000       0.000              0   \n",
       "8930                 0.000       0.000              0   \n",
       "166232               0.500     112.500              0   \n",
       "2389                 0.000       0.000              0   \n",
       "185143               0.000       0.000              0   \n",
       "173371               0.000       0.000              0   \n",
       "167253               0.000       0.000              0   \n",
       "172568               0.000       0.000              0   \n",
       "204870               0.000       0.000              0   \n",
       "205775              49.125      49.125              0   \n",
       "201900               0.000       0.000              0   \n",
       "159711               0.000       0.000              0   \n",
       "180815               6.000       6.000              0   \n",
       "52342                0.000       0.000              0   \n",
       "105839               0.000       0.000              0   \n",
       "59377                0.000       0.000              0   \n",
       "152693               0.000       0.000              0   \n",
       "111484               0.000       0.000              0   \n",
       "170077               0.000       0.000              0   \n",
       "144966               0.000       0.000              0   \n",
       "160847               0.000       0.000              0   \n",
       "151465               0.000       0.000              0   \n",
       "110612               0.000       0.000              0   \n",
       "170595              26.625      26.625              1   \n",
       "169441               0.000       0.000              0   \n",
       "88237                6.000       6.000              0   \n",
       "159922               0.000       0.000              0   \n",
       "75581                0.000       0.000              0   \n",
       "149359               0.000       0.000              0   \n",
       "75850                0.000       0.000              0   \n",
       "129155               0.000       0.000              0   \n",
       "187579               0.000       0.000              0   \n",
       "189820               0.000       0.000              0   \n",
       "36846                0.000       0.000              0   \n",
       "158873               0.000       0.000              0   \n",
       "165251               0.000       0.000              0   \n",
       "77285                0.000       0.000              0   \n",
       "87908                0.000       0.000              0   \n",
       "15050                0.000       0.000              0   \n",
       "50141                0.000       0.000              0   \n",
       "21340                0.000       0.000              0   \n",
       "\n",
       "        final_fare_calculated_as_sum_of_components  \n",
       "26437                                        0.000  \n",
       "51040                                        0.000  \n",
       "94702                                        0.000  \n",
       "31199                                        0.000  \n",
       "8930                                         0.000  \n",
       "166232                                     112.500  \n",
       "2389                                         0.000  \n",
       "185143                                       0.000  \n",
       "173371                                       0.000  \n",
       "167253                                       0.000  \n",
       "172568                                       0.000  \n",
       "204870                                       0.000  \n",
       "205775                                      49.125  \n",
       "201900                                       0.000  \n",
       "159711                                       0.000  \n",
       "180815                                       6.000  \n",
       "52342                                        0.000  \n",
       "105839                                       0.000  \n",
       "59377                                        0.000  \n",
       "152693                                       0.000  \n",
       "111484                                       0.000  \n",
       "170077                                       0.000  \n",
       "144966                                       0.000  \n",
       "160847                                       0.000  \n",
       "151465                                       0.000  \n",
       "110612                                       0.000  \n",
       "170595                                      26.625  \n",
       "169441                                       0.000  \n",
       "88237                                        6.000  \n",
       "159922                                       0.000  \n",
       "75581                                        0.000  \n",
       "149359                                       0.000  \n",
       "75850                                        0.000  \n",
       "129155                                       0.000  \n",
       "187579                                       0.000  \n",
       "189820                                       0.000  \n",
       "36846                                        0.000  \n",
       "158873                                       0.000  \n",
       "165251                                       0.000  \n",
       "77285                                        0.000  \n",
       "87908                                        0.000  \n",
       "15050                                        0.000  \n",
       "50141                                        0.000  \n",
       "21340                                        0.000  "
      ]
     },
     "execution_count": 90,
     "metadata": {},
     "output_type": "execute_result"
    }
   ],
   "source": [
    "train_df.loc[comparing_dump_df[comparing_dump_df['Percentage Difference'] == np.inf].index]"
   ]
  },
  {
   "cell_type": "markdown",
   "id": "48f6c318",
   "metadata": {
    "papermill": {
     "duration": 0.044106,
     "end_time": "2023-06-27T15:11:59.897853",
     "exception": false,
     "start_time": "2023-06-27T15:11:59.853747",
     "status": "completed"
    },
    "tags": []
   },
   "source": [
    "Fare for these rides seems to be 0, why?\n",
    "1. There is no reason given, so assuming incorrect data\n",
    "2. This also resolves our issue of ~0.51 R2 Score (why is it low) - mostly due to these edge cases"
   ]
  },
  {
   "cell_type": "code",
   "execution_count": 91,
   "id": "6864b67e",
   "metadata": {
    "execution": {
     "iopub.execute_input": "2023-06-27T15:11:59.987279Z",
     "iopub.status.busy": "2023-06-27T15:11:59.986878Z",
     "iopub.status.idle": "2023-06-27T15:12:00.374795Z",
     "shell.execute_reply": "2023-06-27T15:12:00.373679Z"
    },
    "papermill": {
     "duration": 0.43508,
     "end_time": "2023-06-27T15:12:00.376892",
     "exception": false,
     "start_time": "2023-06-27T15:11:59.941812",
     "status": "completed"
    },
    "tags": []
   },
   "outputs": [
    {
     "data": {
      "image/png": "[encoded data removed]",
      "text/plain": [
       "<Figure size 640x480 with 1 Axes>"
      ]
     },
     "metadata": {},
     "output_type": "display_data"
    }
   ],
   "source": [
    "# Checking feature importance\n",
    "feature_importances = pd.DataFrame({'Feature': new_model_features, 'Importance': model.feature_importances_})\n",
    "\n",
    "# Sort the DataFrame by importance values in descending order\n",
    "feature_importances = feature_importances.sort_values('Importance', ascending=False)\n",
    "\n",
    "# Plot the feature importances\n",
    "sns.barplot(x='Importance', y='Feature', data=feature_importances, orient='h')\n",
    "plt.xlabel('Importance')\n",
    "plt.ylabel('Feature')\n",
    "plt.title('Feature Importances')\n",
    "plt.show()"
   ]
  },
  {
   "cell_type": "markdown",
   "id": "b547cb51",
   "metadata": {
    "papermill": {
     "duration": 0.044272,
     "end_time": "2023-06-27T15:12:00.466682",
     "exception": false,
     "start_time": "2023-06-27T15:12:00.422410",
     "status": "completed"
    },
    "tags": []
   },
   "source": [
    "1. All the self developed features are having little to 0 feature importance. Maybe due to same information already being extracted from original features\n",
    "2. Maybe new features are having 0 weights due to lack of training data in X_train, but present in X_test\n",
    "3. Distance travelled is highly important, can more meaningful features be created like bins based features (0-10kms, 10-20kms, etc)"
   ]
  },
  {
   "cell_type": "code",
   "execution_count": 77,
   "id": "ab5c4093",
   "metadata": {
    "execution": {
     "iopub.execute_input": "2023-06-27T15:12:00.559997Z",
     "iopub.status.busy": "2023-06-27T15:12:00.559591Z",
     "iopub.status.idle": "2023-06-27T15:12:00.567972Z",
     "shell.execute_reply": "2023-06-27T15:12:00.567251Z"
    },
    "papermill": {
     "duration": 0.056885,
     "end_time": "2023-06-27T15:12:00.569773",
     "exception": false,
     "start_time": "2023-06-27T15:12:00.512888",
     "status": "completed"
    },
    "tags": []
   },
   "outputs": [
    {
     "data": {
      "text/plain": [
       "is_big_vehicle\n",
       "0    131557\n",
       "1        22\n",
       "Name: count, dtype: int64"
      ]
     },
     "execution_count": 77,
     "metadata": {},
     "output_type": "execute_result"
    }
   ],
   "source": [
    "X_train['is_big_vehicle'].value_counts()"
   ]
  },
  {
   "cell_type": "markdown",
   "id": "f195159e",
   "metadata": {
    "papermill": {
     "duration": 0.044677,
     "end_time": "2023-06-27T15:12:00.659180",
     "exception": false,
     "start_time": "2023-06-27T15:12:00.614503",
     "status": "completed"
    },
    "tags": []
   },
   "source": [
    "Mostly looks like due to lack of training data it is showing this result\n",
    "* We can try CV on training data so it can learn the correct weights"
   ]
  },
  {
   "cell_type": "code",
   "execution_count": 78,
   "id": "49799ace",
   "metadata": {
    "execution": {
     "iopub.execute_input": "2023-06-27T15:12:00.752128Z",
     "iopub.status.busy": "2023-06-27T15:12:00.751247Z",
     "iopub.status.idle": "2023-06-27T15:12:00.759831Z",
     "shell.execute_reply": "2023-06-27T15:12:00.758893Z"
    },
    "papermill": {
     "duration": 0.056484,
     "end_time": "2023-06-27T15:12:00.761785",
     "exception": false,
     "start_time": "2023-06-27T15:12:00.705301",
     "status": "completed"
    },
    "tags": []
   },
   "outputs": [
    {
     "data": {
      "text/plain": [
       "is_out_of_station_ride\n",
       "0    131579\n",
       "Name: count, dtype: int64"
      ]
     },
     "execution_count": 78,
     "metadata": {},
     "output_type": "execute_result"
    }
   ],
   "source": [
    "X_train['is_out_of_station_ride'].value_counts()"
   ]
  },
  {
   "cell_type": "code",
   "execution_count": 79,
   "id": "078c81f9",
   "metadata": {
    "execution": {
     "iopub.execute_input": "2023-06-27T15:12:00.853115Z",
     "iopub.status.busy": "2023-06-27T15:12:00.852248Z",
     "iopub.status.idle": "2023-06-27T15:12:00.860453Z",
     "shell.execute_reply": "2023-06-27T15:12:00.859738Z"
    },
    "papermill": {
     "duration": 0.05598,
     "end_time": "2023-06-27T15:12:00.862378",
     "exception": false,
     "start_time": "2023-06-27T15:12:00.806398",
     "status": "completed"
    },
    "tags": []
   },
   "outputs": [
    {
     "data": {
      "text/plain": [
       "is_more_than_hour_ride\n",
       "0    131579\n",
       "Name: count, dtype: int64"
      ]
     },
     "execution_count": 79,
     "metadata": {},
     "output_type": "execute_result"
    }
   ],
   "source": [
    "X_train['is_more_than_hour_ride'].value_counts()"
   ]
  },
  {
   "cell_type": "code",
   "execution_count": null,
   "id": "cf0b7584",
   "metadata": {
    "papermill": {
     "duration": 0.045142,
     "end_time": "2023-06-27T15:12:00.953500",
     "exception": false,
     "start_time": "2023-06-27T15:12:00.908358",
     "status": "completed"
    },
    "tags": []
   },
   "outputs": [],
   "source": []
  },
  {
   "cell_type": "code",
   "execution_count": null,
   "id": "60454836",
   "metadata": {},
   "outputs": [],
   "source": []
  }
 ],
 "metadata": {
  "kernelspec": {
   "display_name": "Python 3 (ipykernel)",
   "language": "python",
   "name": "python3"
  },
  "language_info": {
   "codemirror_mode": {
    "name": "ipython",
    "version": 3
   },
   "file_extension": ".py",
   "mimetype": "text/x-python",
   "name": "python",
   "nbconvert_exporter": "python",
   "pygments_lexer": "ipython3",
   "version": "3.8.18"
  },
  "papermill": {
   "default_parameters": {},
   "duration": 116.39838,
   "end_time": "2023-06-27T15:12:02.623031",
   "environment_variables": {},
   "exception": null,
   "input_path": "__notebook__.ipynb",
   "output_path": "__notebook__.ipynb",
   "parameters": {},
   "start_time": "2023-06-27T15:10:06.224651",
   "version": "2.4.0"
  }
 },
 "nbformat": 4,
 "nbformat_minor": 5
}
